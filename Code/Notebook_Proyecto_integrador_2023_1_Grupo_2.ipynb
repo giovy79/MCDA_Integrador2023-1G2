{
  "cells": [
    {
      "attachments": {},
      "cell_type": "markdown",
      "metadata": {
        "id": "9GcLe8tYRc6g"
      },
      "source": [
        "#**Proyecto Integrador:**\n",
        "\n",
        "Integrantes:\n",
        "\n",
        "*   Andres Felipe Morales Martinez\n",
        "*   Giovanny Gómez Convers \n",
        "*   Laura Margarita Guerrero Guerra\n",
        "*   Sun Yin Huang Huang\n",
        "\n",
        "Universidad EAFIT\n",
        "\n",
        "2023-1"
      ]
    },
    {
      "attachments": {},
      "cell_type": "markdown",
      "metadata": {
        "id": "zfTiUzlhqsJj"
      },
      "source": [
        "## 00. Conexión S3"
      ]
    },
    {
      "cell_type": "code",
      "execution_count": null,
      "metadata": {
        "id": "bIiDyJUxPyz4"
      },
      "outputs": [],
      "source": [
        "#instalar java y spark\n",
        "!apt-get install openjdk-11-jdk-headless -qq > /dev/null\n",
        "!wget -q https://downloads.apache.org/spark/spark-3.3.2/spark-3.3.2-bin-hadoop3.tgz\n",
        "!tar xf spark-3.3.2-bin-hadoop3.tgz\n",
        "!pip install -q findspark"
      ]
    },
    {
      "cell_type": "code",
      "execution_count": null,
      "metadata": {
        "id": "hRwmWB-YP_2g"
      },
      "outputs": [],
      "source": [
        "import os\n",
        "os.environ[\"JAVA_HOME\"] = \"/usr/lib/jvm/java-11-openjdk-amd64\"\n",
        "os.environ[\"SPARK_HOME\"] = \"/content/spark-3.3.2-bin-hadoop3\""
      ]
    },
    {
      "cell_type": "code",
      "execution_count": null,
      "metadata": {
        "id": "4J7NIegUQCG4"
      },
      "outputs": [],
      "source": [
        "import findspark\n",
        "findspark.init()"
      ]
    },
    {
      "cell_type": "code",
      "execution_count": null,
      "metadata": {
        "id": "uBvTeRwIQEww"
      },
      "outputs": [],
      "source": [
        "from pyspark.sql import SparkSession\n",
        "\n",
        "# spark conectado con Amazon AWS:\n",
        "# OJO, LOS KEY Y TOKEN SE VENCEN CADA VEZ QUE SE APAGA EL LEARNER LAB, ENTONCES TOCA INICIAR Y TOMAR LOS NUEVOS desde la cuenta de ggomezco@eafit.edu.co....\n",
        "spark = SparkSession.builder \\\n",
        "    .appName(\"integrador2023LosEstocasticos\")\\\n",
        "    .master(\"local[*]\")\\\n",
        "    .config(\"spark.driver.memory\",\"16G\")\\\n",
        "    .config(\"spark.driver.maxResultSize\", \"0\") \\\n",
        "    .config(\"spark.kryoserializer.buffer.max\", \"2000M\")\\\n",
        "    .config(\"spark.jars.packages\", \"com.amazonaws:aws-java-sdk:1.11.1034,org.apache.hadoop:hadoop-aws:3.3.4\")\\\n",
        "    .config('fs.s3a.access.key', \"ADICIONAR KEY\")\\\n",
        "    .config('fs.s3a.secret.key', \"ADICIONAR SECRET\")\\\n",
        "    .config('fs.s3a.session.token',\"ADICIONAR TOKEN\")\\\n",
        "    .config('fs.s3a.path.style.access', 'true') \\\n",
        "    .config('fs.s3a.impl', 'org.apache.hadoop.fs.s3a.S3AFileSystem') \\\n",
        "    .config('fs.s3a.endpoint', 's3.amazonaws.com') \\\n",
        "    .getOrCreate()\n",
        "\n",
        "#create spark session object\n",
        "sc = spark.sparkContext"
      ]
    },
    {
      "cell_type": "code",
      "execution_count": null,
      "metadata": {
        "id": "nSJA-MciQbjp"
      },
      "outputs": [],
      "source": [
        "# conexión a tablas en zona silver para analisis e inicio de modelación\n",
        "dfGenerales = spark.read.parquet('s3a://integrador-grupo2/Silver/tablas/Generales/')\n",
        "dfOcupados  = spark.read.parquet('s3a://integrador-grupo2/Silver/tablas/Ocupados/')\n",
        "dfESTUDIO   = spark.read.parquet('s3a://integrador-grupo2/Silver/tablas/DataSetUnificado/') #ESTE ES EL DATASET DE ESTUDIO"
      ]
    },
    {
      "cell_type": "code",
      "execution_count": null,
      "metadata": {
        "colab": {
          "base_uri": "https://localhost:8080/"
        },
        "id": "xFxBzrefghto",
        "outputId": "fcff04fa-826b-46e9-a477-3b5673321551"
      },
      "outputs": [
        {
          "name": "stdout",
          "output_type": "stream",
          "text": [
            "root\n",
            " |-- directorio: long (nullable = true)\n",
            " |-- secuencia_p: long (nullable = true)\n",
            " |-- orden: long (nullable = true)\n",
            " |-- mes: long (nullable = true)\n",
            " |-- p3271: long (nullable = true)\n",
            " |-- p6040: long (nullable = true)\n",
            " |-- p6050: long (nullable = true)\n",
            " |-- p6080: long (nullable = true)\n",
            " |-- p6090: long (nullable = true)\n",
            " |-- p6100: double (nullable = true)\n",
            " |-- p3042: double (nullable = true)\n",
            " |-- clase: long (nullable = true)\n",
            " |-- area: double (nullable = true)\n",
            " |-- periodo: long (nullable = true)\n",
            " |-- dpto: long (nullable = true)\n",
            " |-- fex_c18: double (nullable = true)\n",
            " |-- lgbt_numerica: double (nullable = true)\n",
            " |-- discapacidad: double (nullable = true)\n",
            " |-- dificultad: double (nullable = true)\n",
            " |-- campesina: long (nullable = true)\n",
            "\n"
          ]
        }
      ],
      "source": [
        "dfGenerales.printSchema()"
      ]
    },
    {
      "cell_type": "code",
      "execution_count": null,
      "metadata": {
        "colab": {
          "base_uri": "https://localhost:8080/"
        },
        "id": "n4w2K9bthuOR",
        "outputId": "92a15875-bd8f-4601-8648-4431933c95de"
      },
      "outputs": [
        {
          "name": "stdout",
          "output_type": "stream",
          "text": [
            "root\n",
            " |-- directorio: long (nullable = true)\n",
            " |-- secuencia_p: long (nullable = true)\n",
            " |-- orden: long (nullable = true)\n",
            " |-- mes: long (nullable = true)\n",
            " |-- p7020: long (nullable = true)\n",
            " |-- clase: long (nullable = true)\n",
            " |-- area: long (nullable = true)\n",
            " |-- periodo: long (nullable = true)\n",
            " |-- dpto: long (nullable = true)\n",
            " |-- fex_c18: double (nullable = true)\n",
            " |-- p9440: long (nullable = true)\n",
            " |-- p6920: long (nullable = true)\n",
            " |-- oci: long (nullable = true)\n",
            " |-- inglabo: long (nullable = true)\n",
            " |-- p6915: long (nullable = true)\n",
            " |-- p6426: long (nullable = true)\n",
            " |-- p7170s1: long (nullable = true)\n",
            " |-- p515: long (nullable = true)\n",
            " |-- p3363: long (nullable = true)\n",
            "\n"
          ]
        }
      ],
      "source": [
        "dfOcupados.printSchema()"
      ]
    },
    {
      "cell_type": "code",
      "execution_count": null,
      "metadata": {
        "colab": {
          "base_uri": "https://localhost:8080/"
        },
        "id": "rYxQSNiJh2vJ",
        "outputId": "4faac6c6-88b9-40a4-bc20-58d936ec6444"
      },
      "outputs": [
        {
          "name": "stdout",
          "output_type": "stream",
          "text": [
            "+----------+-----------+-----+---+-----+-----+-----+-----+-----+-----+-----+-----+----+--------+----+------------+-------------+------------+----------+---------+\n",
            "|directorio|secuencia_p|orden|mes|p3271|p6040|p6050|p6080|p6090|p6100|p3042|clase|area| periodo|dpto|     fex_c18|lgbt_numerica|discapacidad|dificultad|campesina|\n",
            "+----------+-----------+-----+---+-----+-----+-----+-----+-----+-----+-----+-----+----+--------+----+------------+-------------+------------+----------+---------+\n",
            "|   7053581|          1|    4|  4|    1|   13|   13|    6|    1|  3.0|  4.0|    1| 5.0|20220417|   5|919.53239935|         null|         0.0|       0.0|        0|\n",
            "|   7053624|          1|    2|  4|    2|   32|    2|    6|    1|  1.0|  5.0|    1|null|20220417|   5|193.67415457|          0.0|         0.0|       0.0|        0|\n",
            "|   7053701|          1|    1|  4|    2|   47|    1|    6|    1|  1.0|  9.0|    1|11.0|20220417|  11|3470.8507613|          0.0|         0.0|       0.0|        0|\n",
            "|   7053708|          1|    3|  4|    2|   30|    3|    6|    1|  1.0| 10.0|    1|11.0|20220417|  11|3556.8379537|          0.0|         0.0|       0.0|        0|\n",
            "|   7053766|          1|    1|  4|    2|   37|    1|    6|    1|  3.0|  4.0|    1|15.0|20220417|  15|89.169274721|          0.0|         0.0|       0.0|        0|\n",
            "+----------+-----------+-----+---+-----+-----+-----+-----+-----+-----+-----+-----+----+--------+----+------------+-------------+------------+----------+---------+\n",
            "only showing top 5 rows\n",
            "\n"
          ]
        }
      ],
      "source": [
        "dfGenerales.show(5)"
      ]
    },
    {
      "cell_type": "code",
      "execution_count": null,
      "metadata": {
        "colab": {
          "base_uri": "https://localhost:8080/"
        },
        "id": "1lT0l5CCiC6Q",
        "outputId": "c68da528-99f3-44c9-f280-c2331223573e"
      },
      "outputs": [
        {
          "name": "stdout",
          "output_type": "stream",
          "text": [
            "+----------+-----------+-----+---+-----+-----+----+--------+----+------------+-----+-----+---+--------+-----+-----+-------+----+-----+\n",
            "|directorio|secuencia_p|orden|mes|p7020|clase|area| periodo|dpto|     fex_c18|p9440|p6920|oci| inglabo|p6915|p6426|p7170s1|p515|p3363|\n",
            "+----------+-----------+-----+---+-----+-----+----+--------+----+------------+-----+-----+---+--------+-----+-----+-------+----+-----+\n",
            "|   7273831|          1|    2| 11|    2|    1|  47|20221147|  47|265.10446827| null|    2|  1|  600000|    2|   12|      2|   1| null|\n",
            "|   7273894|          1|    1| 11|    1|    1|  50|20221147|  50|211.60996615|    1|    1|  1|10000000|    1|  180|      1|   1|    5|\n",
            "|   7273906|          1|    2| 11|    1|    1|  50|20221147|  50|196.67052514|    2|    2|  1|  800000|    1|   12|      1|   1|    1|\n",
            "|   7274071|          1|    4| 11|    1|    1|  52|20221147|  52|91.125281954|    2|    1|  1| 2400000|    1|   12|      1|   1|    2|\n",
            "|   7274138|          1|    2| 11|    2|    1|  52|20221147|  52| 206.8020304|    2|    1|  1| 7000000|    1|   74|      1|   1|    2|\n",
            "+----------+-----------+-----+---+-----+-----+----+--------+----+------------+-----+-----+---+--------+-----+-----+-------+----+-----+\n",
            "only showing top 5 rows\n",
            "\n"
          ]
        }
      ],
      "source": [
        "dfOcupados.show(5)"
      ]
    },
    {
      "cell_type": "code",
      "execution_count": null,
      "metadata": {
        "colab": {
          "base_uri": "https://localhost:8080/"
        },
        "id": "ZtQROF1qm8wP",
        "outputId": "a38705f7-c4fc-4cf7-a7bb-15ef0e2d1c92"
      },
      "outputs": [
        {
          "name": "stdout",
          "output_type": "stream",
          "text": [
            "root\n",
            " |-- directorio_gen: long (nullable = true)\n",
            " |-- secuencia_p_gen: long (nullable = true)\n",
            " |-- orden_gen: long (nullable = true)\n",
            " |-- mes_gen: long (nullable = true)\n",
            " |-- clase_gen: long (nullable = true)\n",
            " |-- area_gen: double (nullable = true)\n",
            " |-- periodo_gen: long (nullable = true)\n",
            " |-- dpto_gen: long (nullable = true)\n",
            " |-- fex_c18_gen: double (nullable = true)\n",
            " |-- p3271_gen: long (nullable = true)\n",
            " |-- p6040_gen: long (nullable = true)\n",
            " |-- p6050_gen: long (nullable = true)\n",
            " |-- p6080_gen: long (nullable = true)\n",
            " |-- p6090_gen: long (nullable = true)\n",
            " |-- p6100_gen: double (nullable = true)\n",
            " |-- p3042_gen: double (nullable = true)\n",
            " |-- lgbt_numerica_gen: double (nullable = true)\n",
            " |-- discapacidad_gen: double (nullable = true)\n",
            " |-- dificultad_gen: double (nullable = true)\n",
            " |-- campesina_gen: long (nullable = true)\n",
            " |-- directorio_ocu: long (nullable = true)\n",
            " |-- secuencia_p_ocu: long (nullable = true)\n",
            " |-- orden_ocu: long (nullable = true)\n",
            " |-- mes_ocu: long (nullable = true)\n",
            " |-- clase_ocu: long (nullable = true)\n",
            " |-- area_ocu: long (nullable = true)\n",
            " |-- periodo_ocu: long (nullable = true)\n",
            " |-- dpto_ocu: long (nullable = true)\n",
            " |-- fex_c18_ocu: double (nullable = true)\n",
            " |-- p7020_ocu: long (nullable = true)\n",
            " |-- p9440_ocu: long (nullable = true)\n",
            " |-- p6920_ocu: long (nullable = true)\n",
            " |-- oci_ocu: long (nullable = true)\n",
            " |-- inglabo_ocu: long (nullable = true)\n",
            " |-- p6915_ocu: long (nullable = true)\n",
            " |-- p6426_ocu: long (nullable = true)\n",
            " |-- p7170s1_ocu: long (nullable = true)\n",
            " |-- p515_ocu: long (nullable = true)\n",
            " |-- p3363_ocu: long (nullable = true)\n",
            "\n"
          ]
        }
      ],
      "source": [
        "dfESTUDIO.printSchema()"
      ]
    },
    {
      "cell_type": "code",
      "execution_count": null,
      "metadata": {
        "colab": {
          "base_uri": "https://localhost:8080/"
        },
        "id": "WHg_5FNCogbn",
        "outputId": "f65850bf-fb5a-4074-b62b-676c0c2fea84"
      },
      "outputs": [
        {
          "name": "stdout",
          "output_type": "stream",
          "text": [
            "+--------------+---------------+---------+-------+---------+--------+-----------+--------+------------+---------+---------+---------+---------+---------+---------+---------+-----------------+----------------+--------------+-------------+--------------+---------------+---------+-------+---------+--------+-----------+--------+------------+---------+---------+---------+-------+-----------+---------+---------+-----------+--------+---------+\n",
            "|directorio_gen|secuencia_p_gen|orden_gen|mes_gen|clase_gen|area_gen|periodo_gen|dpto_gen| fex_c18_gen|p3271_gen|p6040_gen|p6050_gen|p6080_gen|p6090_gen|p6100_gen|p3042_gen|lgbt_numerica_gen|discapacidad_gen|dificultad_gen|campesina_gen|directorio_ocu|secuencia_p_ocu|orden_ocu|mes_ocu|clase_ocu|area_ocu|periodo_ocu|dpto_ocu| fex_c18_ocu|p7020_ocu|p9440_ocu|p6920_ocu|oci_ocu|inglabo_ocu|p6915_ocu|p6426_ocu|p7170s1_ocu|p515_ocu|p3363_ocu|\n",
            "+--------------+---------------+---------+-------+---------+--------+-----------+--------+------------+---------+---------+---------+---------+---------+---------+---------+-----------------+----------------+--------------+-------------+--------------+---------------+---------+-------+---------+--------+-----------+--------+------------+---------+---------+---------+-------+-----------+---------+---------+-----------+--------+---------+\n",
            "|       7054264|              1|        2|      4|        1|    52.0|   20220417|      52|143.12855669|        2|       16|        6|        6|        1|      2.0|      4.0|             null|             0.0|           0.0|            0|          null|           null|     null|   null|     null|    null|       null|    null|        null|     null|     null|     null|   null|       null|     null|     null|       null|    null|     null|\n",
            "|       7055401|              1|        1|      4|        2|    null|   20220417|      70|800.50066619|        1|       40|        1|        6|        1|      3.0|      3.0|              0.0|             0.0|           0.0|            1|       7055401|              1|        1|      4|        2|    null|   20220417|      70|800.50066619|        2|     null|        2|      1|     300000|        2|       72|          2|       1|     null|\n",
            "|       7056073|              1|        6|      4|        1|    null|   20220417|      54|1065.7793443|        2|        7|        3|        6|        2|     null|      3.0|             null|             0.0|           0.0|            0|          null|           null|     null|   null|     null|    null|       null|    null|        null|     null|     null|     null|   null|       null|     null|     null|       null|    null|     null|\n",
            "|       7059309|              1|        3|      4|        1|    50.0|   20220417|      50|265.50746358|        1|       10|        3|        6|        1|      1.0|      3.0|             null|             0.0|           0.0|            0|          null|           null|     null|   null|     null|    null|       null|    null|        null|     null|     null|     null|   null|       null|     null|     null|       null|    null|     null|\n",
            "|       7061740|              1|        3|      4|        1|    17.0|   20220414|      17|202.99162691|        2|       65|        3|        6|        1|      3.0|      3.0|              0.0|             1.0|           1.0|            0|          null|           null|     null|   null|     null|    null|       null|    null|        null|     null|     null|     null|   null|       null|     null|     null|       null|    null|     null|\n",
            "+--------------+---------------+---------+-------+---------+--------+-----------+--------+------------+---------+---------+---------+---------+---------+---------+---------+-----------------+----------------+--------------+-------------+--------------+---------------+---------+-------+---------+--------+-----------+--------+------------+---------+---------+---------+-------+-----------+---------+---------+-----------+--------+---------+\n",
            "only showing top 5 rows\n",
            "\n"
          ]
        }
      ],
      "source": [
        "dfESTUDIO.show(5)"
      ]
    },
    {
      "attachments": {},
      "cell_type": "markdown",
      "metadata": {
        "id": "ivjSPVs7Y2RL"
      },
      "source": [
        "## 01. Librerias"
      ]
    },
    {
      "cell_type": "code",
      "execution_count": null,
      "metadata": {
        "id": "BTHtSk2EY4FW"
      },
      "outputs": [],
      "source": [
        "import os\n",
        "import pandas as pd\n",
        "import numpy as np\n",
        "import matplotlib.pyplot as plt\n",
        "import seaborn as sns"
      ]
    },
    {
      "attachments": {},
      "cell_type": "markdown",
      "metadata": {
        "id": "KM4GMnuKY4SF"
      },
      "source": [
        "## 02. Carga desde S3 y selección de variables"
      ]
    },
    {
      "attachments": {},
      "cell_type": "markdown",
      "metadata": {
        "id": "x4FHW9iO3CRF"
      },
      "source": [
        "### 02.0. Cargue"
      ]
    },
    {
      "cell_type": "code",
      "execution_count": null,
      "metadata": {
        "id": "qOw0bhiQN6f3"
      },
      "outputs": [],
      "source": [
        "# llevar dataframe a pandas para tratamiento en filtros y modelación\n",
        "spark.conf.set(\"spark.sql.execution.arrow.enabled\", \"true\")\n",
        "geih_oci_2022 = dfESTUDIO.toPandas()"
      ]
    },
    {
      "cell_type": "code",
      "execution_count": null,
      "metadata": {
        "colab": {
          "base_uri": "https://localhost:8080/"
        },
        "id": "o03fl59RPyXf",
        "outputId": "4c1ba491-08aa-4c5b-fe70-50283b201613"
      },
      "outputs": [
        {
          "name": "stdout",
          "output_type": "stream",
          "text": [
            "<class 'pandas.core.frame.DataFrame'>\n",
            "RangeIndex: 919459 entries, 0 to 919458\n",
            "Data columns (total 39 columns):\n",
            " #   Column             Non-Null Count   Dtype  \n",
            "---  ------             --------------   -----  \n",
            " 0   directorio_gen     919459 non-null  int64  \n",
            " 1   secuencia_p_gen    919459 non-null  int64  \n",
            " 2   orden_gen          919459 non-null  int64  \n",
            " 3   mes_gen            919459 non-null  int64  \n",
            " 4   clase_gen          919459 non-null  int64  \n",
            " 5   area_gen           627349 non-null  float64\n",
            " 6   periodo_gen        919459 non-null  int64  \n",
            " 7   dpto_gen           919459 non-null  int64  \n",
            " 8   fex_c18_gen        919459 non-null  float64\n",
            " 9   p3271_gen          919459 non-null  int64  \n",
            " 10  p6040_gen          919459 non-null  int64  \n",
            " 11  p6050_gen          919459 non-null  int64  \n",
            " 12  p6080_gen          919459 non-null  int64  \n",
            " 13  p6090_gen          919459 non-null  int64  \n",
            " 14  p6100_gen          865589 non-null  float64\n",
            " 15  p3042_gen          885815 non-null  float64\n",
            " 16  lgbt_numerica_gen  667651 non-null  float64\n",
            " 17  discapacidad_gen   859573 non-null  float64\n",
            " 18  dificultad_gen     859573 non-null  float64\n",
            " 19  campesina_gen      919459 non-null  int64  \n",
            " 20  directorio_ocu     382461 non-null  float64\n",
            " 21  secuencia_p_ocu    382461 non-null  float64\n",
            " 22  orden_ocu          382461 non-null  float64\n",
            " 23  mes_ocu            382461 non-null  float64\n",
            " 24  clase_ocu          382461 non-null  float64\n",
            " 25  area_ocu           265347 non-null  float64\n",
            " 26  periodo_ocu        382461 non-null  float64\n",
            " 27  dpto_ocu           382461 non-null  float64\n",
            " 28  fex_c18_ocu        382461 non-null  float64\n",
            " 29  p7020_ocu          382461 non-null  float64\n",
            " 30  p9440_ocu          196927 non-null  float64\n",
            " 31  p6920_ocu          382461 non-null  float64\n",
            " 32  oci_ocu            382461 non-null  float64\n",
            " 33  inglabo_ocu        364021 non-null  float64\n",
            " 34  p6915_ocu          382461 non-null  float64\n",
            " 35  p6426_ocu          382461 non-null  float64\n",
            " 36  p7170s1_ocu        382461 non-null  float64\n",
            " 37  p515_ocu           382461 non-null  float64\n",
            " 38  p3363_ocu          196927 non-null  float64\n",
            "dtypes: float64(26), int64(13)\n",
            "memory usage: 273.6 MB\n"
          ]
        }
      ],
      "source": [
        "geih_oci_2022.info()"
      ]
    },
    {
      "cell_type": "code",
      "execution_count": null,
      "metadata": {
        "id": "qyilnVFKVWhW"
      },
      "outputs": [],
      "source": [
        "# EN ESTA CELDA SELECCIONAMOS LAS VARIABLES DEL DATASET dfESTUDIO\n",
        "\n",
        "variables = ['directorio_gen','secuencia_p_gen','orden_gen','mes_gen','p3271_gen','p6040_gen', 'p6050_gen','p6080_gen','p6090_gen','p7020_ocu',\n",
        "             'p6100_gen','p3042_gen','clase_gen','dpto_gen','fex_c18_gen','p9440_ocu','p6920_ocu','oci_ocu','inglabo_ocu','p6915_ocu',\n",
        "             'p6426_ocu','p7170s1_ocu','p515_ocu','p3363_ocu','lgbt_numerica_gen','discapacidad_gen','dificultad_gen','campesina_gen']\n",
        "\n",
        "# Variables relevantes\n",
        "# ==============================================================================\n",
        "# variables = ['DIRECTORIO', 'SECUENCIA_P', 'ORDEN', 'MES', 'P3271', 'P6040', 'P6050', 'P6080', 'P6090', 'P7020', \n",
        "#             'P6100', 'P3042', 'CLASE', 'DPTO', 'FEX_C18', 'P9440', 'P6920', 'OCI', 'INGLABO','P6915', \n",
        "#             'P6426', 'P7170S1', 'P515', 'P3363', 'LGBT_Numerica', 'Discapacidad', 'Dificultad', 'Campesina'] "
      ]
    },
    {
      "cell_type": "code",
      "execution_count": null,
      "metadata": {
        "id": "taL2LzUUMLpQ"
      },
      "outputs": [],
      "source": [
        "muestra = geih_oci_2022[variables]"
      ]
    },
    {
      "cell_type": "code",
      "execution_count": null,
      "metadata": {
        "id": "MAbzrJg88K2p"
      },
      "outputs": [],
      "source": [
        "# Ordenar el dataframe \n",
        "# ==============================================================================\n",
        "muestra = muestra.sort_values(by=['directorio_gen', 'secuencia_p_gen'])"
      ]
    },
    {
      "cell_type": "code",
      "execution_count": null,
      "metadata": {
        "colab": {
          "base_uri": "https://localhost:8080/"
        },
        "id": "ymZ6DrwdMedF",
        "outputId": "f1e5a934-53a3-44e7-ff27-759b57c45fa8"
      },
      "outputs": [
        {
          "data": {
            "text/html": [
              "\n",
              "  <div id=\"df-798cc133-eba7-4bbb-a79f-2d27fcb866f3\">\n",
              "    <div class=\"colab-df-container\">\n",
              "      <div>\n",
              "<style scoped>\n",
              "    .dataframe tbody tr th:only-of-type {\n",
              "        vertical-align: middle;\n",
              "    }\n",
              "\n",
              "    .dataframe tbody tr th {\n",
              "        vertical-align: top;\n",
              "    }\n",
              "\n",
              "    .dataframe thead th {\n",
              "        text-align: right;\n",
              "    }\n",
              "</style>\n",
              "<table border=\"1\" class=\"dataframe\">\n",
              "  <thead>\n",
              "    <tr style=\"text-align: right;\">\n",
              "      <th></th>\n",
              "      <th>directorio_gen</th>\n",
              "      <th>secuencia_p_gen</th>\n",
              "      <th>orden_gen</th>\n",
              "      <th>mes_gen</th>\n",
              "      <th>p3271_gen</th>\n",
              "      <th>p6040_gen</th>\n",
              "      <th>p6050_gen</th>\n",
              "      <th>p6080_gen</th>\n",
              "      <th>p6090_gen</th>\n",
              "      <th>p7020_ocu</th>\n",
              "      <th>...</th>\n",
              "      <th>inglabo_ocu</th>\n",
              "      <th>p6915_ocu</th>\n",
              "      <th>p6426_ocu</th>\n",
              "      <th>p7170s1_ocu</th>\n",
              "      <th>p515_ocu</th>\n",
              "      <th>p3363_ocu</th>\n",
              "      <th>lgbt_numerica_gen</th>\n",
              "      <th>discapacidad_gen</th>\n",
              "      <th>dificultad_gen</th>\n",
              "      <th>campesina_gen</th>\n",
              "    </tr>\n",
              "  </thead>\n",
              "  <tbody>\n",
              "    <tr>\n",
              "      <th>88308</th>\n",
              "      <td>5000000</td>\n",
              "      <td>1</td>\n",
              "      <td>3</td>\n",
              "      <td>1</td>\n",
              "      <td>2</td>\n",
              "      <td>11</td>\n",
              "      <td>3</td>\n",
              "      <td>6</td>\n",
              "      <td>2</td>\n",
              "      <td>NaN</td>\n",
              "      <td>...</td>\n",
              "      <td>NaN</td>\n",
              "      <td>NaN</td>\n",
              "      <td>NaN</td>\n",
              "      <td>NaN</td>\n",
              "      <td>NaN</td>\n",
              "      <td>NaN</td>\n",
              "      <td>NaN</td>\n",
              "      <td>0.0</td>\n",
              "      <td>0.0</td>\n",
              "      <td>0</td>\n",
              "    </tr>\n",
              "    <tr>\n",
              "      <th>478476</th>\n",
              "      <td>5000000</td>\n",
              "      <td>1</td>\n",
              "      <td>2</td>\n",
              "      <td>1</td>\n",
              "      <td>2</td>\n",
              "      <td>31</td>\n",
              "      <td>2</td>\n",
              "      <td>6</td>\n",
              "      <td>2</td>\n",
              "      <td>NaN</td>\n",
              "      <td>...</td>\n",
              "      <td>NaN</td>\n",
              "      <td>NaN</td>\n",
              "      <td>NaN</td>\n",
              "      <td>NaN</td>\n",
              "      <td>NaN</td>\n",
              "      <td>NaN</td>\n",
              "      <td>0.0</td>\n",
              "      <td>0.0</td>\n",
              "      <td>0.0</td>\n",
              "      <td>1</td>\n",
              "    </tr>\n",
              "    <tr>\n",
              "      <th>567377</th>\n",
              "      <td>5000000</td>\n",
              "      <td>1</td>\n",
              "      <td>5</td>\n",
              "      <td>1</td>\n",
              "      <td>1</td>\n",
              "      <td>3</td>\n",
              "      <td>3</td>\n",
              "      <td>6</td>\n",
              "      <td>2</td>\n",
              "      <td>NaN</td>\n",
              "      <td>...</td>\n",
              "      <td>NaN</td>\n",
              "      <td>NaN</td>\n",
              "      <td>NaN</td>\n",
              "      <td>NaN</td>\n",
              "      <td>NaN</td>\n",
              "      <td>NaN</td>\n",
              "      <td>NaN</td>\n",
              "      <td>NaN</td>\n",
              "      <td>NaN</td>\n",
              "      <td>0</td>\n",
              "    </tr>\n",
              "    <tr>\n",
              "      <th>579609</th>\n",
              "      <td>5000000</td>\n",
              "      <td>1</td>\n",
              "      <td>1</td>\n",
              "      <td>1</td>\n",
              "      <td>1</td>\n",
              "      <td>33</td>\n",
              "      <td>1</td>\n",
              "      <td>6</td>\n",
              "      <td>2</td>\n",
              "      <td>1.0</td>\n",
              "      <td>...</td>\n",
              "      <td>768000.0</td>\n",
              "      <td>4.0</td>\n",
              "      <td>36.0</td>\n",
              "      <td>2.0</td>\n",
              "      <td>1.0</td>\n",
              "      <td>1.0</td>\n",
              "      <td>0.0</td>\n",
              "      <td>0.0</td>\n",
              "      <td>0.0</td>\n",
              "      <td>0</td>\n",
              "    </tr>\n",
              "    <tr>\n",
              "      <th>627564</th>\n",
              "      <td>5000000</td>\n",
              "      <td>1</td>\n",
              "      <td>6</td>\n",
              "      <td>1</td>\n",
              "      <td>2</td>\n",
              "      <td>76</td>\n",
              "      <td>4</td>\n",
              "      <td>6</td>\n",
              "      <td>2</td>\n",
              "      <td>NaN</td>\n",
              "      <td>...</td>\n",
              "      <td>NaN</td>\n",
              "      <td>NaN</td>\n",
              "      <td>NaN</td>\n",
              "      <td>NaN</td>\n",
              "      <td>NaN</td>\n",
              "      <td>NaN</td>\n",
              "      <td>0.0</td>\n",
              "      <td>0.0</td>\n",
              "      <td>0.0</td>\n",
              "      <td>0</td>\n",
              "    </tr>\n",
              "  </tbody>\n",
              "</table>\n",
              "<p>5 rows × 28 columns</p>\n",
              "</div>\n",
              "      <button class=\"colab-df-convert\" onclick=\"convertToInteractive('df-798cc133-eba7-4bbb-a79f-2d27fcb866f3')\"\n",
              "              title=\"Convert this dataframe to an interactive table.\"\n",
              "              style=\"display:none;\">\n",
              "        \n",
              "  <svg xmlns=\"http://www.w3.org/2000/svg\" height=\"24px\"viewBox=\"0 0 24 24\"\n",
              "       width=\"24px\">\n",
              "    <path d=\"M0 0h24v24H0V0z\" fill=\"none\"/>\n",
              "    <path d=\"M18.56 5.44l.94 2.06.94-2.06 2.06-.94-2.06-.94-.94-2.06-.94 2.06-2.06.94zm-11 1L8.5 8.5l.94-2.06 2.06-.94-2.06-.94L8.5 2.5l-.94 2.06-2.06.94zm10 10l.94 2.06.94-2.06 2.06-.94-2.06-.94-.94-2.06-.94 2.06-2.06.94z\"/><path d=\"M17.41 7.96l-1.37-1.37c-.4-.4-.92-.59-1.43-.59-.52 0-1.04.2-1.43.59L10.3 9.45l-7.72 7.72c-.78.78-.78 2.05 0 2.83L4 21.41c.39.39.9.59 1.41.59.51 0 1.02-.2 1.41-.59l7.78-7.78 2.81-2.81c.8-.78.8-2.07 0-2.86zM5.41 20L4 18.59l7.72-7.72 1.47 1.35L5.41 20z\"/>\n",
              "  </svg>\n",
              "      </button>\n",
              "      \n",
              "  <style>\n",
              "    .colab-df-container {\n",
              "      display:flex;\n",
              "      flex-wrap:wrap;\n",
              "      gap: 12px;\n",
              "    }\n",
              "\n",
              "    .colab-df-convert {\n",
              "      background-color: #E8F0FE;\n",
              "      border: none;\n",
              "      border-radius: 50%;\n",
              "      cursor: pointer;\n",
              "      display: none;\n",
              "      fill: #1967D2;\n",
              "      height: 32px;\n",
              "      padding: 0 0 0 0;\n",
              "      width: 32px;\n",
              "    }\n",
              "\n",
              "    .colab-df-convert:hover {\n",
              "      background-color: #E2EBFA;\n",
              "      box-shadow: 0px 1px 2px rgba(60, 64, 67, 0.3), 0px 1px 3px 1px rgba(60, 64, 67, 0.15);\n",
              "      fill: #174EA6;\n",
              "    }\n",
              "\n",
              "    [theme=dark] .colab-df-convert {\n",
              "      background-color: #3B4455;\n",
              "      fill: #D2E3FC;\n",
              "    }\n",
              "\n",
              "    [theme=dark] .colab-df-convert:hover {\n",
              "      background-color: #434B5C;\n",
              "      box-shadow: 0px 1px 3px 1px rgba(0, 0, 0, 0.15);\n",
              "      filter: drop-shadow(0px 1px 2px rgba(0, 0, 0, 0.3));\n",
              "      fill: #FFFFFF;\n",
              "    }\n",
              "  </style>\n",
              "\n",
              "      <script>\n",
              "        const buttonEl =\n",
              "          document.querySelector('#df-798cc133-eba7-4bbb-a79f-2d27fcb866f3 button.colab-df-convert');\n",
              "        buttonEl.style.display =\n",
              "          google.colab.kernel.accessAllowed ? 'block' : 'none';\n",
              "\n",
              "        async function convertToInteractive(key) {\n",
              "          const element = document.querySelector('#df-798cc133-eba7-4bbb-a79f-2d27fcb866f3');\n",
              "          const dataTable =\n",
              "            await google.colab.kernel.invokeFunction('convertToInteractive',\n",
              "                                                     [key], {});\n",
              "          if (!dataTable) return;\n",
              "\n",
              "          const docLinkHtml = 'Like what you see? Visit the ' +\n",
              "            '<a target=\"_blank\" href=https://colab.research.google.com/notebooks/data_table.ipynb>data table notebook</a>'\n",
              "            + ' to learn more about interactive tables.';\n",
              "          element.innerHTML = '';\n",
              "          dataTable['output_type'] = 'display_data';\n",
              "          await google.colab.output.renderOutput(dataTable, element);\n",
              "          const docLink = document.createElement('div');\n",
              "          docLink.innerHTML = docLinkHtml;\n",
              "          element.appendChild(docLink);\n",
              "        }\n",
              "      </script>\n",
              "    </div>\n",
              "  </div>\n",
              "  "
            ],
            "text/plain": [
              "        directorio_gen  secuencia_p_gen  orden_gen  mes_gen  p3271_gen  \\\n",
              "88308          5000000                1          3        1          2   \n",
              "478476         5000000                1          2        1          2   \n",
              "567377         5000000                1          5        1          1   \n",
              "579609         5000000                1          1        1          1   \n",
              "627564         5000000                1          6        1          2   \n",
              "\n",
              "        p6040_gen  p6050_gen  p6080_gen  p6090_gen  p7020_ocu  ...  \\\n",
              "88308          11          3          6          2        NaN  ...   \n",
              "478476         31          2          6          2        NaN  ...   \n",
              "567377          3          3          6          2        NaN  ...   \n",
              "579609         33          1          6          2        1.0  ...   \n",
              "627564         76          4          6          2        NaN  ...   \n",
              "\n",
              "        inglabo_ocu  p6915_ocu  p6426_ocu  p7170s1_ocu  p515_ocu  p3363_ocu  \\\n",
              "88308           NaN        NaN        NaN          NaN       NaN        NaN   \n",
              "478476          NaN        NaN        NaN          NaN       NaN        NaN   \n",
              "567377          NaN        NaN        NaN          NaN       NaN        NaN   \n",
              "579609     768000.0        4.0       36.0          2.0       1.0        1.0   \n",
              "627564          NaN        NaN        NaN          NaN       NaN        NaN   \n",
              "\n",
              "        lgbt_numerica_gen  discapacidad_gen  dificultad_gen  campesina_gen  \n",
              "88308                 NaN               0.0             0.0              0  \n",
              "478476                0.0               0.0             0.0              1  \n",
              "567377                NaN               NaN             NaN              0  \n",
              "579609                0.0               0.0             0.0              0  \n",
              "627564                0.0               0.0             0.0              0  \n",
              "\n",
              "[5 rows x 28 columns]"
            ]
          },
          "execution_count": 142,
          "metadata": {},
          "output_type": "execute_result"
        }
      ],
      "source": [
        "muestra.head(5)"
      ]
    },
    {
      "cell_type": "code",
      "execution_count": null,
      "metadata": {
        "colab": {
          "base_uri": "https://localhost:8080/"
        },
        "id": "06ZcVKviSak9",
        "outputId": "220998c1-045f-4973-d369-a8c96f6b42ce"
      },
      "outputs": [
        {
          "data": {
            "text/plain": [
              "(919459, 28)"
            ]
          },
          "execution_count": 143,
          "metadata": {},
          "output_type": "execute_result"
        }
      ],
      "source": [
        "muestra.shape"
      ]
    },
    {
      "attachments": {},
      "cell_type": "markdown",
      "metadata": {
        "id": "d67P1hQTNsNa"
      },
      "source": [
        "### 02.1. Filtros "
      ]
    },
    {
      "attachments": {},
      "cell_type": "markdown",
      "metadata": {
        "id": "dOG6KxKNH0ya"
      },
      "source": [
        "#### Hogares que se componen por un padre/madre e hijo"
      ]
    },
    {
      "cell_type": "code",
      "execution_count": null,
      "metadata": {
        "colab": {
          "base_uri": "https://localhost:8080/"
        },
        "id": "aONzFVO_Pid6",
        "outputId": "d776ca9c-d69f-4b25-b9d9-e5915f5f7940"
      },
      "outputs": [
        {
          "data": {
            "text/html": [
              "\n",
              "  <div id=\"df-748d8bcc-88f9-407e-b3d3-a2d237f5fdc6\">\n",
              "    <div class=\"colab-df-container\">\n",
              "      <div>\n",
              "<style scoped>\n",
              "    .dataframe tbody tr th:only-of-type {\n",
              "        vertical-align: middle;\n",
              "    }\n",
              "\n",
              "    .dataframe tbody tr th {\n",
              "        vertical-align: top;\n",
              "    }\n",
              "\n",
              "    .dataframe thead th {\n",
              "        text-align: right;\n",
              "    }\n",
              "</style>\n",
              "<table border=\"1\" class=\"dataframe\">\n",
              "  <thead>\n",
              "    <tr style=\"text-align: right;\">\n",
              "      <th></th>\n",
              "      <th>directorio_gen</th>\n",
              "    </tr>\n",
              "    <tr>\n",
              "      <th>p6050_gen</th>\n",
              "      <th></th>\n",
              "    </tr>\n",
              "  </thead>\n",
              "  <tbody>\n",
              "    <tr>\n",
              "      <th>1</th>\n",
              "      <td>304459</td>\n",
              "    </tr>\n",
              "    <tr>\n",
              "      <th>2</th>\n",
              "      <td>153268</td>\n",
              "    </tr>\n",
              "    <tr>\n",
              "      <th>3</th>\n",
              "      <td>321465</td>\n",
              "    </tr>\n",
              "    <tr>\n",
              "      <th>4</th>\n",
              "      <td>14735</td>\n",
              "    </tr>\n",
              "    <tr>\n",
              "      <th>5</th>\n",
              "      <td>4320</td>\n",
              "    </tr>\n",
              "    <tr>\n",
              "      <th>6</th>\n",
              "      <td>17483</td>\n",
              "    </tr>\n",
              "    <tr>\n",
              "      <th>7</th>\n",
              "      <td>10748</td>\n",
              "    </tr>\n",
              "    <tr>\n",
              "      <th>8</th>\n",
              "      <td>56757</td>\n",
              "    </tr>\n",
              "    <tr>\n",
              "      <th>9</th>\n",
              "      <td>23684</td>\n",
              "    </tr>\n",
              "    <tr>\n",
              "      <th>10</th>\n",
              "      <td>1739</td>\n",
              "    </tr>\n",
              "    <tr>\n",
              "      <th>11</th>\n",
              "      <td>335</td>\n",
              "    </tr>\n",
              "    <tr>\n",
              "      <th>12</th>\n",
              "      <td>135</td>\n",
              "    </tr>\n",
              "    <tr>\n",
              "      <th>13</th>\n",
              "      <td>10331</td>\n",
              "    </tr>\n",
              "  </tbody>\n",
              "</table>\n",
              "</div>\n",
              "      <button class=\"colab-df-convert\" onclick=\"convertToInteractive('df-748d8bcc-88f9-407e-b3d3-a2d237f5fdc6')\"\n",
              "              title=\"Convert this dataframe to an interactive table.\"\n",
              "              style=\"display:none;\">\n",
              "        \n",
              "  <svg xmlns=\"http://www.w3.org/2000/svg\" height=\"24px\"viewBox=\"0 0 24 24\"\n",
              "       width=\"24px\">\n",
              "    <path d=\"M0 0h24v24H0V0z\" fill=\"none\"/>\n",
              "    <path d=\"M18.56 5.44l.94 2.06.94-2.06 2.06-.94-2.06-.94-.94-2.06-.94 2.06-2.06.94zm-11 1L8.5 8.5l.94-2.06 2.06-.94-2.06-.94L8.5 2.5l-.94 2.06-2.06.94zm10 10l.94 2.06.94-2.06 2.06-.94-2.06-.94-.94-2.06-.94 2.06-2.06.94z\"/><path d=\"M17.41 7.96l-1.37-1.37c-.4-.4-.92-.59-1.43-.59-.52 0-1.04.2-1.43.59L10.3 9.45l-7.72 7.72c-.78.78-.78 2.05 0 2.83L4 21.41c.39.39.9.59 1.41.59.51 0 1.02-.2 1.41-.59l7.78-7.78 2.81-2.81c.8-.78.8-2.07 0-2.86zM5.41 20L4 18.59l7.72-7.72 1.47 1.35L5.41 20z\"/>\n",
              "  </svg>\n",
              "      </button>\n",
              "      \n",
              "  <style>\n",
              "    .colab-df-container {\n",
              "      display:flex;\n",
              "      flex-wrap:wrap;\n",
              "      gap: 12px;\n",
              "    }\n",
              "\n",
              "    .colab-df-convert {\n",
              "      background-color: #E8F0FE;\n",
              "      border: none;\n",
              "      border-radius: 50%;\n",
              "      cursor: pointer;\n",
              "      display: none;\n",
              "      fill: #1967D2;\n",
              "      height: 32px;\n",
              "      padding: 0 0 0 0;\n",
              "      width: 32px;\n",
              "    }\n",
              "\n",
              "    .colab-df-convert:hover {\n",
              "      background-color: #E2EBFA;\n",
              "      box-shadow: 0px 1px 2px rgba(60, 64, 67, 0.3), 0px 1px 3px 1px rgba(60, 64, 67, 0.15);\n",
              "      fill: #174EA6;\n",
              "    }\n",
              "\n",
              "    [theme=dark] .colab-df-convert {\n",
              "      background-color: #3B4455;\n",
              "      fill: #D2E3FC;\n",
              "    }\n",
              "\n",
              "    [theme=dark] .colab-df-convert:hover {\n",
              "      background-color: #434B5C;\n",
              "      box-shadow: 0px 1px 3px 1px rgba(0, 0, 0, 0.15);\n",
              "      filter: drop-shadow(0px 1px 2px rgba(0, 0, 0, 0.3));\n",
              "      fill: #FFFFFF;\n",
              "    }\n",
              "  </style>\n",
              "\n",
              "      <script>\n",
              "        const buttonEl =\n",
              "          document.querySelector('#df-748d8bcc-88f9-407e-b3d3-a2d237f5fdc6 button.colab-df-convert');\n",
              "        buttonEl.style.display =\n",
              "          google.colab.kernel.accessAllowed ? 'block' : 'none';\n",
              "\n",
              "        async function convertToInteractive(key) {\n",
              "          const element = document.querySelector('#df-748d8bcc-88f9-407e-b3d3-a2d237f5fdc6');\n",
              "          const dataTable =\n",
              "            await google.colab.kernel.invokeFunction('convertToInteractive',\n",
              "                                                     [key], {});\n",
              "          if (!dataTable) return;\n",
              "\n",
              "          const docLinkHtml = 'Like what you see? Visit the ' +\n",
              "            '<a target=\"_blank\" href=https://colab.research.google.com/notebooks/data_table.ipynb>data table notebook</a>'\n",
              "            + ' to learn more about interactive tables.';\n",
              "          element.innerHTML = '';\n",
              "          dataTable['output_type'] = 'display_data';\n",
              "          await google.colab.output.renderOutput(dataTable, element);\n",
              "          const docLink = document.createElement('div');\n",
              "          docLink.innerHTML = docLinkHtml;\n",
              "          element.appendChild(docLink);\n",
              "        }\n",
              "      </script>\n",
              "    </div>\n",
              "  </div>\n",
              "  "
            ],
            "text/plain": [
              "           directorio_gen\n",
              "p6050_gen                \n",
              "1                  304459\n",
              "2                  153268\n",
              "3                  321465\n",
              "4                   14735\n",
              "5                    4320\n",
              "6                   17483\n",
              "7                   10748\n",
              "8                   56757\n",
              "9                   23684\n",
              "10                   1739\n",
              "11                    335\n",
              "12                    135\n",
              "13                  10331"
            ]
          },
          "execution_count": 144,
          "metadata": {},
          "output_type": "execute_result"
        }
      ],
      "source": [
        "muestra.groupby('p6050_gen')[['directorio_gen']].count()"
      ]
    },
    {
      "cell_type": "code",
      "execution_count": null,
      "metadata": {
        "id": "aCdwji1pHUoM"
      },
      "outputs": [],
      "source": [
        "# Información de al menos un hijo\n",
        "muestra['aux_hijo'] = (muestra['p6050_gen'] == 3).astype(int)"
      ]
    },
    {
      "cell_type": "code",
      "execution_count": null,
      "metadata": {
        "id": "vk2chgEFG1wn"
      },
      "outputs": [],
      "source": [
        "# Agrupar la variable auxiliar para todo el hogar\n",
        "muestra['hijo'] = muestra.groupby(['directorio_gen', 'secuencia_p_gen'])['aux_hijo'].transform('max')"
      ]
    },
    {
      "cell_type": "code",
      "execution_count": null,
      "metadata": {
        "colab": {
          "base_uri": "https://localhost:8080/"
        },
        "id": "KBMp3MeDILT3",
        "outputId": "e14b064c-7338-4a89-955c-94ae6ae1f38b"
      },
      "outputs": [
        {
          "data": {
            "text/html": [
              "\n",
              "  <div id=\"df-16fc46b7-3a4d-49cf-adc7-441f58fab7c5\">\n",
              "    <div class=\"colab-df-container\">\n",
              "      <div>\n",
              "<style scoped>\n",
              "    .dataframe tbody tr th:only-of-type {\n",
              "        vertical-align: middle;\n",
              "    }\n",
              "\n",
              "    .dataframe tbody tr th {\n",
              "        vertical-align: top;\n",
              "    }\n",
              "\n",
              "    .dataframe thead th {\n",
              "        text-align: right;\n",
              "    }\n",
              "</style>\n",
              "<table border=\"1\" class=\"dataframe\">\n",
              "  <thead>\n",
              "    <tr style=\"text-align: right;\">\n",
              "      <th></th>\n",
              "      <th>directorio_gen</th>\n",
              "    </tr>\n",
              "    <tr>\n",
              "      <th>hijo</th>\n",
              "      <th></th>\n",
              "    </tr>\n",
              "  </thead>\n",
              "  <tbody>\n",
              "    <tr>\n",
              "      <th>0</th>\n",
              "      <td>203201</td>\n",
              "    </tr>\n",
              "    <tr>\n",
              "      <th>1</th>\n",
              "      <td>716258</td>\n",
              "    </tr>\n",
              "  </tbody>\n",
              "</table>\n",
              "</div>\n",
              "      <button class=\"colab-df-convert\" onclick=\"convertToInteractive('df-16fc46b7-3a4d-49cf-adc7-441f58fab7c5')\"\n",
              "              title=\"Convert this dataframe to an interactive table.\"\n",
              "              style=\"display:none;\">\n",
              "        \n",
              "  <svg xmlns=\"http://www.w3.org/2000/svg\" height=\"24px\"viewBox=\"0 0 24 24\"\n",
              "       width=\"24px\">\n",
              "    <path d=\"M0 0h24v24H0V0z\" fill=\"none\"/>\n",
              "    <path d=\"M18.56 5.44l.94 2.06.94-2.06 2.06-.94-2.06-.94-.94-2.06-.94 2.06-2.06.94zm-11 1L8.5 8.5l.94-2.06 2.06-.94-2.06-.94L8.5 2.5l-.94 2.06-2.06.94zm10 10l.94 2.06.94-2.06 2.06-.94-2.06-.94-.94-2.06-.94 2.06-2.06.94z\"/><path d=\"M17.41 7.96l-1.37-1.37c-.4-.4-.92-.59-1.43-.59-.52 0-1.04.2-1.43.59L10.3 9.45l-7.72 7.72c-.78.78-.78 2.05 0 2.83L4 21.41c.39.39.9.59 1.41.59.51 0 1.02-.2 1.41-.59l7.78-7.78 2.81-2.81c.8-.78.8-2.07 0-2.86zM5.41 20L4 18.59l7.72-7.72 1.47 1.35L5.41 20z\"/>\n",
              "  </svg>\n",
              "      </button>\n",
              "      \n",
              "  <style>\n",
              "    .colab-df-container {\n",
              "      display:flex;\n",
              "      flex-wrap:wrap;\n",
              "      gap: 12px;\n",
              "    }\n",
              "\n",
              "    .colab-df-convert {\n",
              "      background-color: #E8F0FE;\n",
              "      border: none;\n",
              "      border-radius: 50%;\n",
              "      cursor: pointer;\n",
              "      display: none;\n",
              "      fill: #1967D2;\n",
              "      height: 32px;\n",
              "      padding: 0 0 0 0;\n",
              "      width: 32px;\n",
              "    }\n",
              "\n",
              "    .colab-df-convert:hover {\n",
              "      background-color: #E2EBFA;\n",
              "      box-shadow: 0px 1px 2px rgba(60, 64, 67, 0.3), 0px 1px 3px 1px rgba(60, 64, 67, 0.15);\n",
              "      fill: #174EA6;\n",
              "    }\n",
              "\n",
              "    [theme=dark] .colab-df-convert {\n",
              "      background-color: #3B4455;\n",
              "      fill: #D2E3FC;\n",
              "    }\n",
              "\n",
              "    [theme=dark] .colab-df-convert:hover {\n",
              "      background-color: #434B5C;\n",
              "      box-shadow: 0px 1px 3px 1px rgba(0, 0, 0, 0.15);\n",
              "      filter: drop-shadow(0px 1px 2px rgba(0, 0, 0, 0.3));\n",
              "      fill: #FFFFFF;\n",
              "    }\n",
              "  </style>\n",
              "\n",
              "      <script>\n",
              "        const buttonEl =\n",
              "          document.querySelector('#df-16fc46b7-3a4d-49cf-adc7-441f58fab7c5 button.colab-df-convert');\n",
              "        buttonEl.style.display =\n",
              "          google.colab.kernel.accessAllowed ? 'block' : 'none';\n",
              "\n",
              "        async function convertToInteractive(key) {\n",
              "          const element = document.querySelector('#df-16fc46b7-3a4d-49cf-adc7-441f58fab7c5');\n",
              "          const dataTable =\n",
              "            await google.colab.kernel.invokeFunction('convertToInteractive',\n",
              "                                                     [key], {});\n",
              "          if (!dataTable) return;\n",
              "\n",
              "          const docLinkHtml = 'Like what you see? Visit the ' +\n",
              "            '<a target=\"_blank\" href=https://colab.research.google.com/notebooks/data_table.ipynb>data table notebook</a>'\n",
              "            + ' to learn more about interactive tables.';\n",
              "          element.innerHTML = '';\n",
              "          dataTable['output_type'] = 'display_data';\n",
              "          await google.colab.output.renderOutput(dataTable, element);\n",
              "          const docLink = document.createElement('div');\n",
              "          docLink.innerHTML = docLinkHtml;\n",
              "          element.appendChild(docLink);\n",
              "        }\n",
              "      </script>\n",
              "    </div>\n",
              "  </div>\n",
              "  "
            ],
            "text/plain": [
              "      directorio_gen\n",
              "hijo                \n",
              "0             203201\n",
              "1             716258"
            ]
          },
          "execution_count": 147,
          "metadata": {},
          "output_type": "execute_result"
        }
      ],
      "source": [
        "muestra.groupby('hijo')[['directorio_gen']].count()"
      ]
    },
    {
      "cell_type": "code",
      "execution_count": null,
      "metadata": {
        "id": "dNs_MpPNI5ij"
      },
      "outputs": [],
      "source": [
        "# Borrar la información de hogares que no tienen hijos\n",
        "muestra = muestra[muestra['hijo'] == 1]\n",
        "#muestra"
      ]
    },
    {
      "attachments": {},
      "cell_type": "markdown",
      "metadata": {
        "id": "U5JBsiY-mj11"
      },
      "source": [
        "#### Hijo ocupado"
      ]
    },
    {
      "attachments": {},
      "cell_type": "markdown",
      "metadata": {
        "id": "Vb9FT8iBs20-"
      },
      "source": []
    },
    {
      "cell_type": "code",
      "execution_count": null,
      "metadata": {
        "colab": {
          "base_uri": "https://localhost:8080/"
        },
        "id": "yJZ8YfKWm1nW",
        "outputId": "6ea635d3-9482-4580-d322-36198a39aa55"
      },
      "outputs": [
        {
          "data": {
            "text/html": [
              "\n",
              "  <div id=\"df-bc3ea016-92a3-435b-978a-56c8ac9e06ae\">\n",
              "    <div class=\"colab-df-container\">\n",
              "      <div>\n",
              "<style scoped>\n",
              "    .dataframe tbody tr th:only-of-type {\n",
              "        vertical-align: middle;\n",
              "    }\n",
              "\n",
              "    .dataframe tbody tr th {\n",
              "        vertical-align: top;\n",
              "    }\n",
              "\n",
              "    .dataframe thead th {\n",
              "        text-align: right;\n",
              "    }\n",
              "</style>\n",
              "<table border=\"1\" class=\"dataframe\">\n",
              "  <thead>\n",
              "    <tr style=\"text-align: right;\">\n",
              "      <th></th>\n",
              "      <th></th>\n",
              "      <th>directorio_gen</th>\n",
              "    </tr>\n",
              "    <tr>\n",
              "      <th>oci_ocu</th>\n",
              "      <th>p6050_gen</th>\n",
              "      <th></th>\n",
              "    </tr>\n",
              "  </thead>\n",
              "  <tbody>\n",
              "    <tr>\n",
              "      <th rowspan=\"13\" valign=\"top\">1.0</th>\n",
              "      <th>1</th>\n",
              "      <td>126326</td>\n",
              "    </tr>\n",
              "    <tr>\n",
              "      <th>2</th>\n",
              "      <td>57918</td>\n",
              "    </tr>\n",
              "    <tr>\n",
              "      <th>3</th>\n",
              "      <td>71614</td>\n",
              "    </tr>\n",
              "    <tr>\n",
              "      <th>4</th>\n",
              "      <td>1260</td>\n",
              "    </tr>\n",
              "    <tr>\n",
              "      <th>5</th>\n",
              "      <td>530</td>\n",
              "    </tr>\n",
              "    <tr>\n",
              "      <th>6</th>\n",
              "      <td>3659</td>\n",
              "    </tr>\n",
              "    <tr>\n",
              "      <th>7</th>\n",
              "      <td>6342</td>\n",
              "    </tr>\n",
              "    <tr>\n",
              "      <th>8</th>\n",
              "      <td>3067</td>\n",
              "    </tr>\n",
              "    <tr>\n",
              "      <th>9</th>\n",
              "      <td>3487</td>\n",
              "    </tr>\n",
              "    <tr>\n",
              "      <th>10</th>\n",
              "      <td>957</td>\n",
              "    </tr>\n",
              "    <tr>\n",
              "      <th>11</th>\n",
              "      <td>58</td>\n",
              "    </tr>\n",
              "    <tr>\n",
              "      <th>12</th>\n",
              "      <td>52</td>\n",
              "    </tr>\n",
              "    <tr>\n",
              "      <th>13</th>\n",
              "      <td>2016</td>\n",
              "    </tr>\n",
              "  </tbody>\n",
              "</table>\n",
              "</div>\n",
              "      <button class=\"colab-df-convert\" onclick=\"convertToInteractive('df-bc3ea016-92a3-435b-978a-56c8ac9e06ae')\"\n",
              "              title=\"Convert this dataframe to an interactive table.\"\n",
              "              style=\"display:none;\">\n",
              "        \n",
              "  <svg xmlns=\"http://www.w3.org/2000/svg\" height=\"24px\"viewBox=\"0 0 24 24\"\n",
              "       width=\"24px\">\n",
              "    <path d=\"M0 0h24v24H0V0z\" fill=\"none\"/>\n",
              "    <path d=\"M18.56 5.44l.94 2.06.94-2.06 2.06-.94-2.06-.94-.94-2.06-.94 2.06-2.06.94zm-11 1L8.5 8.5l.94-2.06 2.06-.94-2.06-.94L8.5 2.5l-.94 2.06-2.06.94zm10 10l.94 2.06.94-2.06 2.06-.94-2.06-.94-.94-2.06-.94 2.06-2.06.94z\"/><path d=\"M17.41 7.96l-1.37-1.37c-.4-.4-.92-.59-1.43-.59-.52 0-1.04.2-1.43.59L10.3 9.45l-7.72 7.72c-.78.78-.78 2.05 0 2.83L4 21.41c.39.39.9.59 1.41.59.51 0 1.02-.2 1.41-.59l7.78-7.78 2.81-2.81c.8-.78.8-2.07 0-2.86zM5.41 20L4 18.59l7.72-7.72 1.47 1.35L5.41 20z\"/>\n",
              "  </svg>\n",
              "      </button>\n",
              "      \n",
              "  <style>\n",
              "    .colab-df-container {\n",
              "      display:flex;\n",
              "      flex-wrap:wrap;\n",
              "      gap: 12px;\n",
              "    }\n",
              "\n",
              "    .colab-df-convert {\n",
              "      background-color: #E8F0FE;\n",
              "      border: none;\n",
              "      border-radius: 50%;\n",
              "      cursor: pointer;\n",
              "      display: none;\n",
              "      fill: #1967D2;\n",
              "      height: 32px;\n",
              "      padding: 0 0 0 0;\n",
              "      width: 32px;\n",
              "    }\n",
              "\n",
              "    .colab-df-convert:hover {\n",
              "      background-color: #E2EBFA;\n",
              "      box-shadow: 0px 1px 2px rgba(60, 64, 67, 0.3), 0px 1px 3px 1px rgba(60, 64, 67, 0.15);\n",
              "      fill: #174EA6;\n",
              "    }\n",
              "\n",
              "    [theme=dark] .colab-df-convert {\n",
              "      background-color: #3B4455;\n",
              "      fill: #D2E3FC;\n",
              "    }\n",
              "\n",
              "    [theme=dark] .colab-df-convert:hover {\n",
              "      background-color: #434B5C;\n",
              "      box-shadow: 0px 1px 3px 1px rgba(0, 0, 0, 0.15);\n",
              "      filter: drop-shadow(0px 1px 2px rgba(0, 0, 0, 0.3));\n",
              "      fill: #FFFFFF;\n",
              "    }\n",
              "  </style>\n",
              "\n",
              "      <script>\n",
              "        const buttonEl =\n",
              "          document.querySelector('#df-bc3ea016-92a3-435b-978a-56c8ac9e06ae button.colab-df-convert');\n",
              "        buttonEl.style.display =\n",
              "          google.colab.kernel.accessAllowed ? 'block' : 'none';\n",
              "\n",
              "        async function convertToInteractive(key) {\n",
              "          const element = document.querySelector('#df-bc3ea016-92a3-435b-978a-56c8ac9e06ae');\n",
              "          const dataTable =\n",
              "            await google.colab.kernel.invokeFunction('convertToInteractive',\n",
              "                                                     [key], {});\n",
              "          if (!dataTable) return;\n",
              "\n",
              "          const docLinkHtml = 'Like what you see? Visit the ' +\n",
              "            '<a target=\"_blank\" href=https://colab.research.google.com/notebooks/data_table.ipynb>data table notebook</a>'\n",
              "            + ' to learn more about interactive tables.';\n",
              "          element.innerHTML = '';\n",
              "          dataTable['output_type'] = 'display_data';\n",
              "          await google.colab.output.renderOutput(dataTable, element);\n",
              "          const docLink = document.createElement('div');\n",
              "          docLink.innerHTML = docLinkHtml;\n",
              "          element.appendChild(docLink);\n",
              "        }\n",
              "      </script>\n",
              "    </div>\n",
              "  </div>\n",
              "  "
            ],
            "text/plain": [
              "                   directorio_gen\n",
              "oci_ocu p6050_gen                \n",
              "1.0     1                  126326\n",
              "        2                   57918\n",
              "        3                   71614\n",
              "        4                    1260\n",
              "        5                     530\n",
              "        6                    3659\n",
              "        7                    6342\n",
              "        8                    3067\n",
              "        9                    3487\n",
              "        10                    957\n",
              "        11                     58\n",
              "        12                     52\n",
              "        13                   2016"
            ]
          },
          "execution_count": 149,
          "metadata": {},
          "output_type": "execute_result"
        }
      ],
      "source": [
        "muestra.groupby(['oci_ocu','p6050_gen'])[['directorio_gen']].count()"
      ]
    },
    {
      "cell_type": "code",
      "execution_count": null,
      "metadata": {
        "id": "T6FSFEtQnStH"
      },
      "outputs": [],
      "source": [
        "# Hijo ocupado\n",
        "#muestra[(muestra['P6050'] == 3) & (muestra['OCI'] == 1)]\n",
        "muestra['aux_oci'] = np.where((muestra['p6050_gen'] == 3) & (muestra['oci_ocu'] == 1), 1, 0)"
      ]
    },
    {
      "cell_type": "code",
      "execution_count": null,
      "metadata": {
        "id": "K7DV45b3nGTc"
      },
      "outputs": [],
      "source": [
        "# Agrupar la variable auxiliar para todo el hogar\n",
        "muestra['hijo_oci'] = muestra.groupby(['directorio_gen', 'secuencia_p_gen'])['aux_oci'].transform('max')"
      ]
    },
    {
      "cell_type": "code",
      "execution_count": null,
      "metadata": {
        "colab": {
          "base_uri": "https://localhost:8080/"
        },
        "id": "LPwYBa86oS0_",
        "outputId": "44639f90-0d87-4675-f3a5-e01a2f102d60"
      },
      "outputs": [
        {
          "data": {
            "text/html": [
              "\n",
              "  <div id=\"df-d621fb46-770c-4364-8593-814811a97f46\">\n",
              "    <div class=\"colab-df-container\">\n",
              "      <div>\n",
              "<style scoped>\n",
              "    .dataframe tbody tr th:only-of-type {\n",
              "        vertical-align: middle;\n",
              "    }\n",
              "\n",
              "    .dataframe tbody tr th {\n",
              "        vertical-align: top;\n",
              "    }\n",
              "\n",
              "    .dataframe thead th {\n",
              "        text-align: right;\n",
              "    }\n",
              "</style>\n",
              "<table border=\"1\" class=\"dataframe\">\n",
              "  <thead>\n",
              "    <tr style=\"text-align: right;\">\n",
              "      <th></th>\n",
              "      <th>directorio_gen</th>\n",
              "    </tr>\n",
              "    <tr>\n",
              "      <th>hijo_oci</th>\n",
              "      <th></th>\n",
              "    </tr>\n",
              "  </thead>\n",
              "  <tbody>\n",
              "    <tr>\n",
              "      <th>0</th>\n",
              "      <td>475033</td>\n",
              "    </tr>\n",
              "    <tr>\n",
              "      <th>1</th>\n",
              "      <td>241225</td>\n",
              "    </tr>\n",
              "  </tbody>\n",
              "</table>\n",
              "</div>\n",
              "      <button class=\"colab-df-convert\" onclick=\"convertToInteractive('df-d621fb46-770c-4364-8593-814811a97f46')\"\n",
              "              title=\"Convert this dataframe to an interactive table.\"\n",
              "              style=\"display:none;\">\n",
              "        \n",
              "  <svg xmlns=\"http://www.w3.org/2000/svg\" height=\"24px\"viewBox=\"0 0 24 24\"\n",
              "       width=\"24px\">\n",
              "    <path d=\"M0 0h24v24H0V0z\" fill=\"none\"/>\n",
              "    <path d=\"M18.56 5.44l.94 2.06.94-2.06 2.06-.94-2.06-.94-.94-2.06-.94 2.06-2.06.94zm-11 1L8.5 8.5l.94-2.06 2.06-.94-2.06-.94L8.5 2.5l-.94 2.06-2.06.94zm10 10l.94 2.06.94-2.06 2.06-.94-2.06-.94-.94-2.06-.94 2.06-2.06.94z\"/><path d=\"M17.41 7.96l-1.37-1.37c-.4-.4-.92-.59-1.43-.59-.52 0-1.04.2-1.43.59L10.3 9.45l-7.72 7.72c-.78.78-.78 2.05 0 2.83L4 21.41c.39.39.9.59 1.41.59.51 0 1.02-.2 1.41-.59l7.78-7.78 2.81-2.81c.8-.78.8-2.07 0-2.86zM5.41 20L4 18.59l7.72-7.72 1.47 1.35L5.41 20z\"/>\n",
              "  </svg>\n",
              "      </button>\n",
              "      \n",
              "  <style>\n",
              "    .colab-df-container {\n",
              "      display:flex;\n",
              "      flex-wrap:wrap;\n",
              "      gap: 12px;\n",
              "    }\n",
              "\n",
              "    .colab-df-convert {\n",
              "      background-color: #E8F0FE;\n",
              "      border: none;\n",
              "      border-radius: 50%;\n",
              "      cursor: pointer;\n",
              "      display: none;\n",
              "      fill: #1967D2;\n",
              "      height: 32px;\n",
              "      padding: 0 0 0 0;\n",
              "      width: 32px;\n",
              "    }\n",
              "\n",
              "    .colab-df-convert:hover {\n",
              "      background-color: #E2EBFA;\n",
              "      box-shadow: 0px 1px 2px rgba(60, 64, 67, 0.3), 0px 1px 3px 1px rgba(60, 64, 67, 0.15);\n",
              "      fill: #174EA6;\n",
              "    }\n",
              "\n",
              "    [theme=dark] .colab-df-convert {\n",
              "      background-color: #3B4455;\n",
              "      fill: #D2E3FC;\n",
              "    }\n",
              "\n",
              "    [theme=dark] .colab-df-convert:hover {\n",
              "      background-color: #434B5C;\n",
              "      box-shadow: 0px 1px 3px 1px rgba(0, 0, 0, 0.15);\n",
              "      filter: drop-shadow(0px 1px 2px rgba(0, 0, 0, 0.3));\n",
              "      fill: #FFFFFF;\n",
              "    }\n",
              "  </style>\n",
              "\n",
              "      <script>\n",
              "        const buttonEl =\n",
              "          document.querySelector('#df-d621fb46-770c-4364-8593-814811a97f46 button.colab-df-convert');\n",
              "        buttonEl.style.display =\n",
              "          google.colab.kernel.accessAllowed ? 'block' : 'none';\n",
              "\n",
              "        async function convertToInteractive(key) {\n",
              "          const element = document.querySelector('#df-d621fb46-770c-4364-8593-814811a97f46');\n",
              "          const dataTable =\n",
              "            await google.colab.kernel.invokeFunction('convertToInteractive',\n",
              "                                                     [key], {});\n",
              "          if (!dataTable) return;\n",
              "\n",
              "          const docLinkHtml = 'Like what you see? Visit the ' +\n",
              "            '<a target=\"_blank\" href=https://colab.research.google.com/notebooks/data_table.ipynb>data table notebook</a>'\n",
              "            + ' to learn more about interactive tables.';\n",
              "          element.innerHTML = '';\n",
              "          dataTable['output_type'] = 'display_data';\n",
              "          await google.colab.output.renderOutput(dataTable, element);\n",
              "          const docLink = document.createElement('div');\n",
              "          docLink.innerHTML = docLinkHtml;\n",
              "          element.appendChild(docLink);\n",
              "        }\n",
              "      </script>\n",
              "    </div>\n",
              "  </div>\n",
              "  "
            ],
            "text/plain": [
              "          directorio_gen\n",
              "hijo_oci                \n",
              "0                 475033\n",
              "1                 241225"
            ]
          },
          "execution_count": 152,
          "metadata": {},
          "output_type": "execute_result"
        }
      ],
      "source": [
        "muestra.groupby('hijo_oci')[['directorio_gen']].count()"
      ]
    },
    {
      "cell_type": "code",
      "execution_count": null,
      "metadata": {
        "id": "cB5Z34_7oS0_"
      },
      "outputs": [],
      "source": [
        "# Borrar la información de hogares que no tienen hijos\n",
        "muestra = muestra[muestra['hijo_oci'] == 1]\n",
        "#muestra"
      ]
    },
    {
      "attachments": {},
      "cell_type": "markdown",
      "metadata": {
        "id": "HVjy3W7BM11y"
      },
      "source": [
        "#### Primer trabajo del hijo"
      ]
    },
    {
      "cell_type": "code",
      "execution_count": null,
      "metadata": {
        "colab": {
          "base_uri": "https://localhost:8080/"
        },
        "id": "fiDLgorEMrBs",
        "outputId": "7c11f1f2-744c-4b5a-a558-b396b42d9738"
      },
      "outputs": [
        {
          "data": {
            "text/html": [
              "\n",
              "  <div id=\"df-6ff4c687-507f-43f2-aa9f-bf1e43ab691d\">\n",
              "    <div class=\"colab-df-container\">\n",
              "      <div>\n",
              "<style scoped>\n",
              "    .dataframe tbody tr th:only-of-type {\n",
              "        vertical-align: middle;\n",
              "    }\n",
              "\n",
              "    .dataframe tbody tr th {\n",
              "        vertical-align: top;\n",
              "    }\n",
              "\n",
              "    .dataframe thead th {\n",
              "        text-align: right;\n",
              "    }\n",
              "</style>\n",
              "<table border=\"1\" class=\"dataframe\">\n",
              "  <thead>\n",
              "    <tr style=\"text-align: right;\">\n",
              "      <th></th>\n",
              "      <th></th>\n",
              "      <th>directorio_gen</th>\n",
              "    </tr>\n",
              "    <tr>\n",
              "      <th>p7020_ocu</th>\n",
              "      <th>p6050_gen</th>\n",
              "      <th></th>\n",
              "    </tr>\n",
              "  </thead>\n",
              "  <tbody>\n",
              "    <tr>\n",
              "      <th rowspan=\"13\" valign=\"top\">1.0</th>\n",
              "      <th>1</th>\n",
              "      <td>20951</td>\n",
              "    </tr>\n",
              "    <tr>\n",
              "      <th>2</th>\n",
              "      <td>7914</td>\n",
              "    </tr>\n",
              "    <tr>\n",
              "      <th>3</th>\n",
              "      <td>40099</td>\n",
              "    </tr>\n",
              "    <tr>\n",
              "      <th>4</th>\n",
              "      <td>89</td>\n",
              "    </tr>\n",
              "    <tr>\n",
              "      <th>5</th>\n",
              "      <td>40</td>\n",
              "    </tr>\n",
              "    <tr>\n",
              "      <th>6</th>\n",
              "      <td>547</td>\n",
              "    </tr>\n",
              "    <tr>\n",
              "      <th>7</th>\n",
              "      <td>2995</td>\n",
              "    </tr>\n",
              "    <tr>\n",
              "      <th>8</th>\n",
              "      <td>1051</td>\n",
              "    </tr>\n",
              "    <tr>\n",
              "      <th>9</th>\n",
              "      <td>710</td>\n",
              "    </tr>\n",
              "    <tr>\n",
              "      <th>10</th>\n",
              "      <td>121</td>\n",
              "    </tr>\n",
              "    <tr>\n",
              "      <th>11</th>\n",
              "      <td>17</td>\n",
              "    </tr>\n",
              "    <tr>\n",
              "      <th>12</th>\n",
              "      <td>15</td>\n",
              "    </tr>\n",
              "    <tr>\n",
              "      <th>13</th>\n",
              "      <td>470</td>\n",
              "    </tr>\n",
              "    <tr>\n",
              "      <th rowspan=\"12\" valign=\"top\">2.0</th>\n",
              "      <th>1</th>\n",
              "      <td>10090</td>\n",
              "    </tr>\n",
              "    <tr>\n",
              "      <th>2</th>\n",
              "      <td>4848</td>\n",
              "    </tr>\n",
              "    <tr>\n",
              "      <th>3</th>\n",
              "      <td>31515</td>\n",
              "    </tr>\n",
              "    <tr>\n",
              "      <th>4</th>\n",
              "      <td>47</td>\n",
              "    </tr>\n",
              "    <tr>\n",
              "      <th>5</th>\n",
              "      <td>12</td>\n",
              "    </tr>\n",
              "    <tr>\n",
              "      <th>6</th>\n",
              "      <td>283</td>\n",
              "    </tr>\n",
              "    <tr>\n",
              "      <th>7</th>\n",
              "      <td>1563</td>\n",
              "    </tr>\n",
              "    <tr>\n",
              "      <th>8</th>\n",
              "      <td>1198</td>\n",
              "    </tr>\n",
              "    <tr>\n",
              "      <th>9</th>\n",
              "      <td>469</td>\n",
              "    </tr>\n",
              "    <tr>\n",
              "      <th>10</th>\n",
              "      <td>67</td>\n",
              "    </tr>\n",
              "    <tr>\n",
              "      <th>11</th>\n",
              "      <td>11</td>\n",
              "    </tr>\n",
              "    <tr>\n",
              "      <th>13</th>\n",
              "      <td>234</td>\n",
              "    </tr>\n",
              "  </tbody>\n",
              "</table>\n",
              "</div>\n",
              "      <button class=\"colab-df-convert\" onclick=\"convertToInteractive('df-6ff4c687-507f-43f2-aa9f-bf1e43ab691d')\"\n",
              "              title=\"Convert this dataframe to an interactive table.\"\n",
              "              style=\"display:none;\">\n",
              "        \n",
              "  <svg xmlns=\"http://www.w3.org/2000/svg\" height=\"24px\"viewBox=\"0 0 24 24\"\n",
              "       width=\"24px\">\n",
              "    <path d=\"M0 0h24v24H0V0z\" fill=\"none\"/>\n",
              "    <path d=\"M18.56 5.44l.94 2.06.94-2.06 2.06-.94-2.06-.94-.94-2.06-.94 2.06-2.06.94zm-11 1L8.5 8.5l.94-2.06 2.06-.94-2.06-.94L8.5 2.5l-.94 2.06-2.06.94zm10 10l.94 2.06.94-2.06 2.06-.94-2.06-.94-.94-2.06-.94 2.06-2.06.94z\"/><path d=\"M17.41 7.96l-1.37-1.37c-.4-.4-.92-.59-1.43-.59-.52 0-1.04.2-1.43.59L10.3 9.45l-7.72 7.72c-.78.78-.78 2.05 0 2.83L4 21.41c.39.39.9.59 1.41.59.51 0 1.02-.2 1.41-.59l7.78-7.78 2.81-2.81c.8-.78.8-2.07 0-2.86zM5.41 20L4 18.59l7.72-7.72 1.47 1.35L5.41 20z\"/>\n",
              "  </svg>\n",
              "      </button>\n",
              "      \n",
              "  <style>\n",
              "    .colab-df-container {\n",
              "      display:flex;\n",
              "      flex-wrap:wrap;\n",
              "      gap: 12px;\n",
              "    }\n",
              "\n",
              "    .colab-df-convert {\n",
              "      background-color: #E8F0FE;\n",
              "      border: none;\n",
              "      border-radius: 50%;\n",
              "      cursor: pointer;\n",
              "      display: none;\n",
              "      fill: #1967D2;\n",
              "      height: 32px;\n",
              "      padding: 0 0 0 0;\n",
              "      width: 32px;\n",
              "    }\n",
              "\n",
              "    .colab-df-convert:hover {\n",
              "      background-color: #E2EBFA;\n",
              "      box-shadow: 0px 1px 2px rgba(60, 64, 67, 0.3), 0px 1px 3px 1px rgba(60, 64, 67, 0.15);\n",
              "      fill: #174EA6;\n",
              "    }\n",
              "\n",
              "    [theme=dark] .colab-df-convert {\n",
              "      background-color: #3B4455;\n",
              "      fill: #D2E3FC;\n",
              "    }\n",
              "\n",
              "    [theme=dark] .colab-df-convert:hover {\n",
              "      background-color: #434B5C;\n",
              "      box-shadow: 0px 1px 3px 1px rgba(0, 0, 0, 0.15);\n",
              "      filter: drop-shadow(0px 1px 2px rgba(0, 0, 0, 0.3));\n",
              "      fill: #FFFFFF;\n",
              "    }\n",
              "  </style>\n",
              "\n",
              "      <script>\n",
              "        const buttonEl =\n",
              "          document.querySelector('#df-6ff4c687-507f-43f2-aa9f-bf1e43ab691d button.colab-df-convert');\n",
              "        buttonEl.style.display =\n",
              "          google.colab.kernel.accessAllowed ? 'block' : 'none';\n",
              "\n",
              "        async function convertToInteractive(key) {\n",
              "          const element = document.querySelector('#df-6ff4c687-507f-43f2-aa9f-bf1e43ab691d');\n",
              "          const dataTable =\n",
              "            await google.colab.kernel.invokeFunction('convertToInteractive',\n",
              "                                                     [key], {});\n",
              "          if (!dataTable) return;\n",
              "\n",
              "          const docLinkHtml = 'Like what you see? Visit the ' +\n",
              "            '<a target=\"_blank\" href=https://colab.research.google.com/notebooks/data_table.ipynb>data table notebook</a>'\n",
              "            + ' to learn more about interactive tables.';\n",
              "          element.innerHTML = '';\n",
              "          dataTable['output_type'] = 'display_data';\n",
              "          await google.colab.output.renderOutput(dataTable, element);\n",
              "          const docLink = document.createElement('div');\n",
              "          docLink.innerHTML = docLinkHtml;\n",
              "          element.appendChild(docLink);\n",
              "        }\n",
              "      </script>\n",
              "    </div>\n",
              "  </div>\n",
              "  "
            ],
            "text/plain": [
              "                     directorio_gen\n",
              "p7020_ocu p6050_gen                \n",
              "1.0       1                   20951\n",
              "          2                    7914\n",
              "          3                   40099\n",
              "          4                      89\n",
              "          5                      40\n",
              "          6                     547\n",
              "          7                    2995\n",
              "          8                    1051\n",
              "          9                     710\n",
              "          10                    121\n",
              "          11                     17\n",
              "          12                     15\n",
              "          13                    470\n",
              "2.0       1                   10090\n",
              "          2                    4848\n",
              "          3                   31515\n",
              "          4                      47\n",
              "          5                      12\n",
              "          6                     283\n",
              "          7                    1563\n",
              "          8                    1198\n",
              "          9                     469\n",
              "          10                     67\n",
              "          11                     11\n",
              "          13                    234"
            ]
          },
          "execution_count": 154,
          "metadata": {},
          "output_type": "execute_result"
        }
      ],
      "source": [
        "# Antes del actual trabajo, ¿...Tuvo otro trabajo? 1. Si, 2. No\n",
        "muestra.groupby(['p7020_ocu','p6050_gen'])[['directorio_gen']].count()"
      ]
    },
    {
      "cell_type": "code",
      "execution_count": null,
      "metadata": {
        "id": "N4DOsNl8NMtV"
      },
      "outputs": [],
      "source": [
        "# Hijo ocupado con su primer trabajo\n",
        "#muestra[(muestra['P6050'] == 3) & (muestra['P7020'] == 2)]\n",
        "muestra['aux_primer'] = np.where((muestra['p6050_gen'] == 3) & (muestra['p7020_ocu'] == 2), 1, 0)"
      ]
    },
    {
      "cell_type": "code",
      "execution_count": null,
      "metadata": {
        "id": "US8qOKpCRXlu"
      },
      "outputs": [],
      "source": [
        "# Agrupar la variable auxiliar para todo el hogar\n",
        "muestra['primer'] = muestra.groupby(['directorio_gen', 'secuencia_p_gen'])['aux_primer'].transform('max')"
      ]
    },
    {
      "cell_type": "code",
      "execution_count": null,
      "metadata": {
        "colab": {
          "base_uri": "https://localhost:8080/"
        },
        "id": "s-L2R0jNRf0v",
        "outputId": "a5b2ea6c-7012-4243-f6ed-96d8918b1585"
      },
      "outputs": [
        {
          "data": {
            "text/html": [
              "\n",
              "  <div id=\"df-089228fd-f4d5-444c-b888-560c112e1fc4\">\n",
              "    <div class=\"colab-df-container\">\n",
              "      <div>\n",
              "<style scoped>\n",
              "    .dataframe tbody tr th:only-of-type {\n",
              "        vertical-align: middle;\n",
              "    }\n",
              "\n",
              "    .dataframe tbody tr th {\n",
              "        vertical-align: top;\n",
              "    }\n",
              "\n",
              "    .dataframe thead th {\n",
              "        text-align: right;\n",
              "    }\n",
              "</style>\n",
              "<table border=\"1\" class=\"dataframe\">\n",
              "  <thead>\n",
              "    <tr style=\"text-align: right;\">\n",
              "      <th></th>\n",
              "      <th>directorio_gen</th>\n",
              "    </tr>\n",
              "    <tr>\n",
              "      <th>primer</th>\n",
              "      <th></th>\n",
              "    </tr>\n",
              "  </thead>\n",
              "  <tbody>\n",
              "    <tr>\n",
              "      <th>0</th>\n",
              "      <td>120716</td>\n",
              "    </tr>\n",
              "    <tr>\n",
              "      <th>1</th>\n",
              "      <td>120509</td>\n",
              "    </tr>\n",
              "  </tbody>\n",
              "</table>\n",
              "</div>\n",
              "      <button class=\"colab-df-convert\" onclick=\"convertToInteractive('df-089228fd-f4d5-444c-b888-560c112e1fc4')\"\n",
              "              title=\"Convert this dataframe to an interactive table.\"\n",
              "              style=\"display:none;\">\n",
              "        \n",
              "  <svg xmlns=\"http://www.w3.org/2000/svg\" height=\"24px\"viewBox=\"0 0 24 24\"\n",
              "       width=\"24px\">\n",
              "    <path d=\"M0 0h24v24H0V0z\" fill=\"none\"/>\n",
              "    <path d=\"M18.56 5.44l.94 2.06.94-2.06 2.06-.94-2.06-.94-.94-2.06-.94 2.06-2.06.94zm-11 1L8.5 8.5l.94-2.06 2.06-.94-2.06-.94L8.5 2.5l-.94 2.06-2.06.94zm10 10l.94 2.06.94-2.06 2.06-.94-2.06-.94-.94-2.06-.94 2.06-2.06.94z\"/><path d=\"M17.41 7.96l-1.37-1.37c-.4-.4-.92-.59-1.43-.59-.52 0-1.04.2-1.43.59L10.3 9.45l-7.72 7.72c-.78.78-.78 2.05 0 2.83L4 21.41c.39.39.9.59 1.41.59.51 0 1.02-.2 1.41-.59l7.78-7.78 2.81-2.81c.8-.78.8-2.07 0-2.86zM5.41 20L4 18.59l7.72-7.72 1.47 1.35L5.41 20z\"/>\n",
              "  </svg>\n",
              "      </button>\n",
              "      \n",
              "  <style>\n",
              "    .colab-df-container {\n",
              "      display:flex;\n",
              "      flex-wrap:wrap;\n",
              "      gap: 12px;\n",
              "    }\n",
              "\n",
              "    .colab-df-convert {\n",
              "      background-color: #E8F0FE;\n",
              "      border: none;\n",
              "      border-radius: 50%;\n",
              "      cursor: pointer;\n",
              "      display: none;\n",
              "      fill: #1967D2;\n",
              "      height: 32px;\n",
              "      padding: 0 0 0 0;\n",
              "      width: 32px;\n",
              "    }\n",
              "\n",
              "    .colab-df-convert:hover {\n",
              "      background-color: #E2EBFA;\n",
              "      box-shadow: 0px 1px 2px rgba(60, 64, 67, 0.3), 0px 1px 3px 1px rgba(60, 64, 67, 0.15);\n",
              "      fill: #174EA6;\n",
              "    }\n",
              "\n",
              "    [theme=dark] .colab-df-convert {\n",
              "      background-color: #3B4455;\n",
              "      fill: #D2E3FC;\n",
              "    }\n",
              "\n",
              "    [theme=dark] .colab-df-convert:hover {\n",
              "      background-color: #434B5C;\n",
              "      box-shadow: 0px 1px 3px 1px rgba(0, 0, 0, 0.15);\n",
              "      filter: drop-shadow(0px 1px 2px rgba(0, 0, 0, 0.3));\n",
              "      fill: #FFFFFF;\n",
              "    }\n",
              "  </style>\n",
              "\n",
              "      <script>\n",
              "        const buttonEl =\n",
              "          document.querySelector('#df-089228fd-f4d5-444c-b888-560c112e1fc4 button.colab-df-convert');\n",
              "        buttonEl.style.display =\n",
              "          google.colab.kernel.accessAllowed ? 'block' : 'none';\n",
              "\n",
              "        async function convertToInteractive(key) {\n",
              "          const element = document.querySelector('#df-089228fd-f4d5-444c-b888-560c112e1fc4');\n",
              "          const dataTable =\n",
              "            await google.colab.kernel.invokeFunction('convertToInteractive',\n",
              "                                                     [key], {});\n",
              "          if (!dataTable) return;\n",
              "\n",
              "          const docLinkHtml = 'Like what you see? Visit the ' +\n",
              "            '<a target=\"_blank\" href=https://colab.research.google.com/notebooks/data_table.ipynb>data table notebook</a>'\n",
              "            + ' to learn more about interactive tables.';\n",
              "          element.innerHTML = '';\n",
              "          dataTable['output_type'] = 'display_data';\n",
              "          await google.colab.output.renderOutput(dataTable, element);\n",
              "          const docLink = document.createElement('div');\n",
              "          docLink.innerHTML = docLinkHtml;\n",
              "          element.appendChild(docLink);\n",
              "        }\n",
              "      </script>\n",
              "    </div>\n",
              "  </div>\n",
              "  "
            ],
            "text/plain": [
              "        directorio_gen\n",
              "primer                \n",
              "0               120716\n",
              "1               120509"
            ]
          },
          "execution_count": 157,
          "metadata": {},
          "output_type": "execute_result"
        }
      ],
      "source": [
        "muestra.groupby('primer')[['directorio_gen']].count()"
      ]
    },
    {
      "cell_type": "code",
      "execution_count": null,
      "metadata": {
        "id": "Ccno9cLwRf0v"
      },
      "outputs": [],
      "source": [
        "# Borrar la información de hogares que no tienen hijos\n",
        "muestra = muestra[muestra['primer'] == 1]\n",
        "#muestra"
      ]
    },
    {
      "cell_type": "code",
      "execution_count": null,
      "metadata": {
        "colab": {
          "base_uri": "https://localhost:8080/"
        },
        "id": "jnRN8ZawmM_j",
        "outputId": "2886673a-045f-4e89-cb91-2ce5701d0f35"
      },
      "outputs": [
        {
          "data": {
            "text/plain": [
              "27817"
            ]
          },
          "execution_count": 159,
          "metadata": {},
          "output_type": "execute_result"
        }
      ],
      "source": [
        "# Cantidad de hogares únicos\n",
        "len(np.unique(muestra[['directorio_gen','secuencia_p_gen']]))"
      ]
    },
    {
      "attachments": {},
      "cell_type": "markdown",
      "metadata": {
        "id": "E-x0COSPg71y"
      },
      "source": [
        "### 02.2. Variables\n"
      ]
    },
    {
      "attachments": {},
      "cell_type": "markdown",
      "metadata": {
        "id": "g1h1NK0ShnI9"
      },
      "source": [
        "#### Sexo (1: Mujer, 0: Hombre)"
      ]
    },
    {
      "cell_type": "code",
      "execution_count": null,
      "metadata": {
        "colab": {
          "base_uri": "https://localhost:8080/"
        },
        "id": "5w3r0x2O56Wl",
        "outputId": "a92e1d1a-a70e-4b43-a088-47029ce41a97"
      },
      "outputs": [
        {
          "data": {
            "text/plain": [
              "1    12087\n",
              "2    15745\n",
              "Name: p3271_gen, dtype: int64"
            ]
          },
          "execution_count": 160,
          "metadata": {},
          "output_type": "execute_result"
        }
      ],
      "source": [
        "# Padre\n",
        "# ==============================================================================\n",
        "muestra.loc[muestra['p6050_gen'] == 1, 'p3271_gen'].value_counts().sort_index()"
      ]
    },
    {
      "cell_type": "code",
      "execution_count": null,
      "metadata": {
        "id": "urtI30lth131"
      },
      "outputs": [],
      "source": [
        "# Categorias\n",
        "muestra['aux_jefe_hom'] = np.where((muestra['p3271_gen'] == 1) & (muestra['p6050_gen'] == 1), 1, 0)\n",
        "muestra['aux_jefe_muj'] = np.where((muestra['p3271_gen'] == 2) & (muestra['p6050_gen'] == 1), 1, 0)"
      ]
    },
    {
      "cell_type": "code",
      "execution_count": null,
      "metadata": {
        "colab": {
          "base_uri": "https://localhost:8080/"
        },
        "id": "1Y-MYpYirtQc",
        "outputId": "157ee65d-c8e6-4e94-939a-c73d6e5d411f"
      },
      "outputs": [
        {
          "data": {
            "text/plain": [
              "aux_jefe_hom  aux_jefe_muj\n",
              "0             0               92677\n",
              "              1               15745\n",
              "1             0               12087\n",
              "dtype: int64"
            ]
          },
          "execution_count": 162,
          "metadata": {},
          "output_type": "execute_result"
        }
      ],
      "source": [
        "muestra.value_counts(['aux_jefe_hom', 'aux_jefe_muj']).sort_index()"
      ]
    },
    {
      "cell_type": "code",
      "execution_count": null,
      "metadata": {
        "id": "5foq42k_lzbC"
      },
      "outputs": [],
      "source": [
        "# Para toda la muestra \n",
        "muestra['jefe_hombre'] = muestra.groupby(['directorio_gen', 'secuencia_p_gen'])['aux_jefe_hom'].transform('max')\n",
        "muestra['jefe_mujer']  = muestra.groupby(['directorio_gen', 'secuencia_p_gen'])['aux_jefe_muj'].transform('max')"
      ]
    },
    {
      "cell_type": "code",
      "execution_count": null,
      "metadata": {
        "colab": {
          "base_uri": "https://localhost:8080/"
        },
        "id": "Eh6YsprN6CD5",
        "outputId": "922492ec-547a-451a-d46d-20795623def0"
      },
      "outputs": [
        {
          "data": {
            "text/plain": [
              "1    30632\n",
              "2    24083\n",
              "Name: p3271_gen, dtype: int64"
            ]
          },
          "execution_count": 164,
          "metadata": {},
          "output_type": "execute_result"
        }
      ],
      "source": [
        "# Hijo\n",
        "# ==============================================================================\n",
        "muestra.loc[muestra['p6050_gen'] == 3, 'p3271_gen'].value_counts().sort_index()"
      ]
    },
    {
      "cell_type": "code",
      "execution_count": null,
      "metadata": {
        "id": "i6xHotTrhzc6"
      },
      "outputs": [],
      "source": [
        "# Categorias\n",
        "muestra['hijo_hombre'] = np.where((muestra['p3271_gen'] == 1) & (muestra['p6050_gen'] == 3), 1, 0)\n",
        "muestra['hijo_mujer']  = np.where((muestra['p3271_gen'] == 2) & (muestra['p6050_gen'] == 3), 1, 0)"
      ]
    },
    {
      "cell_type": "code",
      "execution_count": null,
      "metadata": {
        "colab": {
          "base_uri": "https://localhost:8080/"
        },
        "id": "kiCAnA6SnXgA",
        "outputId": "aff1a184-638d-4840-f200-5b2d5329c2d2"
      },
      "outputs": [
        {
          "data": {
            "text/plain": [
              "hijo_hombre  hijo_mujer\n",
              "0            0             65794\n",
              "             1             24083\n",
              "1            0             30632\n",
              "dtype: int64"
            ]
          },
          "execution_count": 166,
          "metadata": {},
          "output_type": "execute_result"
        }
      ],
      "source": [
        "muestra.value_counts(['hijo_hombre', 'hijo_mujer']).sort_index()"
      ]
    },
    {
      "attachments": {},
      "cell_type": "markdown",
      "metadata": {
        "id": "Gul8ye56tNmP"
      },
      "source": [
        "#### Edad"
      ]
    },
    {
      "cell_type": "code",
      "execution_count": null,
      "metadata": {
        "id": "QD9i9OVtJ3P5"
      },
      "outputs": [],
      "source": [
        "# Padre\n",
        "# ==============================================================================\n",
        "muestra['aux_edad_jefe'] = np.where(muestra['p6050_gen'] == 1, muestra['p6040_gen'], None)"
      ]
    },
    {
      "cell_type": "code",
      "execution_count": null,
      "metadata": {
        "id": "mhQK2R55tL91"
      },
      "outputs": [],
      "source": [
        "# Para toda la muestra\n",
        "muestra['edad_jefe'] = muestra.groupby(['directorio_gen', 'secuencia_p_gen'])['aux_edad_jefe'].transform('max')"
      ]
    },
    {
      "cell_type": "code",
      "execution_count": null,
      "metadata": {
        "id": "9wt1DgzDJ8k_"
      },
      "outputs": [],
      "source": [
        "# Hijo\n",
        "# ==============================================================================\n",
        "muestra['edad_hijo'] = np.where(muestra['p6050_gen'] == 3, muestra['p6040_gen'], None)"
      ]
    },
    {
      "cell_type": "code",
      "execution_count": null,
      "metadata": {
        "id": "yKRyidGOvx2d"
      },
      "outputs": [],
      "source": [
        "# Variable de juventud\n",
        "muestra['hijo_joven'] = np.where(muestra['edad_hijo'] <= 26, 1, 0)"
      ]
    },
    {
      "attachments": {},
      "cell_type": "markdown",
      "metadata": {
        "id": "31rtSmNPL4wA"
      },
      "source": [
        "#### Educación"
      ]
    },
    {
      "cell_type": "code",
      "execution_count": null,
      "metadata": {
        "colab": {
          "base_uri": "https://localhost:8080/"
        },
        "id": "AhuwxaXt1Ojq",
        "outputId": "d0dea718-4e31-4d1b-ea93-3946c5ca87db"
      },
      "outputs": [
        {
          "data": {
            "text/plain": [
              "1.0      1963\n",
              "2.0         8\n",
              "3.0     10569\n",
              "4.0      3834\n",
              "5.0      6645\n",
              "6.0       342\n",
              "7.0        55\n",
              "8.0      1388\n",
              "9.0       513\n",
              "10.0     1867\n",
              "11.0      495\n",
              "12.0      131\n",
              "13.0       22\n",
              "Name: p3042_gen, dtype: int64"
            ]
          },
          "execution_count": 171,
          "metadata": {},
          "output_type": "execute_result"
        }
      ],
      "source": [
        "# Padre\n",
        "# ==============================================================================\n",
        "muestra.loc[muestra['p6050_gen'] == 1, 'p3042_gen'].value_counts().sort_index()"
      ]
    },
    {
      "cell_type": "code",
      "execution_count": null,
      "metadata": {
        "id": "WF49cVwvL-NA"
      },
      "outputs": [],
      "source": [
        "# Categorias\n",
        "muestra['aux_jefe_ninguno']    = np.where( (muestra['p3042_gen'] == 1)                                                         & (muestra['p6050_gen'] == 1), 1, 0)\n",
        "muestra['aux_jefe_primaria']   = np.where(((muestra['p3042_gen'] == 2)  | (muestra['p3042_gen'] == 3))                             & (muestra['p6050_gen'] == 1), 1, 0)\n",
        "muestra['aux_jefe_secundaria'] = np.where( (muestra['p3042_gen'] == 4)                                                         & (muestra['p6050_gen'] == 1), 1, 0)\n",
        "muestra['aux_jefe_media']      = np.where(((muestra['p3042_gen'] == 5)  | (muestra['p3042_gen'] == 6)  | (muestra['p3042_gen'] == 7))  & (muestra['p6050_gen'] == 1), 1, 0)\n",
        "muestra['aux_jefe_tecnica']    = np.where(((muestra['p3042_gen'] == 8)  | (muestra['p3042_gen'] == 9))                             & (muestra['p6050_gen'] == 1), 1, 0)\n",
        "muestra['aux_jefe_pregrado']   = np.where( (muestra['p3042_gen'] == 10)                                                        & (muestra['p6050_gen'] == 1), 1, 0)\n",
        "muestra['aux_jefe_posgrado']   = np.where(((muestra['p3042_gen'] == 11) | (muestra['p3042_gen'] == 12) | (muestra['p3042_gen'] == 13)) & (muestra['p6050_gen'] == 1), 1, 0)"
      ]
    },
    {
      "cell_type": "code",
      "execution_count": null,
      "metadata": {
        "id": "WPI6qTzm00Bt"
      },
      "outputs": [],
      "source": [
        "# Para toda la muestra\n",
        "muestra['jefe_ninguno']    = muestra.groupby(['directorio_gen', 'secuencia_p_gen'])['aux_jefe_ninguno'].transform('max')\n",
        "muestra['jefe_primaria']   = muestra.groupby(['directorio_gen', 'secuencia_p_gen'])['aux_jefe_primaria'].transform('max')\n",
        "muestra['jefe_secundaria'] = muestra.groupby(['directorio_gen', 'secuencia_p_gen'])['aux_jefe_secundaria'].transform('max')\n",
        "muestra['jefe_media']      = muestra.groupby(['directorio_gen', 'secuencia_p_gen'])['aux_jefe_media'].transform('max')\n",
        "muestra['jefe_tecnica']    = muestra.groupby(['directorio_gen', 'secuencia_p_gen'])['aux_jefe_tecnica'].transform('max')\n",
        "muestra['jefe_pregrado']   = muestra.groupby(['directorio_gen', 'secuencia_p_gen'])['aux_jefe_pregrado'].transform('max')\n",
        "muestra['jefe_posgrado']   = muestra.groupby(['directorio_gen', 'secuencia_p_gen'])['aux_jefe_posgrado'].transform('max')"
      ]
    },
    {
      "cell_type": "code",
      "execution_count": null,
      "metadata": {
        "colab": {
          "base_uri": "https://localhost:8080/"
        },
        "id": "AxXsBasO4zjj",
        "outputId": "1b498e1e-a15d-4d1a-bab4-2df19bb9cc2b"
      },
      "outputs": [
        {
          "data": {
            "text/plain": [
              "1.0      1278\n",
              "2.0       417\n",
              "3.0      6724\n",
              "4.0      9983\n",
              "5.0     17069\n",
              "6.0      1357\n",
              "7.0        90\n",
              "8.0      4454\n",
              "9.0      1899\n",
              "10.0    10160\n",
              "11.0      646\n",
              "12.0      282\n",
              "13.0       17\n",
              "Name: p3042_gen, dtype: int64"
            ]
          },
          "execution_count": 174,
          "metadata": {},
          "output_type": "execute_result"
        }
      ],
      "source": [
        "# Hijo\n",
        "# ==============================================================================\n",
        "muestra.loc[muestra['p6050_gen'] == 3, 'p3042_gen'].value_counts().sort_index()"
      ]
    },
    {
      "cell_type": "code",
      "execution_count": null,
      "metadata": {
        "id": "605fWO53L-NR"
      },
      "outputs": [],
      "source": [
        "# Categorias\n",
        "muestra['hijo_ninguno']    = np.where( (muestra['p3042_gen'] == 1)                                                         & (muestra['p6050_gen'] == 3), 1, 0)\n",
        "muestra['hijo_primaria']   = np.where(((muestra['p3042_gen'] == 2)  | (muestra['p3042_gen'] == 3))                             & (muestra['p6050_gen'] == 3), 1, 0)\n",
        "muestra['hijo_secundaria'] = np.where( (muestra['p3042_gen'] == 4)                                                         & (muestra['p6050_gen'] == 3), 1, 0)\n",
        "muestra['hijo_media']      = np.where(((muestra['p3042_gen'] == 5)  | (muestra['p3042_gen'] == 6)  | (muestra['p3042_gen'] == 7))  & (muestra['p6050_gen'] == 3), 1, 0)\n",
        "muestra['hijo_tecnica']    = np.where(((muestra['p3042_gen'] == 8)  | (muestra['p3042_gen'] == 9))                             & (muestra['p6050_gen'] == 3), 1, 0)\n",
        "muestra['hijo_pregrado']   = np.where( (muestra['p3042_gen'] == 10)                                                        & (muestra['p6050_gen'] == 3), 1, 0)\n",
        "muestra['hijo_posgrado']   = np.where(((muestra['p3042_gen'] == 11) | (muestra['p3042_gen'] == 12) | (muestra['p3042_gen'] == 13)) & (muestra['p6050_gen'] == 3), 1, 0)"
      ]
    },
    {
      "attachments": {},
      "cell_type": "markdown",
      "metadata": {
        "id": "0v8DXsCgNRSe"
      },
      "source": [
        "#### Raza"
      ]
    },
    {
      "cell_type": "code",
      "execution_count": null,
      "metadata": {
        "colab": {
          "base_uri": "https://localhost:8080/"
        },
        "id": "ktObzSUM6OCL",
        "outputId": "189f40a6-4207-4f9e-9f2a-86098c0ac2b8"
      },
      "outputs": [
        {
          "data": {
            "text/plain": [
              "1     1128\n",
              "2        3\n",
              "3       85\n",
              "4       25\n",
              "5     2367\n",
              "6    24224\n",
              "Name: p6080_gen, dtype: int64"
            ]
          },
          "execution_count": 176,
          "metadata": {},
          "output_type": "execute_result"
        }
      ],
      "source": [
        "# Padre\n",
        "# ==============================================================================\n",
        "muestra.loc[muestra['p6050_gen'] == 1, 'p6080_gen'].value_counts().sort_index()"
      ]
    },
    {
      "cell_type": "code",
      "execution_count": null,
      "metadata": {
        "id": "nDWDq8zz6du0"
      },
      "outputs": [],
      "source": [
        "# Categoria\n",
        "muestra['aux_jefe_raza'] = np.where((muestra['p6080_gen'] != 6) & (muestra['p6050_gen'] == 1), 1, 0)"
      ]
    },
    {
      "cell_type": "code",
      "execution_count": null,
      "metadata": {
        "colab": {
          "base_uri": "https://localhost:8080/"
        },
        "id": "A1MK6nen6rSj",
        "outputId": "b73bf313-ab5d-4514-82e6-c475e1d4fdfd"
      },
      "outputs": [
        {
          "data": {
            "text/plain": [
              "0    116901\n",
              "1      3608\n",
              "Name: aux_jefe_raza, dtype: int64"
            ]
          },
          "execution_count": 178,
          "metadata": {},
          "output_type": "execute_result"
        }
      ],
      "source": [
        "muestra['aux_jefe_raza'].value_counts()"
      ]
    },
    {
      "cell_type": "code",
      "execution_count": null,
      "metadata": {
        "id": "W7zJ6FId6du1"
      },
      "outputs": [],
      "source": [
        "# Para toda la muestra\n",
        "muestra['jefe_raza'] = muestra.groupby(['directorio_gen', 'secuencia_p_gen'])['aux_jefe_raza'].transform('max')"
      ]
    },
    {
      "cell_type": "code",
      "execution_count": null,
      "metadata": {
        "colab": {
          "base_uri": "https://localhost:8080/"
        },
        "id": "_3p7Evil6du3",
        "outputId": "468f0798-77d8-4c89-df11-d96a173349a6"
      },
      "outputs": [
        {
          "data": {
            "text/plain": [
              "1     2313\n",
              "2        5\n",
              "3      166\n",
              "4       32\n",
              "5     4495\n",
              "6    47704\n",
              "Name: p6080_gen, dtype: int64"
            ]
          },
          "execution_count": 180,
          "metadata": {},
          "output_type": "execute_result"
        }
      ],
      "source": [
        "# Hijo\n",
        "# ==============================================================================\n",
        "muestra.loc[muestra['p6050_gen'] == 3, 'p6080_gen'].value_counts().sort_index()"
      ]
    },
    {
      "cell_type": "code",
      "execution_count": null,
      "metadata": {
        "id": "OWeBIeSb6du3"
      },
      "outputs": [],
      "source": [
        "# Categoria\n",
        "muestra['hijo_raza'] = np.where((muestra['p6080_gen'] != 6) & (muestra['p6050_gen'] == 3), 1, 0)"
      ]
    },
    {
      "cell_type": "code",
      "execution_count": null,
      "metadata": {
        "colab": {
          "base_uri": "https://localhost:8080/"
        },
        "id": "jycpqthl8JzB",
        "outputId": "9f25d82a-c458-42c7-c2cc-01243ea71a2d"
      },
      "outputs": [
        {
          "data": {
            "text/plain": [
              "0    113498\n",
              "1      7011\n",
              "Name: hijo_raza, dtype: int64"
            ]
          },
          "execution_count": 182,
          "metadata": {},
          "output_type": "execute_result"
        }
      ],
      "source": [
        "muestra['hijo_raza'].value_counts()"
      ]
    },
    {
      "attachments": {},
      "cell_type": "markdown",
      "metadata": {
        "id": "ukIRZl15hVHm"
      },
      "source": [
        "#### Formal e informal (1: Formal, 0: Informal)"
      ]
    },
    {
      "cell_type": "code",
      "execution_count": null,
      "metadata": {
        "id": "s-D0thfThntC"
      },
      "outputs": [],
      "source": [
        "# Creando variables de seguridad social\n",
        "# ==============================================================================\n",
        "muestra['salud']   = np.where((muestra['p6090_gen']==1) & ((muestra['p6100_gen']==1) | (muestra['p6100_gen']==2)) & (muestra['p6915_ocu']==1), 1, None)\n",
        "muestra['pension'] = np.where(muestra['p6920_ocu']==1, 1, None)"
      ]
    },
    {
      "cell_type": "code",
      "execution_count": null,
      "metadata": {
        "id": "0NrijRTT8a1K"
      },
      "outputs": [],
      "source": [
        "# Variable de formalidad\n",
        "# ==============================================================================\n",
        "muestra['formal']  = np.where((muestra['salud']==1) & (muestra['pension']==1), 1, None)"
      ]
    },
    {
      "cell_type": "code",
      "execution_count": null,
      "metadata": {
        "colab": {
          "base_uri": "https://localhost:8080/"
        },
        "id": "qnI3pVhRtNDo",
        "outputId": "e4876891-7a64-4352-9a0f-6d1d63a16137"
      },
      "outputs": [
        {
          "data": {
            "text/plain": [
              "1    4719\n",
              "Name: formal, dtype: int64"
            ]
          },
          "execution_count": 185,
          "metadata": {},
          "output_type": "execute_result"
        }
      ],
      "source": [
        "# Padre\n",
        "# =============================================================================\n",
        "muestra.loc[muestra['p6050_gen'] == 1, 'formal'].value_counts().sort_index()"
      ]
    },
    {
      "cell_type": "code",
      "execution_count": null,
      "metadata": {
        "id": "r-lXKnjp8huj"
      },
      "outputs": [],
      "source": [
        "# Categorias\n",
        "muestra['aux_jefe_formal']   = np.where((muestra['formal'] == 1) & (muestra['p6050_gen'] == 1), 1, 0)\n",
        "muestra['aux_jefe_informal'] = np.where((muestra['formal'] != 1) & (muestra['p6050_gen'] == 1), 1, 0)"
      ]
    },
    {
      "cell_type": "code",
      "execution_count": null,
      "metadata": {
        "colab": {
          "base_uri": "https://localhost:8080/"
        },
        "id": "kNrz_QKQ85ne",
        "outputId": "745b9887-abba-4efe-c011-77059673c861"
      },
      "outputs": [
        {
          "data": {
            "text/plain": [
              "aux_jefe_formal  aux_jefe_informal\n",
              "0                0                    92677\n",
              "                 1                    23113\n",
              "1                0                     4719\n",
              "dtype: int64"
            ]
          },
          "execution_count": 187,
          "metadata": {},
          "output_type": "execute_result"
        }
      ],
      "source": [
        "muestra[['aux_jefe_formal', 'aux_jefe_informal']].value_counts()"
      ]
    },
    {
      "cell_type": "code",
      "execution_count": null,
      "metadata": {
        "id": "aFhVIGO58nYK"
      },
      "outputs": [],
      "source": [
        "# Para toda la muestra\n",
        "muestra['jefe_formal']   = muestra.groupby(['directorio_gen', 'secuencia_p_gen'])['aux_jefe_formal'].transform('max')\n",
        "muestra['jefe_informal'] = muestra.groupby(['directorio_gen', 'secuencia_p_gen'])['aux_jefe_informal'].transform('max')"
      ]
    },
    {
      "cell_type": "code",
      "execution_count": null,
      "metadata": {
        "colab": {
          "base_uri": "https://localhost:8080/"
        },
        "id": "RAxc6aIv8vlN",
        "outputId": "430f8d4d-a153-4a5c-ad2c-0fde56f63f5f"
      },
      "outputs": [
        {
          "data": {
            "text/plain": [
              "1    12904\n",
              "Name: formal, dtype: int64"
            ]
          },
          "execution_count": 189,
          "metadata": {},
          "output_type": "execute_result"
        }
      ],
      "source": [
        "# Hijo\n",
        "# =============================================================================\n",
        "muestra.loc[muestra['p6050_gen'] == 3, 'formal'].value_counts().sort_index()"
      ]
    },
    {
      "cell_type": "code",
      "execution_count": null,
      "metadata": {
        "id": "2DDJ6TiUowl-"
      },
      "outputs": [],
      "source": [
        "# Categoria\n",
        "muestra['hijo_formal'] = np.where((muestra['formal'] == 1) & (muestra['p6050_gen'] == 3), 1, 0)"
      ]
    },
    {
      "cell_type": "code",
      "execution_count": null,
      "metadata": {
        "colab": {
          "base_uri": "https://localhost:8080/"
        },
        "id": "tRS9T2QP9xCp",
        "outputId": "6a05e212-2748-457c-cfc9-5bf820b1dec0"
      },
      "outputs": [
        {
          "data": {
            "text/plain": [
              "hijo_formal\n",
              "0              107605\n",
              "1               12904\n",
              "dtype: int64"
            ]
          },
          "execution_count": 191,
          "metadata": {},
          "output_type": "execute_result"
        }
      ],
      "source": [
        "muestra[['hijo_formal']].value_counts()"
      ]
    },
    {
      "attachments": {},
      "cell_type": "markdown",
      "metadata": {
        "id": "oxwoyHhScQc2"
      },
      "source": [
        "#### Del hogar"
      ]
    },
    {
      "attachments": {},
      "cell_type": "markdown",
      "metadata": {
        "id": "SGlKuMBz9872"
      },
      "source": [
        "##### Zona"
      ]
    },
    {
      "cell_type": "code",
      "execution_count": null,
      "metadata": {
        "colab": {
          "base_uri": "https://localhost:8080/"
        },
        "id": "ikSDstIJ-O-C",
        "outputId": "79808526-1d41-4f06-95cf-76fdb72eec87"
      },
      "outputs": [
        {
          "data": {
            "text/html": [
              "\n",
              "  <div id=\"df-279d63e6-9746-45ba-ad6a-602dd8fdddfe\">\n",
              "    <div class=\"colab-df-container\">\n",
              "      <div>\n",
              "<style scoped>\n",
              "    .dataframe tbody tr th:only-of-type {\n",
              "        vertical-align: middle;\n",
              "    }\n",
              "\n",
              "    .dataframe tbody tr th {\n",
              "        vertical-align: top;\n",
              "    }\n",
              "\n",
              "    .dataframe thead th {\n",
              "        text-align: right;\n",
              "    }\n",
              "</style>\n",
              "<table border=\"1\" class=\"dataframe\">\n",
              "  <thead>\n",
              "    <tr style=\"text-align: right;\">\n",
              "      <th></th>\n",
              "      <th>directorio_gen</th>\n",
              "    </tr>\n",
              "    <tr>\n",
              "      <th>clase_gen</th>\n",
              "      <th></th>\n",
              "    </tr>\n",
              "  </thead>\n",
              "  <tbody>\n",
              "    <tr>\n",
              "      <th>1</th>\n",
              "      <td>104362</td>\n",
              "    </tr>\n",
              "    <tr>\n",
              "      <th>2</th>\n",
              "      <td>16147</td>\n",
              "    </tr>\n",
              "  </tbody>\n",
              "</table>\n",
              "</div>\n",
              "      <button class=\"colab-df-convert\" onclick=\"convertToInteractive('df-279d63e6-9746-45ba-ad6a-602dd8fdddfe')\"\n",
              "              title=\"Convert this dataframe to an interactive table.\"\n",
              "              style=\"display:none;\">\n",
              "        \n",
              "  <svg xmlns=\"http://www.w3.org/2000/svg\" height=\"24px\"viewBox=\"0 0 24 24\"\n",
              "       width=\"24px\">\n",
              "    <path d=\"M0 0h24v24H0V0z\" fill=\"none\"/>\n",
              "    <path d=\"M18.56 5.44l.94 2.06.94-2.06 2.06-.94-2.06-.94-.94-2.06-.94 2.06-2.06.94zm-11 1L8.5 8.5l.94-2.06 2.06-.94-2.06-.94L8.5 2.5l-.94 2.06-2.06.94zm10 10l.94 2.06.94-2.06 2.06-.94-2.06-.94-.94-2.06-.94 2.06-2.06.94z\"/><path d=\"M17.41 7.96l-1.37-1.37c-.4-.4-.92-.59-1.43-.59-.52 0-1.04.2-1.43.59L10.3 9.45l-7.72 7.72c-.78.78-.78 2.05 0 2.83L4 21.41c.39.39.9.59 1.41.59.51 0 1.02-.2 1.41-.59l7.78-7.78 2.81-2.81c.8-.78.8-2.07 0-2.86zM5.41 20L4 18.59l7.72-7.72 1.47 1.35L5.41 20z\"/>\n",
              "  </svg>\n",
              "      </button>\n",
              "      \n",
              "  <style>\n",
              "    .colab-df-container {\n",
              "      display:flex;\n",
              "      flex-wrap:wrap;\n",
              "      gap: 12px;\n",
              "    }\n",
              "\n",
              "    .colab-df-convert {\n",
              "      background-color: #E8F0FE;\n",
              "      border: none;\n",
              "      border-radius: 50%;\n",
              "      cursor: pointer;\n",
              "      display: none;\n",
              "      fill: #1967D2;\n",
              "      height: 32px;\n",
              "      padding: 0 0 0 0;\n",
              "      width: 32px;\n",
              "    }\n",
              "\n",
              "    .colab-df-convert:hover {\n",
              "      background-color: #E2EBFA;\n",
              "      box-shadow: 0px 1px 2px rgba(60, 64, 67, 0.3), 0px 1px 3px 1px rgba(60, 64, 67, 0.15);\n",
              "      fill: #174EA6;\n",
              "    }\n",
              "\n",
              "    [theme=dark] .colab-df-convert {\n",
              "      background-color: #3B4455;\n",
              "      fill: #D2E3FC;\n",
              "    }\n",
              "\n",
              "    [theme=dark] .colab-df-convert:hover {\n",
              "      background-color: #434B5C;\n",
              "      box-shadow: 0px 1px 3px 1px rgba(0, 0, 0, 0.15);\n",
              "      filter: drop-shadow(0px 1px 2px rgba(0, 0, 0, 0.3));\n",
              "      fill: #FFFFFF;\n",
              "    }\n",
              "  </style>\n",
              "\n",
              "      <script>\n",
              "        const buttonEl =\n",
              "          document.querySelector('#df-279d63e6-9746-45ba-ad6a-602dd8fdddfe button.colab-df-convert');\n",
              "        buttonEl.style.display =\n",
              "          google.colab.kernel.accessAllowed ? 'block' : 'none';\n",
              "\n",
              "        async function convertToInteractive(key) {\n",
              "          const element = document.querySelector('#df-279d63e6-9746-45ba-ad6a-602dd8fdddfe');\n",
              "          const dataTable =\n",
              "            await google.colab.kernel.invokeFunction('convertToInteractive',\n",
              "                                                     [key], {});\n",
              "          if (!dataTable) return;\n",
              "\n",
              "          const docLinkHtml = 'Like what you see? Visit the ' +\n",
              "            '<a target=\"_blank\" href=https://colab.research.google.com/notebooks/data_table.ipynb>data table notebook</a>'\n",
              "            + ' to learn more about interactive tables.';\n",
              "          element.innerHTML = '';\n",
              "          dataTable['output_type'] = 'display_data';\n",
              "          await google.colab.output.renderOutput(dataTable, element);\n",
              "          const docLink = document.createElement('div');\n",
              "          docLink.innerHTML = docLinkHtml;\n",
              "          element.appendChild(docLink);\n",
              "        }\n",
              "      </script>\n",
              "    </div>\n",
              "  </div>\n",
              "  "
            ],
            "text/plain": [
              "           directorio_gen\n",
              "clase_gen                \n",
              "1                  104362\n",
              "2                   16147"
            ]
          },
          "execution_count": 192,
          "metadata": {},
          "output_type": "execute_result"
        }
      ],
      "source": [
        "# Zona (1: urbano, 2: rural)\n",
        "# ==============================================================================\n",
        "muestra.groupby('clase_gen')[['directorio_gen']].count()"
      ]
    },
    {
      "cell_type": "code",
      "execution_count": null,
      "metadata": {
        "id": "oAzm9jkQ_RD9"
      },
      "outputs": [],
      "source": [
        "# Categorias\n",
        "muestra['aux_urbana'] = np.where(muestra['clase_gen'] == 1, 1, 0)\n",
        "muestra['aux_rural']  = np.where(muestra['clase_gen'] == 2, 1, 0)"
      ]
    },
    {
      "cell_type": "code",
      "execution_count": null,
      "metadata": {
        "colab": {
          "base_uri": "https://localhost:8080/"
        },
        "id": "OKpW8lli-TXd",
        "outputId": "3904714d-a1e1-415a-9ee4-8393e8c46756"
      },
      "outputs": [
        {
          "data": {
            "text/plain": [
              "aux_urbana  aux_rural\n",
              "1           0            104362\n",
              "0           1             16147\n",
              "dtype: int64"
            ]
          },
          "execution_count": 194,
          "metadata": {},
          "output_type": "execute_result"
        }
      ],
      "source": [
        "muestra[['aux_urbana', 'aux_rural']].value_counts()"
      ]
    },
    {
      "cell_type": "code",
      "execution_count": null,
      "metadata": {
        "id": "nVw0vVw2-KuN"
      },
      "outputs": [],
      "source": [
        "# Para toda la muestra\n",
        "muestra['urbana'] = muestra.groupby(['directorio_gen', 'secuencia_p_gen'])['aux_urbana'].transform('max')\n",
        "muestra['rural']  = muestra.groupby(['directorio_gen', 'secuencia_p_gen'])['aux_rural'].transform('max')"
      ]
    },
    {
      "attachments": {},
      "cell_type": "markdown",
      "metadata": {
        "id": "nWdQ-3zW-tuE"
      },
      "source": [
        "##### Miembros del hogar"
      ]
    },
    {
      "cell_type": "code",
      "execution_count": null,
      "metadata": {
        "id": "cENk0FZy_6_S"
      },
      "outputs": [],
      "source": [
        "muestra['prueba'] = muestra.groupby(['directorio_gen', 'secuencia_p_gen'])['directorio_gen'].transform('count')"
      ]
    },
    {
      "cell_type": "code",
      "execution_count": null,
      "metadata": {
        "id": "eODos4nsArGL"
      },
      "outputs": [],
      "source": [
        "muestra.loc[muestra['p6050_gen'] <= 5, 'prueba2'] = muestra[muestra['p6050_gen'] <= 5].groupby(['directorio_gen', 'secuencia_p_gen'])['directorio_gen'].transform('count')"
      ]
    },
    {
      "cell_type": "code",
      "execution_count": null,
      "metadata": {
        "id": "E4iSe20zd6VL"
      },
      "outputs": [],
      "source": [
        "# Para toda la muestra\n",
        "muestra['miembros'] = muestra.groupby(['directorio_gen', 'secuencia_p_gen'])['prueba2'].transform('max').astype(int)"
      ]
    },
    {
      "cell_type": "code",
      "execution_count": null,
      "metadata": {
        "id": "sE-HQmA7-6rb"
      },
      "outputs": [],
      "source": [
        "#muestra[['DIRECTORIO', 'P6050', 'prueba', 'prueba2', 'miembros']].head(30)"
      ]
    },
    {
      "attachments": {},
      "cell_type": "markdown",
      "metadata": {
        "id": "WzfFNPOkBu2B"
      },
      "source": [
        "##### Logaritmo del ingreso per capita de los padres"
      ]
    },
    {
      "cell_type": "code",
      "execution_count": null,
      "metadata": {
        "id": "Qv76ke8DUU2k"
      },
      "outputs": [],
      "source": [
        "muestra.loc[muestra['p6050_gen'] <= 2, 'aux'] = muestra[muestra['p6050_gen'] <= 2].groupby(['directorio_gen', 'secuencia_p_gen'])['inglabo_ocu'].transform('sum')"
      ]
    },
    {
      "cell_type": "code",
      "execution_count": null,
      "metadata": {
        "id": "3HPikMdACRII"
      },
      "outputs": [],
      "source": [
        "# Para toda la muestra\n",
        "muestra['ing_padres'] = muestra.groupby(['directorio_gen', 'secuencia_p_gen'])['aux'].transform('max')"
      ]
    },
    {
      "cell_type": "code",
      "execution_count": null,
      "metadata": {
        "colab": {
          "base_uri": "https://localhost:8080/"
        },
        "id": "r6ZMZ1z8C8y6",
        "outputId": "b5576a40-c124-4af2-ea39-40dc069b0780"
      },
      "outputs": [
        {
          "name": "stderr",
          "output_type": "stream",
          "text": [
            "/usr/local/lib/python3.10/dist-packages/pandas/core/arraylike.py:402: RuntimeWarning: divide by zero encountered in log\n",
            "  result = getattr(ufunc, method)(*inputs, **kwargs)\n"
          ]
        }
      ],
      "source": [
        "# Logaritmo\n",
        "muestra['Ling_padres'] = np.where(muestra['ing_padres'] != 0, np.log(muestra['ing_padres']), 0)"
      ]
    },
    {
      "cell_type": "code",
      "execution_count": null,
      "metadata": {
        "id": "4tfiv6WGCDCN"
      },
      "outputs": [],
      "source": [
        "#muestra[['DIRECTORIO', 'P6050', 'INGLABO', 'aux', 'ing_padres', 'Ling_padres']].head(30)"
      ]
    },
    {
      "attachments": {},
      "cell_type": "markdown",
      "metadata": {
        "id": "8dR7TM1ECsug"
      },
      "source": [
        "##### Composición del hogar"
      ]
    },
    {
      "cell_type": "code",
      "execution_count": null,
      "metadata": {
        "id": "FAmzUCI1EFkx"
      },
      "outputs": [],
      "source": [
        "# ¿Jefe y pareja existe?\n",
        "muestra['jefe'] = np.where(muestra['p6050_gen'] == 1, 1, 0)\n",
        "muestra['jefe_existe'] = muestra.groupby(['directorio_gen', 'secuencia_p_gen'])['jefe'].transform('max')\n",
        "\n",
        "muestra['pareja'] = np.where(muestra['p6050_gen'] == 2, 1, 0)\n",
        "muestra['pareja_existe'] = muestra.groupby(['directorio_gen', 'secuencia_p_gen'])['pareja'].transform('max')"
      ]
    },
    {
      "cell_type": "code",
      "execution_count": null,
      "metadata": {
        "id": "jKEj4c89SPvC"
      },
      "outputs": [],
      "source": [
        "# Hogar nuclear\n",
        "muestra['hogar_nuclear'] = np.where((muestra['jefe_existe'] == 1) & (muestra['pareja_existe'] == 1), 1, 0)"
      ]
    },
    {
      "cell_type": "code",
      "execution_count": null,
      "metadata": {
        "id": "x6zx6r0ZSv_D"
      },
      "outputs": [],
      "source": [
        "# Hogar monoparental padre\n",
        "muestra['hogar_padre'] = np.where((muestra['jefe_existe'] == 1) & (muestra['pareja_existe'] == 0) & (muestra['jefe_hombre'] == 1), 1, 0)"
      ]
    },
    {
      "cell_type": "code",
      "execution_count": null,
      "metadata": {
        "id": "E0bD9-SnTDpr"
      },
      "outputs": [],
      "source": [
        "# Hogar monoparental madre\n",
        "muestra['hogar_madre'] = np.where((muestra['jefe_existe'] == 1) & (muestra['pareja_existe'] == 0) & (muestra['jefe_mujer'] == 1), 1, 0)"
      ]
    },
    {
      "cell_type": "code",
      "execution_count": null,
      "metadata": {
        "id": "S_j5E66kT37m"
      },
      "outputs": [],
      "source": [
        "muestra['prueba'] = muestra['hogar_nuclear'] + muestra['hogar_padre'] + muestra['hogar_madre']"
      ]
    },
    {
      "cell_type": "code",
      "execution_count": null,
      "metadata": {
        "colab": {
          "base_uri": "https://localhost:8080/"
        },
        "id": "J918kL0rT-JN",
        "outputId": "3fbf1a61-7ab9-4fba-83e2-6a9faa5bd303"
      },
      "outputs": [
        {
          "data": {
            "text/plain": [
              "1    120509\n",
              "Name: prueba, dtype: int64"
            ]
          },
          "execution_count": 209,
          "metadata": {},
          "output_type": "execute_result"
        }
      ],
      "source": [
        "muestra['prueba'].value_counts()"
      ]
    },
    {
      "cell_type": "code",
      "execution_count": null,
      "metadata": {
        "id": "3pXEUfUwEKpo"
      },
      "outputs": [],
      "source": [
        "#muestra[['DIRECTORIO', 'P6050', 'P3271', 'pareja_existe', 'jefe_hombre', 'jefe_mujer', 'hogar_nuclear', 'hogar_padre', 'hogar_madre']].head(30)"
      ]
    },
    {
      "attachments": {},
      "cell_type": "markdown",
      "metadata": {
        "id": "tGr44pJtQW1E"
      },
      "source": [
        "#### Otras variables (Internet y Departamento)"
      ]
    },
    {
      "cell_type": "code",
      "execution_count": null,
      "metadata": {
        "id": "FT7P0jLrk5E8"
      },
      "outputs": [],
      "source": [
        "# ¿Su empleo actual lo obtuvo a través de páginas de internet?\n",
        "# ==============================================================================\n",
        "muestra['internet'] = np.where(muestra['p9440_ocu'] == 1, 1, 0)"
      ]
    },
    {
      "cell_type": "code",
      "execution_count": null,
      "metadata": {
        "id": "re_4xqLwjfdE"
      },
      "outputs": [],
      "source": [
        "# ¿Por qué medio principal, ... consiguió su empleo actual?\n",
        "# ==============================================================================\n",
        "muestra['ayuda'] = np.where(muestra['p3363_ocu'] == 1, 1, 0)"
      ]
    },
    {
      "cell_type": "code",
      "execution_count": null,
      "metadata": {
        "id": "u4BQAsEamCUl"
      },
      "outputs": [],
      "source": [
        "# Comunidad LGBT\n",
        "# ==============================================================================\n",
        "muestra['lgbt'] = np.where(muestra['lgbt_numerica_gen'] == 1, 1, 0)"
      ]
    },
    {
      "cell_type": "code",
      "execution_count": null,
      "metadata": {
        "id": "nXdOMw-gmIjx"
      },
      "outputs": [],
      "source": [
        "# Discapacidad\n",
        "# ==============================================================================\n",
        "muestra['discapacidad'] = np.where(muestra['discapacidad_gen'] == 1, 1, 0)"
      ]
    },
    {
      "cell_type": "code",
      "execution_count": null,
      "metadata": {
        "id": "ic50P4wymN51"
      },
      "outputs": [],
      "source": [
        "# Dificultad\n",
        "# ==============================================================================\n",
        "muestra['dificultad'] = np.where(muestra['dificultad_gen'] == 1, 1, 0)"
      ]
    },
    {
      "cell_type": "code",
      "execution_count": null,
      "metadata": {
        "id": "EW8AhKHhmPrz"
      },
      "outputs": [],
      "source": [
        "# Campesino\n",
        "# ==============================================================================\n",
        "muestra['campesino'] = np.where(muestra['campesina_gen'] == 1, 1, 0)"
      ]
    },
    {
      "cell_type": "code",
      "execution_count": null,
      "metadata": {
        "colab": {
          "base_uri": "https://localhost:8080/"
        },
        "id": "-7CerI5VJHWq",
        "outputId": "4fbc68d9-5bfe-4d78-a563-e8d53911e51d"
      },
      "outputs": [
        {
          "data": {
            "text/plain": [
              "5     6614\n",
              "8     7259\n",
              "11    3211\n",
              "13    8009\n",
              "15    4406\n",
              "17    4403\n",
              "18    2594\n",
              "19    4451\n",
              "20    5052\n",
              "23    3805\n",
              "25    2006\n",
              "27    3655\n",
              "41    4921\n",
              "44    4220\n",
              "47    6367\n",
              "50    3229\n",
              "52    5162\n",
              "54    5321\n",
              "63    3712\n",
              "66    5166\n",
              "68    5495\n",
              "70    7206\n",
              "73    3538\n",
              "76    3747\n",
              "81     522\n",
              "85     515\n",
              "86     522\n",
              "88    2065\n",
              "91    1137\n",
              "94     510\n",
              "95     304\n",
              "97    1099\n",
              "99     286\n",
              "Name: dpto_gen, dtype: int64"
            ]
          },
          "execution_count": 217,
          "metadata": {},
          "output_type": "execute_result"
        }
      ],
      "source": [
        "# Departamento\n",
        "# ==============================================================================\n",
        "muestra['dpto_gen'].value_counts().sort_index()"
      ]
    },
    {
      "cell_type": "code",
      "execution_count": null,
      "metadata": {
        "id": "dAwuUuUBJnow"
      },
      "outputs": [],
      "source": [
        "# Categorias\n",
        "muestra['antioquia']    = np.where(muestra['dpto_gen'] == 5 , 1, 0)\n",
        "muestra['atlantico']    = np.where(muestra['dpto_gen'] == 8 , 1, 0)\n",
        "muestra['bogota']       = np.where(muestra['dpto_gen'] == 11, 1, 0)\n",
        "muestra['bolivar']      = np.where(muestra['dpto_gen'] == 13, 1, 0)\n",
        "muestra['boyaca']       = np.where(muestra['dpto_gen'] == 15, 1, 0)\n",
        "muestra['caldas']       = np.where(muestra['dpto_gen'] == 17, 1, 0)\n",
        "muestra['caqueta']      = np.where(muestra['dpto_gen'] == 18, 1, 0)\n",
        "muestra['cauca']        = np.where(muestra['dpto_gen'] == 19, 1, 0)\n",
        "muestra['cesar']        = np.where(muestra['dpto_gen'] == 20, 1, 0)\n",
        "muestra['cordoba']      = np.where(muestra['dpto_gen'] == 23, 1, 0)\n",
        "muestra['cundinamarca'] = np.where(muestra['dpto_gen'] == 25, 1, 0)\n",
        "muestra['choco']        = np.where(muestra['dpto_gen'] == 27, 1, 0)\n",
        "muestra['huila']        = np.where(muestra['dpto_gen'] == 41, 1, 0)\n",
        "muestra['guajira']      = np.where(muestra['dpto_gen'] == 44, 1, 0)\n",
        "muestra['magdalena']    = np.where(muestra['dpto_gen'] == 47, 1, 0)\n",
        "muestra['meta']         = np.where(muestra['dpto_gen'] == 50, 1, 0)\n",
        "muestra['narino']       = np.where(muestra['dpto_gen'] == 52, 1, 0)\n",
        "muestra['norte']        = np.where(muestra['dpto_gen'] == 54, 1, 0)\n",
        "muestra['quindio']      = np.where(muestra['dpto_gen'] == 63, 1, 0)\n",
        "muestra['risaralda']    = np.where(muestra['dpto_gen'] == 66, 1, 0)\n",
        "muestra['santander']    = np.where(muestra['dpto_gen'] == 68, 1, 0)\n",
        "muestra['sucre']        = np.where(muestra['dpto_gen'] == 70, 1, 0)\n",
        "muestra['tolima']       = np.where(muestra['dpto_gen'] == 73, 1, 0)\n",
        "muestra['valle']        = np.where(muestra['dpto_gen'] == 76, 1, 0)\n",
        "muestra['otros']        = np.where(muestra['dpto_gen'] >  76, 1, 0)"
      ]
    },
    {
      "cell_type": "code",
      "execution_count": null,
      "metadata": {
        "id": "nns5jpiULwNS"
      },
      "outputs": [],
      "source": [
        "#muestra['otros'].value_counts()"
      ]
    },
    {
      "attachments": {},
      "cell_type": "markdown",
      "metadata": {
        "id": "Ca_hO7C1R4wV"
      },
      "source": [
        "### 02.3. Individuo"
      ]
    },
    {
      "attachments": {},
      "cell_type": "markdown",
      "metadata": {
        "id": "MDxzxJRQ3QXO"
      },
      "source": [
        "#### Hijos"
      ]
    },
    {
      "cell_type": "code",
      "execution_count": null,
      "metadata": {
        "colab": {
          "base_uri": "https://localhost:8080/"
        },
        "id": "2xttz8URFJjH",
        "outputId": "c44a31c4-5f18-483d-9038-ee4c8c1bf122"
      },
      "outputs": [
        {
          "data": {
            "text/plain": [
              "3     54715\n",
              "1     27832\n",
              "8     14777\n",
              "2     14527\n",
              "7      3584\n",
              "9      1997\n",
              "4       965\n",
              "13      836\n",
              "6       798\n",
              "5       378\n",
              "10       83\n",
              "11       13\n",
              "12        4\n",
              "Name: p6050_gen, dtype: int64"
            ]
          },
          "execution_count": 220,
          "metadata": {},
          "output_type": "execute_result"
        }
      ],
      "source": [
        "muestra['p6050_gen'].value_counts()"
      ]
    },
    {
      "cell_type": "code",
      "execution_count": null,
      "metadata": {
        "id": "7_kvO-leTD_R"
      },
      "outputs": [],
      "source": [
        "# Quedandonos solo con información de los hijos\n",
        "muestra = muestra[muestra['p6050_gen'] == 3]"
      ]
    },
    {
      "attachments": {},
      "cell_type": "markdown",
      "metadata": {
        "id": "fdH3hPIt3T5k"
      },
      "source": [
        "#### Hijos ocupados"
      ]
    },
    {
      "cell_type": "code",
      "execution_count": null,
      "metadata": {
        "colab": {
          "base_uri": "https://localhost:8080/"
        },
        "id": "-h6GHMPYFR1J",
        "outputId": "097529f7-7986-4576-ca84-a05d521c9432"
      },
      "outputs": [
        {
          "data": {
            "text/plain": [
              "1.0    36143\n",
              "Name: oci_ocu, dtype: int64"
            ]
          },
          "execution_count": 222,
          "metadata": {},
          "output_type": "execute_result"
        }
      ],
      "source": [
        "muestra['oci_ocu'].value_counts()"
      ]
    },
    {
      "cell_type": "code",
      "execution_count": null,
      "metadata": {
        "id": "EjtdB6lZTou4"
      },
      "outputs": [],
      "source": [
        "# Quedandonos solo con información de los hijos ocupados\n",
        "muestra = muestra[muestra['oci_ocu'] == 1]"
      ]
    },
    {
      "attachments": {},
      "cell_type": "markdown",
      "metadata": {
        "id": "C7hjsonp3WN-"
      },
      "source": [
        "#### Hijos ocupados con el primer trabajo"
      ]
    },
    {
      "cell_type": "code",
      "execution_count": null,
      "metadata": {
        "colab": {
          "base_uri": "https://localhost:8080/"
        },
        "id": "amP_Iw_3FkSH",
        "outputId": "213af663-2f1a-407d-c101-8096e0f286b1"
      },
      "outputs": [
        {
          "data": {
            "text/plain": [
              "2.0    31515\n",
              "1.0     4628\n",
              "Name: p7020_ocu, dtype: int64"
            ]
          },
          "execution_count": 224,
          "metadata": {},
          "output_type": "execute_result"
        }
      ],
      "source": [
        "muestra['p7020_ocu'].value_counts()"
      ]
    },
    {
      "cell_type": "code",
      "execution_count": null,
      "metadata": {
        "id": "DEb0c_POqwLn"
      },
      "outputs": [],
      "source": [
        "# Quedandonos solo con la información del hijo ocupado que tiene el primer trabajo\n",
        "muestra = muestra[muestra['p7020_ocu'] == 2]"
      ]
    },
    {
      "attachments": {},
      "cell_type": "markdown",
      "metadata": {
        "id": "n8Bfnx4t3eOm"
      },
      "source": [
        "#### Hijos ocupados con el primer trabajo y mayor edad"
      ]
    },
    {
      "cell_type": "code",
      "execution_count": null,
      "metadata": {
        "colab": {
          "base_uri": "https://localhost:8080/"
        },
        "id": "roH6q1asYxF_",
        "outputId": "6c61a5b1-abcc-4ac9-dab9-6f543a2ff17a"
      },
      "outputs": [
        {
          "data": {
            "text/plain": [
              "31515"
            ]
          },
          "execution_count": 226,
          "metadata": {},
          "output_type": "execute_result"
        }
      ],
      "source": [
        "# Todavia tenemos hijos del mismo hogar, el objetivo es quedarnos con solo uno para aislar unicamente la conexión de sus padres\n",
        "# Proxy del primer hijo que entró al mercado laboral\n",
        "muestra.shape[0]"
      ]
    },
    {
      "cell_type": "code",
      "execution_count": null,
      "metadata": {
        "colab": {
          "base_uri": "https://localhost:8080/"
        },
        "id": "rCMi0GEQs0N-",
        "outputId": "4c47cefa-bcf9-4713-ab4f-97c8d9186a14"
      },
      "outputs": [
        {
          "data": {
            "text/plain": [
              "27812"
            ]
          },
          "execution_count": 227,
          "metadata": {},
          "output_type": "execute_result"
        }
      ],
      "source": [
        "# La muestra debe quedar con este tamaño\n",
        "muestra['directorio_gen'].nunique()"
      ]
    },
    {
      "cell_type": "code",
      "execution_count": null,
      "metadata": {
        "id": "60byrHBgicSJ"
      },
      "outputs": [],
      "source": [
        "# Procedemos a quedarnos con el hijo de mayor edad \n",
        "muestra['hijo_mayor'] = muestra.groupby(['directorio_gen', 'secuencia_p_gen'])['p6040_gen'].transform('max')"
      ]
    },
    {
      "cell_type": "code",
      "execution_count": null,
      "metadata": {
        "id": "Ag7Ayt8oF5WG"
      },
      "outputs": [],
      "source": [
        "#muestra[['DIRECTORIO', 'P6050', 'P6040', 'hijo_mayor']].head(30)"
      ]
    },
    {
      "cell_type": "code",
      "execution_count": null,
      "metadata": {
        "id": "F94E7skjtj2W"
      },
      "outputs": [],
      "source": [
        "# Eliminado demás hijos\n",
        "muestra = muestra[muestra['p6040_gen'] == muestra['hijo_mayor']]"
      ]
    },
    {
      "attachments": {},
      "cell_type": "markdown",
      "metadata": {
        "id": "ZAAHS9Cr3ktp"
      },
      "source": [
        "#### Hijos ocupados con el primer trabajo, mayor edad y mayor tiempo trabajando"
      ]
    },
    {
      "cell_type": "code",
      "execution_count": null,
      "metadata": {
        "colab": {
          "base_uri": "https://localhost:8080/"
        },
        "id": "uRZ2IHfqutqe",
        "outputId": "f90d26e6-f28f-401c-abb0-5778762f99c5"
      },
      "outputs": [
        {
          "name": "stderr",
          "output_type": "stream",
          "text": [
            "<ipython-input-231-379a0c214030>:2: SettingWithCopyWarning: \n",
            "A value is trying to be set on a copy of a slice from a DataFrame.\n",
            "Try using .loc[row_indexer,col_indexer] = value instead\n",
            "\n",
            "See the caveats in the documentation: https://pandas.pydata.org/pandas-docs/stable/user_guide/indexing.html#returning-a-view-versus-a-copy\n",
            "  muestra['aux_dup'] = muestra.duplicated('directorio_gen')\n"
          ]
        }
      ],
      "source": [
        "# Seguimos con duplicados\n",
        "muestra['aux_dup'] = muestra.duplicated('directorio_gen')"
      ]
    },
    {
      "cell_type": "code",
      "execution_count": null,
      "metadata": {
        "colab": {
          "base_uri": "https://localhost:8080/"
        },
        "id": "TfVN3f59wOg1",
        "outputId": "2bde6f26-1c97-43fa-974a-e4284355e4c2"
      },
      "outputs": [
        {
          "data": {
            "text/plain": [
              "aux_dup\n",
              "False    27812\n",
              "True        98\n",
              "Name: directorio_gen, dtype: int64"
            ]
          },
          "execution_count": 232,
          "metadata": {},
          "output_type": "execute_result"
        }
      ],
      "source": [
        "muestra.groupby('aux_dup')['directorio_gen'].count()"
      ]
    },
    {
      "cell_type": "code",
      "execution_count": null,
      "metadata": {
        "colab": {
          "base_uri": "https://localhost:8080/"
        },
        "id": "27afHhFNHLOm",
        "outputId": "91c155a9-f85d-49ec-a428-98131d0f1301"
      },
      "outputs": [
        {
          "name": "stderr",
          "output_type": "stream",
          "text": [
            "<ipython-input-233-9c0e26297be6>:1: SettingWithCopyWarning: \n",
            "A value is trying to be set on a copy of a slice from a DataFrame.\n",
            "Try using .loc[row_indexer,col_indexer] = value instead\n",
            "\n",
            "See the caveats in the documentation: https://pandas.pydata.org/pandas-docs/stable/user_guide/indexing.html#returning-a-view-versus-a-copy\n",
            "  muestra['dup'] = muestra.groupby(['directorio_gen', 'secuencia_p_gen'])['aux_dup'].transform('max')\n"
          ]
        }
      ],
      "source": [
        "muestra['dup'] = muestra.groupby(['directorio_gen', 'secuencia_p_gen'])['aux_dup'].transform('max')"
      ]
    },
    {
      "cell_type": "code",
      "execution_count": null,
      "metadata": {
        "colab": {
          "base_uri": "https://localhost:8080/"
        },
        "id": "-Gsj9hNFvE0d",
        "outputId": "1cdfaaff-d5e4-4bde-ae1d-a32a122411c3"
      },
      "outputs": [
        {
          "name": "stderr",
          "output_type": "stream",
          "text": [
            "<ipython-input-234-af2435e169db>:2: SettingWithCopyWarning: \n",
            "A value is trying to be set on a copy of a slice from a DataFrame.\n",
            "Try using .loc[row_indexer,col_indexer] = value instead\n",
            "\n",
            "See the caveats in the documentation: https://pandas.pydata.org/pandas-docs/stable/user_guide/indexing.html#returning-a-view-versus-a-copy\n",
            "  muestra['hijo_tiempo'] = muestra.groupby(['directorio_gen', 'secuencia_p_gen'])['p6426_ocu'].transform('max')\n"
          ]
        }
      ],
      "source": [
        "# Dado que son hijos ocupados con el primer trabajo y misma edad, nos quedamos con aquellos que tengan mas tiempo en el trabajo\n",
        "muestra['hijo_tiempo'] = muestra.groupby(['directorio_gen', 'secuencia_p_gen'])['p6426_ocu'].transform('max')"
      ]
    },
    {
      "cell_type": "code",
      "execution_count": null,
      "metadata": {
        "id": "O6eo-u1YG04v"
      },
      "outputs": [],
      "source": [
        "#muestra.loc[muestra['dup'] == 1, ['DIRECTORIO', 'P6050', 'P6040', 'P6426', 'hijo_mayor', 'hijo_tiempo']].head(30)"
      ]
    },
    {
      "cell_type": "code",
      "execution_count": null,
      "metadata": {
        "id": "LRq0zE_YwI46"
      },
      "outputs": [],
      "source": [
        "# Eliminando los demas\n",
        "muestra = muestra[muestra['p6426_ocu'] == muestra['hijo_tiempo']]"
      ]
    },
    {
      "attachments": {},
      "cell_type": "markdown",
      "metadata": {
        "id": "tQbSDxom3s-m"
      },
      "source": [
        "#### Aleatorio"
      ]
    },
    {
      "cell_type": "code",
      "execution_count": null,
      "metadata": {
        "id": "nOmMZh6wxrK2"
      },
      "outputs": [],
      "source": [
        "# Seguimos con duplicados\n",
        "muestra['dup2'] = muestra.duplicated('directorio_gen')"
      ]
    },
    {
      "cell_type": "code",
      "execution_count": null,
      "metadata": {
        "colab": {
          "base_uri": "https://localhost:8080/"
        },
        "id": "8BLimQuKxrK2",
        "outputId": "ac683069-6c03-4c37-f719-c70c97ea9f4b"
      },
      "outputs": [
        {
          "data": {
            "text/plain": [
              "dup2\n",
              "False    27812\n",
              "True        50\n",
              "Name: directorio_gen, dtype: int64"
            ]
          },
          "execution_count": 238,
          "metadata": {},
          "output_type": "execute_result"
        }
      ],
      "source": [
        "muestra.groupby('dup2')['directorio_gen'].count()"
      ]
    },
    {
      "cell_type": "code",
      "execution_count": null,
      "metadata": {
        "colab": {
          "base_uri": "https://localhost:8080/"
        },
        "id": "SRmEuyVtzAaO",
        "outputId": "94d6e4e7-5c83-490b-dab4-4ac591902efc"
      },
      "outputs": [
        {
          "data": {
            "text/html": [
              "\n",
              "  <div id=\"df-bedd2685-1365-4072-a621-5c927aa494c7\">\n",
              "    <div class=\"colab-df-container\">\n",
              "      <div>\n",
              "<style scoped>\n",
              "    .dataframe tbody tr th:only-of-type {\n",
              "        vertical-align: middle;\n",
              "    }\n",
              "\n",
              "    .dataframe tbody tr th {\n",
              "        vertical-align: top;\n",
              "    }\n",
              "\n",
              "    .dataframe thead th {\n",
              "        text-align: right;\n",
              "    }\n",
              "</style>\n",
              "<table border=\"1\" class=\"dataframe\">\n",
              "  <thead>\n",
              "    <tr style=\"text-align: right;\">\n",
              "      <th></th>\n",
              "      <th>directorio_gen</th>\n",
              "      <th>inglabo_ocu</th>\n",
              "    </tr>\n",
              "  </thead>\n",
              "  <tbody>\n",
              "    <tr>\n",
              "      <th>460446</th>\n",
              "      <td>5000058</td>\n",
              "      <td>NaN</td>\n",
              "    </tr>\n",
              "    <tr>\n",
              "      <th>525661</th>\n",
              "      <td>5022077</td>\n",
              "      <td>0.0</td>\n",
              "    </tr>\n",
              "    <tr>\n",
              "      <th>343677</th>\n",
              "      <td>5024411</td>\n",
              "      <td>NaN</td>\n",
              "    </tr>\n",
              "    <tr>\n",
              "      <th>318419</th>\n",
              "      <td>5027767</td>\n",
              "      <td>240000.0</td>\n",
              "    </tr>\n",
              "    <tr>\n",
              "      <th>77356</th>\n",
              "      <td>5030066</td>\n",
              "      <td>900000.0</td>\n",
              "    </tr>\n",
              "  </tbody>\n",
              "</table>\n",
              "</div>\n",
              "      <button class=\"colab-df-convert\" onclick=\"convertToInteractive('df-bedd2685-1365-4072-a621-5c927aa494c7')\"\n",
              "              title=\"Convert this dataframe to an interactive table.\"\n",
              "              style=\"display:none;\">\n",
              "        \n",
              "  <svg xmlns=\"http://www.w3.org/2000/svg\" height=\"24px\"viewBox=\"0 0 24 24\"\n",
              "       width=\"24px\">\n",
              "    <path d=\"M0 0h24v24H0V0z\" fill=\"none\"/>\n",
              "    <path d=\"M18.56 5.44l.94 2.06.94-2.06 2.06-.94-2.06-.94-.94-2.06-.94 2.06-2.06.94zm-11 1L8.5 8.5l.94-2.06 2.06-.94-2.06-.94L8.5 2.5l-.94 2.06-2.06.94zm10 10l.94 2.06.94-2.06 2.06-.94-2.06-.94-.94-2.06-.94 2.06-2.06.94z\"/><path d=\"M17.41 7.96l-1.37-1.37c-.4-.4-.92-.59-1.43-.59-.52 0-1.04.2-1.43.59L10.3 9.45l-7.72 7.72c-.78.78-.78 2.05 0 2.83L4 21.41c.39.39.9.59 1.41.59.51 0 1.02-.2 1.41-.59l7.78-7.78 2.81-2.81c.8-.78.8-2.07 0-2.86zM5.41 20L4 18.59l7.72-7.72 1.47 1.35L5.41 20z\"/>\n",
              "  </svg>\n",
              "      </button>\n",
              "      \n",
              "  <style>\n",
              "    .colab-df-container {\n",
              "      display:flex;\n",
              "      flex-wrap:wrap;\n",
              "      gap: 12px;\n",
              "    }\n",
              "\n",
              "    .colab-df-convert {\n",
              "      background-color: #E8F0FE;\n",
              "      border: none;\n",
              "      border-radius: 50%;\n",
              "      cursor: pointer;\n",
              "      display: none;\n",
              "      fill: #1967D2;\n",
              "      height: 32px;\n",
              "      padding: 0 0 0 0;\n",
              "      width: 32px;\n",
              "    }\n",
              "\n",
              "    .colab-df-convert:hover {\n",
              "      background-color: #E2EBFA;\n",
              "      box-shadow: 0px 1px 2px rgba(60, 64, 67, 0.3), 0px 1px 3px 1px rgba(60, 64, 67, 0.15);\n",
              "      fill: #174EA6;\n",
              "    }\n",
              "\n",
              "    [theme=dark] .colab-df-convert {\n",
              "      background-color: #3B4455;\n",
              "      fill: #D2E3FC;\n",
              "    }\n",
              "\n",
              "    [theme=dark] .colab-df-convert:hover {\n",
              "      background-color: #434B5C;\n",
              "      box-shadow: 0px 1px 3px 1px rgba(0, 0, 0, 0.15);\n",
              "      filter: drop-shadow(0px 1px 2px rgba(0, 0, 0, 0.3));\n",
              "      fill: #FFFFFF;\n",
              "    }\n",
              "  </style>\n",
              "\n",
              "      <script>\n",
              "        const buttonEl =\n",
              "          document.querySelector('#df-bedd2685-1365-4072-a621-5c927aa494c7 button.colab-df-convert');\n",
              "        buttonEl.style.display =\n",
              "          google.colab.kernel.accessAllowed ? 'block' : 'none';\n",
              "\n",
              "        async function convertToInteractive(key) {\n",
              "          const element = document.querySelector('#df-bedd2685-1365-4072-a621-5c927aa494c7');\n",
              "          const dataTable =\n",
              "            await google.colab.kernel.invokeFunction('convertToInteractive',\n",
              "                                                     [key], {});\n",
              "          if (!dataTable) return;\n",
              "\n",
              "          const docLinkHtml = 'Like what you see? Visit the ' +\n",
              "            '<a target=\"_blank\" href=https://colab.research.google.com/notebooks/data_table.ipynb>data table notebook</a>'\n",
              "            + ' to learn more about interactive tables.';\n",
              "          element.innerHTML = '';\n",
              "          dataTable['output_type'] = 'display_data';\n",
              "          await google.colab.output.renderOutput(dataTable, element);\n",
              "          const docLink = document.createElement('div');\n",
              "          docLink.innerHTML = docLinkHtml;\n",
              "          element.appendChild(docLink);\n",
              "        }\n",
              "      </script>\n",
              "    </div>\n",
              "  </div>\n",
              "  "
            ],
            "text/plain": [
              "        directorio_gen  inglabo_ocu\n",
              "460446         5000058          NaN\n",
              "525661         5022077          0.0\n",
              "343677         5024411          NaN\n",
              "318419         5027767     240000.0\n",
              "77356          5030066     900000.0"
            ]
          },
          "execution_count": 239,
          "metadata": {},
          "output_type": "execute_result"
        }
      ],
      "source": [
        "# A estos duplicados revisamos si existe otra variable que nos permita seleccionar entre ellos. Se prueba con INGLABO\n",
        "muestra.loc[muestra['dup2']==1, ['directorio_gen', 'inglabo_ocu']].head(5)"
      ]
    },
    {
      "cell_type": "code",
      "execution_count": null,
      "metadata": {
        "colab": {
          "base_uri": "https://localhost:8080/"
        },
        "id": "J4OzmeHezZS0",
        "outputId": "6b1099be-7f8e-49ab-d84d-865d114cb8e9"
      },
      "outputs": [
        {
          "data": {
            "text/html": [
              "\n",
              "  <div id=\"df-3b6ad6ad-b35a-4f37-a773-c2421a776ca0\">\n",
              "    <div class=\"colab-df-container\">\n",
              "      <div>\n",
              "<style scoped>\n",
              "    .dataframe tbody tr th:only-of-type {\n",
              "        vertical-align: middle;\n",
              "    }\n",
              "\n",
              "    .dataframe tbody tr th {\n",
              "        vertical-align: top;\n",
              "    }\n",
              "\n",
              "    .dataframe thead th {\n",
              "        text-align: right;\n",
              "    }\n",
              "</style>\n",
              "<table border=\"1\" class=\"dataframe\">\n",
              "  <thead>\n",
              "    <tr style=\"text-align: right;\">\n",
              "      <th></th>\n",
              "      <th>directorio_gen</th>\n",
              "      <th>inglabo_ocu</th>\n",
              "    </tr>\n",
              "  </thead>\n",
              "  <tbody>\n",
              "    <tr>\n",
              "      <th>80537</th>\n",
              "      <td>5027767</td>\n",
              "      <td>800000.0</td>\n",
              "    </tr>\n",
              "    <tr>\n",
              "      <th>318419</th>\n",
              "      <td>5027767</td>\n",
              "      <td>240000.0</td>\n",
              "    </tr>\n",
              "  </tbody>\n",
              "</table>\n",
              "</div>\n",
              "      <button class=\"colab-df-convert\" onclick=\"convertToInteractive('df-3b6ad6ad-b35a-4f37-a773-c2421a776ca0')\"\n",
              "              title=\"Convert this dataframe to an interactive table.\"\n",
              "              style=\"display:none;\">\n",
              "        \n",
              "  <svg xmlns=\"http://www.w3.org/2000/svg\" height=\"24px\"viewBox=\"0 0 24 24\"\n",
              "       width=\"24px\">\n",
              "    <path d=\"M0 0h24v24H0V0z\" fill=\"none\"/>\n",
              "    <path d=\"M18.56 5.44l.94 2.06.94-2.06 2.06-.94-2.06-.94-.94-2.06-.94 2.06-2.06.94zm-11 1L8.5 8.5l.94-2.06 2.06-.94-2.06-.94L8.5 2.5l-.94 2.06-2.06.94zm10 10l.94 2.06.94-2.06 2.06-.94-2.06-.94-.94-2.06-.94 2.06-2.06.94z\"/><path d=\"M17.41 7.96l-1.37-1.37c-.4-.4-.92-.59-1.43-.59-.52 0-1.04.2-1.43.59L10.3 9.45l-7.72 7.72c-.78.78-.78 2.05 0 2.83L4 21.41c.39.39.9.59 1.41.59.51 0 1.02-.2 1.41-.59l7.78-7.78 2.81-2.81c.8-.78.8-2.07 0-2.86zM5.41 20L4 18.59l7.72-7.72 1.47 1.35L5.41 20z\"/>\n",
              "  </svg>\n",
              "      </button>\n",
              "      \n",
              "  <style>\n",
              "    .colab-df-container {\n",
              "      display:flex;\n",
              "      flex-wrap:wrap;\n",
              "      gap: 12px;\n",
              "    }\n",
              "\n",
              "    .colab-df-convert {\n",
              "      background-color: #E8F0FE;\n",
              "      border: none;\n",
              "      border-radius: 50%;\n",
              "      cursor: pointer;\n",
              "      display: none;\n",
              "      fill: #1967D2;\n",
              "      height: 32px;\n",
              "      padding: 0 0 0 0;\n",
              "      width: 32px;\n",
              "    }\n",
              "\n",
              "    .colab-df-convert:hover {\n",
              "      background-color: #E2EBFA;\n",
              "      box-shadow: 0px 1px 2px rgba(60, 64, 67, 0.3), 0px 1px 3px 1px rgba(60, 64, 67, 0.15);\n",
              "      fill: #174EA6;\n",
              "    }\n",
              "\n",
              "    [theme=dark] .colab-df-convert {\n",
              "      background-color: #3B4455;\n",
              "      fill: #D2E3FC;\n",
              "    }\n",
              "\n",
              "    [theme=dark] .colab-df-convert:hover {\n",
              "      background-color: #434B5C;\n",
              "      box-shadow: 0px 1px 3px 1px rgba(0, 0, 0, 0.15);\n",
              "      filter: drop-shadow(0px 1px 2px rgba(0, 0, 0, 0.3));\n",
              "      fill: #FFFFFF;\n",
              "    }\n",
              "  </style>\n",
              "\n",
              "      <script>\n",
              "        const buttonEl =\n",
              "          document.querySelector('#df-3b6ad6ad-b35a-4f37-a773-c2421a776ca0 button.colab-df-convert');\n",
              "        buttonEl.style.display =\n",
              "          google.colab.kernel.accessAllowed ? 'block' : 'none';\n",
              "\n",
              "        async function convertToInteractive(key) {\n",
              "          const element = document.querySelector('#df-3b6ad6ad-b35a-4f37-a773-c2421a776ca0');\n",
              "          const dataTable =\n",
              "            await google.colab.kernel.invokeFunction('convertToInteractive',\n",
              "                                                     [key], {});\n",
              "          if (!dataTable) return;\n",
              "\n",
              "          const docLinkHtml = 'Like what you see? Visit the ' +\n",
              "            '<a target=\"_blank\" href=https://colab.research.google.com/notebooks/data_table.ipynb>data table notebook</a>'\n",
              "            + ' to learn more about interactive tables.';\n",
              "          element.innerHTML = '';\n",
              "          dataTable['output_type'] = 'display_data';\n",
              "          await google.colab.output.renderOutput(dataTable, element);\n",
              "          const docLink = document.createElement('div');\n",
              "          docLink.innerHTML = docLinkHtml;\n",
              "          element.appendChild(docLink);\n",
              "        }\n",
              "      </script>\n",
              "    </div>\n",
              "  </div>\n",
              "  "
            ],
            "text/plain": [
              "        directorio_gen  inglabo_ocu\n",
              "80537          5027767     800000.0\n",
              "318419         5027767     240000.0"
            ]
          },
          "execution_count": 240,
          "metadata": {},
          "output_type": "execute_result"
        }
      ],
      "source": [
        "# No obstante, aunque existen observaciones con diferEntes valores, suele ser más la excepción\n",
        "muestra.loc[muestra['directorio_gen']==5027767, ['directorio_gen', 'inglabo_ocu']]"
      ]
    },
    {
      "cell_type": "code",
      "execution_count": null,
      "metadata": {
        "colab": {
          "base_uri": "https://localhost:8080/"
        },
        "id": "J-CbeFEyxYd2",
        "outputId": "95de602b-59df-4b37-ce37-18fe1be6c24f"
      },
      "outputs": [
        {
          "data": {
            "text/html": [
              "\n",
              "  <div id=\"df-563078d2-fe13-4bf2-acee-e19d698b88fc\">\n",
              "    <div class=\"colab-df-container\">\n",
              "      <div>\n",
              "<style scoped>\n",
              "    .dataframe tbody tr th:only-of-type {\n",
              "        vertical-align: middle;\n",
              "    }\n",
              "\n",
              "    .dataframe tbody tr th {\n",
              "        vertical-align: top;\n",
              "    }\n",
              "\n",
              "    .dataframe thead th {\n",
              "        text-align: right;\n",
              "    }\n",
              "</style>\n",
              "<table border=\"1\" class=\"dataframe\">\n",
              "  <thead>\n",
              "    <tr style=\"text-align: right;\">\n",
              "      <th></th>\n",
              "      <th>directorio_gen</th>\n",
              "      <th>secuencia_p_gen</th>\n",
              "      <th>orden_gen</th>\n",
              "      <th>mes_gen</th>\n",
              "      <th>p3271_gen</th>\n",
              "      <th>p6040_gen</th>\n",
              "      <th>p6050_gen</th>\n",
              "      <th>p6080_gen</th>\n",
              "      <th>p6090_gen</th>\n",
              "      <th>p7020_ocu</th>\n",
              "      <th>...</th>\n",
              "      <th>santander</th>\n",
              "      <th>sucre</th>\n",
              "      <th>tolima</th>\n",
              "      <th>valle</th>\n",
              "      <th>otros</th>\n",
              "      <th>hijo_mayor</th>\n",
              "      <th>aux_dup</th>\n",
              "      <th>dup</th>\n",
              "      <th>hijo_tiempo</th>\n",
              "      <th>dup2</th>\n",
              "    </tr>\n",
              "  </thead>\n",
              "  <tbody>\n",
              "    <tr>\n",
              "      <th>527667</th>\n",
              "      <td>5000015</td>\n",
              "      <td>1</td>\n",
              "      <td>4</td>\n",
              "      <td>1</td>\n",
              "      <td>1</td>\n",
              "      <td>22</td>\n",
              "      <td>3</td>\n",
              "      <td>6</td>\n",
              "      <td>1</td>\n",
              "      <td>2.0</td>\n",
              "      <td>...</td>\n",
              "      <td>0</td>\n",
              "      <td>0</td>\n",
              "      <td>0</td>\n",
              "      <td>0</td>\n",
              "      <td>0</td>\n",
              "      <td>22</td>\n",
              "      <td>False</td>\n",
              "      <td>False</td>\n",
              "      <td>9.0</td>\n",
              "      <td>False</td>\n",
              "    </tr>\n",
              "    <tr>\n",
              "      <th>393481</th>\n",
              "      <td>5000031</td>\n",
              "      <td>1</td>\n",
              "      <td>3</td>\n",
              "      <td>1</td>\n",
              "      <td>1</td>\n",
              "      <td>17</td>\n",
              "      <td>3</td>\n",
              "      <td>6</td>\n",
              "      <td>1</td>\n",
              "      <td>2.0</td>\n",
              "      <td>...</td>\n",
              "      <td>0</td>\n",
              "      <td>0</td>\n",
              "      <td>0</td>\n",
              "      <td>0</td>\n",
              "      <td>0</td>\n",
              "      <td>17</td>\n",
              "      <td>False</td>\n",
              "      <td>False</td>\n",
              "      <td>24.0</td>\n",
              "      <td>False</td>\n",
              "    </tr>\n",
              "    <tr>\n",
              "      <th>316288</th>\n",
              "      <td>5000032</td>\n",
              "      <td>1</td>\n",
              "      <td>2</td>\n",
              "      <td>1</td>\n",
              "      <td>2</td>\n",
              "      <td>30</td>\n",
              "      <td>3</td>\n",
              "      <td>6</td>\n",
              "      <td>1</td>\n",
              "      <td>2.0</td>\n",
              "      <td>...</td>\n",
              "      <td>0</td>\n",
              "      <td>0</td>\n",
              "      <td>0</td>\n",
              "      <td>0</td>\n",
              "      <td>0</td>\n",
              "      <td>30</td>\n",
              "      <td>False</td>\n",
              "      <td>False</td>\n",
              "      <td>30.0</td>\n",
              "      <td>False</td>\n",
              "    </tr>\n",
              "    <tr>\n",
              "      <th>305626</th>\n",
              "      <td>5000035</td>\n",
              "      <td>1</td>\n",
              "      <td>3</td>\n",
              "      <td>1</td>\n",
              "      <td>1</td>\n",
              "      <td>28</td>\n",
              "      <td>3</td>\n",
              "      <td>6</td>\n",
              "      <td>1</td>\n",
              "      <td>2.0</td>\n",
              "      <td>...</td>\n",
              "      <td>0</td>\n",
              "      <td>0</td>\n",
              "      <td>0</td>\n",
              "      <td>0</td>\n",
              "      <td>0</td>\n",
              "      <td>28</td>\n",
              "      <td>False</td>\n",
              "      <td>False</td>\n",
              "      <td>144.0</td>\n",
              "      <td>False</td>\n",
              "    </tr>\n",
              "    <tr>\n",
              "      <th>558048</th>\n",
              "      <td>5000044</td>\n",
              "      <td>1</td>\n",
              "      <td>3</td>\n",
              "      <td>1</td>\n",
              "      <td>1</td>\n",
              "      <td>33</td>\n",
              "      <td>3</td>\n",
              "      <td>6</td>\n",
              "      <td>1</td>\n",
              "      <td>2.0</td>\n",
              "      <td>...</td>\n",
              "      <td>0</td>\n",
              "      <td>0</td>\n",
              "      <td>0</td>\n",
              "      <td>0</td>\n",
              "      <td>0</td>\n",
              "      <td>33</td>\n",
              "      <td>False</td>\n",
              "      <td>False</td>\n",
              "      <td>60.0</td>\n",
              "      <td>False</td>\n",
              "    </tr>\n",
              "  </tbody>\n",
              "</table>\n",
              "<p>5 rows × 129 columns</p>\n",
              "</div>\n",
              "      <button class=\"colab-df-convert\" onclick=\"convertToInteractive('df-563078d2-fe13-4bf2-acee-e19d698b88fc')\"\n",
              "              title=\"Convert this dataframe to an interactive table.\"\n",
              "              style=\"display:none;\">\n",
              "        \n",
              "  <svg xmlns=\"http://www.w3.org/2000/svg\" height=\"24px\"viewBox=\"0 0 24 24\"\n",
              "       width=\"24px\">\n",
              "    <path d=\"M0 0h24v24H0V0z\" fill=\"none\"/>\n",
              "    <path d=\"M18.56 5.44l.94 2.06.94-2.06 2.06-.94-2.06-.94-.94-2.06-.94 2.06-2.06.94zm-11 1L8.5 8.5l.94-2.06 2.06-.94-2.06-.94L8.5 2.5l-.94 2.06-2.06.94zm10 10l.94 2.06.94-2.06 2.06-.94-2.06-.94-.94-2.06-.94 2.06-2.06.94z\"/><path d=\"M17.41 7.96l-1.37-1.37c-.4-.4-.92-.59-1.43-.59-.52 0-1.04.2-1.43.59L10.3 9.45l-7.72 7.72c-.78.78-.78 2.05 0 2.83L4 21.41c.39.39.9.59 1.41.59.51 0 1.02-.2 1.41-.59l7.78-7.78 2.81-2.81c.8-.78.8-2.07 0-2.86zM5.41 20L4 18.59l7.72-7.72 1.47 1.35L5.41 20z\"/>\n",
              "  </svg>\n",
              "      </button>\n",
              "      \n",
              "  <style>\n",
              "    .colab-df-container {\n",
              "      display:flex;\n",
              "      flex-wrap:wrap;\n",
              "      gap: 12px;\n",
              "    }\n",
              "\n",
              "    .colab-df-convert {\n",
              "      background-color: #E8F0FE;\n",
              "      border: none;\n",
              "      border-radius: 50%;\n",
              "      cursor: pointer;\n",
              "      display: none;\n",
              "      fill: #1967D2;\n",
              "      height: 32px;\n",
              "      padding: 0 0 0 0;\n",
              "      width: 32px;\n",
              "    }\n",
              "\n",
              "    .colab-df-convert:hover {\n",
              "      background-color: #E2EBFA;\n",
              "      box-shadow: 0px 1px 2px rgba(60, 64, 67, 0.3), 0px 1px 3px 1px rgba(60, 64, 67, 0.15);\n",
              "      fill: #174EA6;\n",
              "    }\n",
              "\n",
              "    [theme=dark] .colab-df-convert {\n",
              "      background-color: #3B4455;\n",
              "      fill: #D2E3FC;\n",
              "    }\n",
              "\n",
              "    [theme=dark] .colab-df-convert:hover {\n",
              "      background-color: #434B5C;\n",
              "      box-shadow: 0px 1px 3px 1px rgba(0, 0, 0, 0.15);\n",
              "      filter: drop-shadow(0px 1px 2px rgba(0, 0, 0, 0.3));\n",
              "      fill: #FFFFFF;\n",
              "    }\n",
              "  </style>\n",
              "\n",
              "      <script>\n",
              "        const buttonEl =\n",
              "          document.querySelector('#df-563078d2-fe13-4bf2-acee-e19d698b88fc button.colab-df-convert');\n",
              "        buttonEl.style.display =\n",
              "          google.colab.kernel.accessAllowed ? 'block' : 'none';\n",
              "\n",
              "        async function convertToInteractive(key) {\n",
              "          const element = document.querySelector('#df-563078d2-fe13-4bf2-acee-e19d698b88fc');\n",
              "          const dataTable =\n",
              "            await google.colab.kernel.invokeFunction('convertToInteractive',\n",
              "                                                     [key], {});\n",
              "          if (!dataTable) return;\n",
              "\n",
              "          const docLinkHtml = 'Like what you see? Visit the ' +\n",
              "            '<a target=\"_blank\" href=https://colab.research.google.com/notebooks/data_table.ipynb>data table notebook</a>'\n",
              "            + ' to learn more about interactive tables.';\n",
              "          element.innerHTML = '';\n",
              "          dataTable['output_type'] = 'display_data';\n",
              "          await google.colab.output.renderOutput(dataTable, element);\n",
              "          const docLink = document.createElement('div');\n",
              "          docLink.innerHTML = docLinkHtml;\n",
              "          element.appendChild(docLink);\n",
              "        }\n",
              "      </script>\n",
              "    </div>\n",
              "  </div>\n",
              "  "
            ],
            "text/plain": [
              "        directorio_gen  secuencia_p_gen  orden_gen  mes_gen  p3271_gen  \\\n",
              "527667         5000015                1          4        1          1   \n",
              "393481         5000031                1          3        1          1   \n",
              "316288         5000032                1          2        1          2   \n",
              "305626         5000035                1          3        1          1   \n",
              "558048         5000044                1          3        1          1   \n",
              "\n",
              "        p6040_gen  p6050_gen  p6080_gen  p6090_gen  p7020_ocu  ...  santander  \\\n",
              "527667         22          3          6          1        2.0  ...          0   \n",
              "393481         17          3          6          1        2.0  ...          0   \n",
              "316288         30          3          6          1        2.0  ...          0   \n",
              "305626         28          3          6          1        2.0  ...          0   \n",
              "558048         33          3          6          1        2.0  ...          0   \n",
              "\n",
              "        sucre  tolima  valle  otros  hijo_mayor  aux_dup    dup  hijo_tiempo  \\\n",
              "527667      0       0      0      0          22    False  False          9.0   \n",
              "393481      0       0      0      0          17    False  False         24.0   \n",
              "316288      0       0      0      0          30    False  False         30.0   \n",
              "305626      0       0      0      0          28    False  False        144.0   \n",
              "558048      0       0      0      0          33    False  False         60.0   \n",
              "\n",
              "         dup2  \n",
              "527667  False  \n",
              "393481  False  \n",
              "316288  False  \n",
              "305626  False  \n",
              "558048  False  \n",
              "\n",
              "[5 rows x 129 columns]"
            ]
          },
          "execution_count": 241,
          "metadata": {},
          "output_type": "execute_result"
        }
      ],
      "source": [
        "# Por lo que se decide eliminar de manera aleatoria (Representa unicamente el 0,09% de la muestra)\n",
        "muestra = muestra[muestra['dup2']==0]\n",
        "muestra.head(5)"
      ]
    },
    {
      "attachments": {},
      "cell_type": "markdown",
      "metadata": {
        "id": "mYBjwojt38X7"
      },
      "source": [
        "### 02.4. Almacenar en zona Silver selección de muestra con datos filtrados"
      ]
    },
    {
      "cell_type": "code",
      "execution_count": null,
      "metadata": {
        "colab": {
          "base_uri": "https://localhost:8080/"
        },
        "id": "Fc4TLxOB5KHy",
        "outputId": "78e2a129-18ab-4aa2-cdcc-3f313c957281"
      },
      "outputs": [
        {
          "data": {
            "text/plain": [
              "(27812, 129)"
            ]
          },
          "execution_count": 242,
          "metadata": {},
          "output_type": "execute_result"
        }
      ],
      "source": [
        "muestra.shape"
      ]
    },
    {
      "cell_type": "code",
      "execution_count": null,
      "metadata": {
        "colab": {
          "base_uri": "https://localhost:8080/"
        },
        "id": "1VyaXx9s4r3g",
        "outputId": "f918ef0c-33c8-4330-dc31-88b038e63ab5"
      },
      "outputs": [
        {
          "name": "stderr",
          "output_type": "stream",
          "text": [
            "/content/spark-3.3.2-bin-hadoop3/python/pyspark/sql/pandas/conversion.py:604: FutureWarning: iteritems is deprecated and will be removed in a future version. Use .items instead.\n",
            "  [(c, t) for (_, c), t in zip(pdf_slice.iteritems(), arrow_types)]\n"
          ]
        }
      ],
      "source": [
        "# Llevar pandas a DataFrame para almacenar datos en S3\n",
        "df_spMuestra = spark.createDataFrame(muestra)"
      ]
    },
    {
      "cell_type": "code",
      "execution_count": null,
      "metadata": {
        "colab": {
          "base_uri": "https://localhost:8080/"
        },
        "id": "fIZ7GbBOxywD",
        "outputId": "02855443-2b9d-4a8f-c0dc-abdf316153c1"
      },
      "outputs": [
        {
          "name": "stdout",
          "output_type": "stream",
          "text": [
            "['p6100_gen', 'p9440_ocu', 'inglabo_ocu', 'p3363_ocu', 'lgbt_numerica_gen', 'aux_edad_jefe', 'salud', 'pension', 'formal', 'aux']\n"
          ]
        }
      ],
      "source": [
        "from pyspark.sql.functions import col\n",
        "\n",
        "# Se observa que algunos registros tienen datos nulos y al almacenarlos el tipo de archivo CSV o PARQUET no lo soporta, por lo tanto,\n",
        "# se deben identificar cuales columnas tienen valores nulos\n",
        "columnas_con_nulos = [columna for columna in df_spMuestra.columns if df_spMuestra.filter(col(columna).isNull()).count() > 0]\n",
        "print(columnas_con_nulos)"
      ]
    },
    {
      "cell_type": "code",
      "execution_count": null,
      "metadata": {
        "id": "B1-xrT9YyGgB"
      },
      "outputs": [],
      "source": [
        "from pyspark.sql.functions import isnan, when, col\n",
        "from pyspark.sql.types import IntegerType\n",
        "\n",
        "# Generar una columna booleana para cada columna que indica si es nula o vacía\n",
        "columnas = df_spMuestra.columns\n",
        "condiciones = [col(columna).isNull() | (col(columna) == \"\") for columna in columnas]\n",
        "condicion_general = condiciones[0]\n",
        "\n",
        "for condicion in condiciones[1:]:\n",
        "    condicion_general = condicion_general | condicion\n",
        "\n",
        "# Agregar una columna adicional llamada \"fila_vacia\" que indica si alguna columna es nula o vacía\n",
        "df_con_filas_vacias = df_spMuestra.withColumn(\"fila_vacia\", condicion_general)\n",
        "\n",
        "# Crear una nueva columna por cada columna original que reemplace el valor vacío o nulo con 0\n",
        "columnas_con_0 = [when(col(columna).isNull() | (col(columna) == \"\"), 0)\n",
        "                  .otherwise(col(columna).cast(IntegerType())).alias(columna) for columna in columnas]\n",
        "\n",
        "# Aplicar las columnas con el valor 0 al DataFrame\n",
        "df_con_valores_cambiadosMuestra = df_con_filas_vacias.select(columnas_con_0)\n",
        "\n",
        "# Almacenar datos de muestra filtrada en S3\n",
        "df_con_valores_cambiadosMuestra.write.mode(\"overwrite\").csv(\"s3a://integrador-grupo2/Silver/MuestraAnalisis/muestra.csv\")\n"
      ]
    },
    {
      "attachments": {},
      "cell_type": "markdown",
      "metadata": {
        "id": "2-GcvLpUiiE-"
      },
      "source": [
        "## 03. Análisis preliminar"
      ]
    },
    {
      "attachments": {},
      "cell_type": "markdown",
      "metadata": {
        "id": "fW3_vzUIfqeQ"
      },
      "source": [
        "### 03.0. Variables"
      ]
    },
    {
      "cell_type": "code",
      "execution_count": null,
      "metadata": {
        "colab": {
          "base_uri": "https://localhost:8080/"
        },
        "id": "pi7czkbXT0vp",
        "outputId": "5af840e6-bb16-4f61-d103-28b24ea6b498"
      },
      "outputs": [
        {
          "name": "stdout",
          "output_type": "stream",
          "text": [
            "['directorio_gen', 'secuencia_p_gen', 'orden_gen', 'mes_gen', 'p3271_gen', 'p6040_gen', 'p6050_gen', 'p6080_gen', 'p6090_gen', 'p7020_ocu', 'p6100_gen', 'p3042_gen', 'clase_gen', 'dpto_gen', 'fex_c18_gen', 'p9440_ocu', 'p6920_ocu', 'oci_ocu', 'inglabo_ocu', 'p6915_ocu', 'p6426_ocu', 'p7170s1_ocu', 'p515_ocu', 'p3363_ocu', 'lgbt_numerica_gen', 'discapacidad_gen', 'dificultad_gen', 'campesina_gen', 'aux_hijo', 'hijo', 'aux_oci', 'hijo_oci', 'aux_primer', 'primer', 'aux_jefe_hom', 'aux_jefe_muj', 'jefe_hombre', 'jefe_mujer', 'hijo_hombre', 'hijo_mujer', 'aux_edad_jefe', 'edad_jefe', 'edad_hijo', 'hijo_joven', 'aux_jefe_ninguno', 'aux_jefe_primaria', 'aux_jefe_secundaria', 'aux_jefe_media', 'aux_jefe_tecnica', 'aux_jefe_pregrado', 'aux_jefe_posgrado', 'jefe_ninguno', 'jefe_primaria', 'jefe_secundaria', 'jefe_media', 'jefe_tecnica', 'jefe_pregrado', 'jefe_posgrado', 'hijo_ninguno', 'hijo_primaria', 'hijo_secundaria', 'hijo_media', 'hijo_tecnica', 'hijo_pregrado', 'hijo_posgrado', 'aux_jefe_raza', 'jefe_raza', 'hijo_raza', 'salud', 'pension', 'formal', 'aux_jefe_formal', 'aux_jefe_informal', 'jefe_formal', 'jefe_informal', 'hijo_formal', 'aux_urbana', 'aux_rural', 'urbana', 'rural', 'prueba', 'prueba2', 'miembros', 'aux', 'ing_padres', 'Ling_padres', 'jefe', 'jefe_existe', 'pareja', 'pareja_existe', 'hogar_nuclear', 'hogar_padre', 'hogar_madre', 'internet', 'ayuda', 'lgbt', 'discapacidad', 'dificultad', 'campesino', 'antioquia', 'atlantico', 'bogota', 'bolivar', 'boyaca', 'caldas', 'caqueta', 'cauca', 'cesar', 'cordoba', 'cundinamarca', 'choco', 'huila', 'guajira', 'magdalena', 'meta', 'narino', 'norte', 'quindio', 'risaralda', 'santander', 'sucre', 'tolima', 'valle', 'otros', 'hijo_mayor', 'aux_dup', 'dup', 'hijo_tiempo', 'dup2']\n"
          ]
        }
      ],
      "source": [
        "# Iniciamos analisis de variables para determinar su correlación \n",
        "columnas = muestra.columns.tolist()\n",
        "print(columnas)"
      ]
    },
    {
      "cell_type": "code",
      "execution_count": null,
      "metadata": {
        "id": "H3dxMeqEjQsa"
      },
      "outputs": [],
      "source": [
        "variables_cov = ['hijo_formal','hijo_mujer', 'jefe_mujer', 'hijo_joven','edad_jefe', 'hijo_raza', 'jefe_formal', 'lgbt', 'discapacidad', 'campesino',         \n",
        "         'hijo_primaria', 'hijo_secundaria', 'hijo_media', 'hijo_tecnica', 'hijo_pregrado', 'hijo_posgrado',\n",
        "         'jefe_primaria', 'jefe_secundaria', 'jefe_media', 'jefe_tecnica', 'jefe_pregrado', 'jefe_posgrado', \n",
        "         'urbana', 'miembros', 'Ling_padres', 'internet', 'ayuda', 'hogar_nuclear', 'hogar_madre']"
      ]
    },
    {
      "cell_type": "code",
      "execution_count": null,
      "metadata": {
        "id": "179eyaGojQsa"
      },
      "outputs": [],
      "source": [
        "muestra_cov = muestra[variables_cov]"
      ]
    },
    {
      "attachments": {},
      "cell_type": "markdown",
      "metadata": {
        "id": "n2CcR77bnptX"
      },
      "source": [
        "### 03.1. Matriz de covarianza"
      ]
    },
    {
      "cell_type": "code",
      "execution_count": null,
      "metadata": {
        "id": "En7IyEHQnVOH"
      },
      "outputs": [],
      "source": [
        "cov_matrix = muestra_cov.cov()\n",
        "#print(cov_matrix)"
      ]
    },
    {
      "cell_type": "code",
      "execution_count": null,
      "metadata": {
        "colab": {
          "base_uri": "https://localhost:8080/"
        },
        "id": "Jnr3-cNEnc0k",
        "outputId": "7d7bfecb-1108-41e6-cdbe-ad6706fd9f27"
      },
      "outputs": [
        {
          "name": "stdout",
          "output_type": "stream",
          "text": [
            "93806.26613174051\n"
          ]
        }
      ],
      "source": [
        "#Calculo del numero de condición de la matriz de covarianza directamente\n",
        "cond_number = np.linalg.cond(cov_matrix)\n",
        "print(cond_number)"
      ]
    },
    {
      "cell_type": "code",
      "execution_count": null,
      "metadata": {
        "colab": {
          "base_uri": "https://localhost:8080/"
        },
        "id": "37hvCJH_nd6_",
        "outputId": "5afd8f69-ebbf-455e-9b28-697270b5ad62"
      },
      "outputs": [
        {
          "name": "stdout",
          "output_type": "stream",
          "text": [
            "[1.57359843e+02 3.31571663e+01 1.47588151e+00 4.73762806e-01\n",
            " 3.97006546e-01 2.87921543e-01 2.59319709e-01 2.07672222e-01\n",
            " 2.02879193e-01 1.80199486e-01 1.72414872e-01 1.63149423e-01\n",
            " 1.50555684e-01 1.17558256e-01 1.07729777e-01 9.73885714e-02\n",
            " 8.96946412e-02 7.54709960e-02 7.15245721e-02 6.47728049e-02\n",
            " 4.24726473e-02 4.16644482e-02 3.09583528e-02 2.30303519e-02\n",
            " 2.00730447e-02 1.45844929e-02 1.00088530e-02 7.72552237e-03\n",
            " 1.67749821e-03]\n"
          ]
        }
      ],
      "source": [
        "# Otra forma de generarlo es obteniendo los valores singulares\n",
        "# función de descomposición en valores singulares\n",
        "u, s, v = np.linalg.svd(cov_matrix)\n",
        "\n",
        "#Valores singulares matriz diagonal\n",
        "singular_values = s\n",
        "print(singular_values)"
      ]
    },
    {
      "cell_type": "code",
      "execution_count": null,
      "metadata": {
        "colab": {
          "base_uri": "https://localhost:8080/"
        },
        "id": "dZPeT1DAngqD",
        "outputId": "eca741ba-ee11-4221-b945-1e72d31ffb64"
      },
      "outputs": [
        {
          "name": "stdout",
          "output_type": "stream",
          "text": [
            "157.35984335330582\n",
            "0.001677498208193378\n"
          ]
        }
      ],
      "source": [
        "#Se toman valores mayor y menor\n",
        "max_val_singular = singular_values[0]\n",
        "min_val_singular = singular_values[-1]\n",
        "print (max_val_singular)\n",
        "print(min_val_singular)"
      ]
    },
    {
      "cell_type": "code",
      "execution_count": null,
      "metadata": {
        "colab": {
          "base_uri": "https://localhost:8080/"
        },
        "id": "vgbL8pkdnh1-",
        "outputId": "b4379203-7683-40f1-cc60-ab7161e42c98"
      },
      "outputs": [
        {
          "name": "stdout",
          "output_type": "stream",
          "text": [
            "93806.26613174049\n"
          ]
        }
      ],
      "source": [
        "#Numero de condición se obtiene de división max y min valor singular\n",
        "num_condicion = max_val_singular / min_val_singular\n",
        "print(num_condicion)"
      ]
    },
    {
      "attachments": {},
      "cell_type": "markdown",
      "metadata": {
        "id": "SHWeO3hXnjIS"
      },
      "source": [
        "### 03.2. Matriz de correlación"
      ]
    },
    {
      "cell_type": "code",
      "execution_count": null,
      "metadata": {
        "id": "zSO00kbfnlbj"
      },
      "outputs": [],
      "source": [
        "#Calculemos la matriz de correlación\n",
        "cor_matrix = muestra_cov.corr()\n",
        "#print(cor_matrix)"
      ]
    },
    {
      "cell_type": "code",
      "execution_count": null,
      "metadata": {
        "colab": {
          "base_uri": "https://localhost:8080/"
        },
        "id": "PKAMlNlTnuxg",
        "outputId": "4578fd6d-c7d5-4191-dead-cc1e6109a586"
      },
      "outputs": [
        {
          "data": {
            "image/png": "[encoded data removed]",
            "text/plain": [
              "<Figure size 640x480 with 2 Axes>"
            ]
          },
          "metadata": {},
          "output_type": "display_data"
        }
      ],
      "source": [
        "# Visualicemos la matriz de correlación como una gráfica de calor\n",
        "sns.heatmap(cor_matrix, cmap='coolwarm')\n",
        "#sns.heatmap(cor_matrix, cmap='YlGnBu')\n",
        "plt.show()"
      ]
    },
    {
      "cell_type": "code",
      "execution_count": null,
      "metadata": {
        "id": "lSsDIh1vVD1l"
      },
      "outputs": [],
      "source": [
        "# Encontrar las variables correlacionadas por 80%\n",
        "correlated_vars = []\n",
        "variables = cor_matrix.columns\n",
        "\n",
        "for i in range(len(variables)):\n",
        "    for j in range(i+1, len(variables)):\n",
        "        if cor_matrix.iloc[i, j] > 0.8:\n",
        "            correlated_vars.append((variables[i], variables[j]))\n",
        "\n",
        "# Mostrar las variables correlacionadas\n",
        "for var1, var2 in correlated_vars:\n",
        "    print(f\"{var1} y {var2} están correlacionadas (80%)\")"
      ]
    },
    {
      "cell_type": "code",
      "execution_count": null,
      "metadata": {
        "colab": {
          "base_uri": "https://localhost:8080/"
        },
        "id": "m0dQ4V_AVLN3",
        "outputId": "cf55b37b-b454-4fa6-ad76-9efbd764c2c4"
      },
      "outputs": [
        {
          "name": "stdout",
          "output_type": "stream",
          "text": [
            "hogar_nuclear y hogar_madre están correlacionadas (-80%)\n"
          ]
        }
      ],
      "source": [
        "# Encontrar las variables correlacionadas por -80%\n",
        "correlated_vars = []\n",
        "variables = cor_matrix.columns\n",
        "\n",
        "for i in range(len(variables)):\n",
        "    for j in range(i+1, len(variables)):\n",
        "        if cor_matrix.iloc[i, j] < -0.8:\n",
        "            correlated_vars.append((variables[i], variables[j]))\n",
        "\n",
        "# Mostrar las variables correlacionadas\n",
        "for var1, var2 in correlated_vars:\n",
        "    print(f\"{var1} y {var2} están correlacionadas (-80%)\")"
      ]
    },
    {
      "attachments": {},
      "cell_type": "markdown",
      "metadata": {
        "id": "_HNkK4NSVquQ"
      },
      "source": [
        "**Dados los resultados de las correlaciones donde las variables 'hogar_nuclear' y 'hogar_madre' están correlacionados en más de un 80% (de manera negativa), se decide escoger solo una de ellas.**"
      ]
    },
    {
      "cell_type": "code",
      "execution_count": null,
      "metadata": {
        "id": "WgZ_S1rbWYkL"
      },
      "outputs": [],
      "source": [
        "variables_cov_nuevas = ['hijo_formal','hijo_mujer', 'jefe_mujer', 'hijo_joven', 'edad_jefe', 'hijo_raza', 'jefe_formal', 'lgbt', 'discapacidad', 'campesino',         \n",
        "         'hijo_primaria', 'hijo_secundaria', 'hijo_media', 'hijo_tecnica', 'hijo_pregrado', 'hijo_posgrado',\n",
        "         'jefe_primaria', 'jefe_secundaria', 'jefe_media', 'jefe_tecnica', 'jefe_pregrado', 'jefe_posgrado', \n",
        "         'urbana', 'miembros', 'Ling_padres', 'internet', 'ayuda', 'hogar_nuclear']"
      ]
    },
    {
      "cell_type": "code",
      "execution_count": null,
      "metadata": {
        "id": "euEZF35JWYkN"
      },
      "outputs": [],
      "source": [
        "muestra_cov = muestra[variables_cov_nuevas]"
      ]
    },
    {
      "cell_type": "code",
      "execution_count": null,
      "metadata": {
        "id": "4StlssLoWYkP"
      },
      "outputs": [],
      "source": [
        "cov_matrix = muestra_cov.cov()"
      ]
    },
    {
      "cell_type": "code",
      "execution_count": null,
      "metadata": {
        "colab": {
          "base_uri": "https://localhost:8080/"
        },
        "id": "MIgGeqVhWYkP",
        "outputId": "7fe61653-a13a-44b0-d5e7-b129da2866e8"
      },
      "outputs": [
        {
          "name": "stdout",
          "output_type": "stream",
          "text": [
            "93803.664130539\n"
          ]
        }
      ],
      "source": [
        "#Volvemos a calcular el numero de condición de la matriz de covarianza directamente\n",
        "cond_number = np.linalg.cond(cov_matrix)\n",
        "print(cond_number) "
      ]
    },
    {
      "attachments": {},
      "cell_type": "markdown",
      "metadata": {
        "id": "i-hkhmwRWcwT"
      },
      "source": [
        "**El número de condición mejora con la eliminación de la variable 'hogar_madre'.**"
      ]
    },
    {
      "attachments": {},
      "cell_type": "markdown",
      "metadata": {
        "id": "_6PWXxC16rAD"
      },
      "source": [
        "## 04. Evaluación de Modelos\n"
      ]
    },
    {
      "attachments": {},
      "cell_type": "markdown",
      "metadata": {
        "id": "aYaK9e9Tf6oM"
      },
      "source": [
        "### 04.1. Variables"
      ]
    },
    {
      "cell_type": "code",
      "execution_count": null,
      "metadata": {
        "id": "yyRLNzE8gkcN"
      },
      "outputs": [],
      "source": [
        "# Matriz de datos\n",
        "var_x = ['hijo_mujer', 'jefe_mujer', 'hijo_joven', 'edad_jefe', 'hijo_raza', 'jefe_formal', 'lgbt', 'discapacidad', 'campesino',         \n",
        "         'hijo_primaria', 'hijo_secundaria', 'hijo_media', 'hijo_tecnica', 'hijo_pregrado', 'hijo_posgrado',\n",
        "         'jefe_primaria', 'jefe_secundaria', 'jefe_media', 'jefe_tecnica', 'jefe_pregrado', 'jefe_posgrado', \n",
        "         'urbana', 'miembros', 'Ling_padres', 'internet', 'ayuda', 'hogar_nuclear', 'antioquia', 'atlantico', \n",
        "         'bogota', 'bolivar', 'boyaca', 'caldas', 'caqueta', 'cauca', 'cesar', 'cordoba', 'cundinamarca', 'choco', 'huila',\n",
        "         'guajira', 'magdalena', 'meta', 'narino', 'norte', 'quindio', 'risaralda', 'santander', 'sucre', 'tolima', 'valle']"
      ]
    },
    {
      "cell_type": "code",
      "execution_count": null,
      "metadata": {
        "id": "B94x9nUKgtpM"
      },
      "outputs": [],
      "source": [
        "# Etiqueta que queremos predecir\n",
        "var_y = ['hijo_formal']"
      ]
    },
    {
      "cell_type": "code",
      "execution_count": null,
      "metadata": {
        "id": "m3yMt9paiM2B"
      },
      "outputs": [],
      "source": [
        "pesos = ['fex_c18_gen'] "
      ]
    },
    {
      "cell_type": "code",
      "execution_count": null,
      "metadata": {
        "id": "dwLV6vifgwwF"
      },
      "outputs": [],
      "source": [
        "X = muestra[var_x]"
      ]
    },
    {
      "cell_type": "code",
      "execution_count": null,
      "metadata": {
        "id": "-u8oOyG2iSsc"
      },
      "outputs": [],
      "source": [
        "Y = muestra[var_y]"
      ]
    },
    {
      "cell_type": "code",
      "execution_count": null,
      "metadata": {
        "id": "cHpQ12eHiWO-"
      },
      "outputs": [],
      "source": [
        "W = muestra[pesos]"
      ]
    },
    {
      "cell_type": "code",
      "execution_count": null,
      "metadata": {
        "colab": {
          "base_uri": "https://localhost:8080/"
        },
        "id": "L2kgOs00B0fS",
        "outputId": "840224f1-c43b-45fc-da55-fb3f3096ddfe"
      },
      "outputs": [
        {
          "data": {
            "text/plain": [
              "hijo_formal\n",
              "0    17954\n",
              "1     9858\n",
              "Name: hijo_formal, dtype: int64"
            ]
          },
          "execution_count": 268,
          "metadata": {},
          "output_type": "execute_result"
        }
      ],
      "source": [
        "Y.groupby('hijo_formal')['hijo_formal'].count()"
      ]
    },
    {
      "cell_type": "code",
      "execution_count": null,
      "metadata": {
        "colab": {
          "base_uri": "https://localhost:8080/"
        },
        "id": "LFyhzC5HBLx1",
        "outputId": "bc8a0664-77d8-49d6-cff3-ec50602b821e"
      },
      "outputs": [
        {
          "data": {
            "text/plain": [
              "hijo_formal\n",
              "0    0.645549\n",
              "1    0.354451\n",
              "Name: hijo_formal, dtype: float64"
            ]
          },
          "execution_count": 269,
          "metadata": {},
          "output_type": "execute_result"
        }
      ],
      "source": [
        "Y.groupby('hijo_formal')['hijo_formal'].count()/Y.shape[0]"
      ]
    },
    {
      "attachments": {},
      "cell_type": "markdown",
      "metadata": {
        "id": "rRPe1e7j6udl"
      },
      "source": [
        "### 04.2. Modelo probabilístico"
      ]
    },
    {
      "cell_type": "code",
      "execution_count": null,
      "metadata": {
        "id": "hYaOt98cl7J2"
      },
      "outputs": [],
      "source": [
        "from sklearn.model_selection import train_test_split\n",
        "import statsmodels.api as sm\n",
        "from sklearn.metrics import accuracy_score, recall_score\n",
        "from sklearn.metrics import confusion_matrix"
      ]
    },
    {
      "cell_type": "code",
      "execution_count": null,
      "metadata": {
        "id": "UQpnG38BkI_p"
      },
      "outputs": [],
      "source": [
        "# Dividir los datos en conjuntos de entrenamiento y prueba\n",
        "X_train, X_test, y_train, y_test = train_test_split(X, Y, test_size = 0.2, random_state = 42)"
      ]
    },
    {
      "cell_type": "code",
      "execution_count": null,
      "metadata": {
        "id": "78fRkG6KmOPC"
      },
      "outputs": [],
      "source": [
        "X_train = sm.add_constant(X_train, prepend=True)\n",
        "X_test  = sm.add_constant(X_test, prepend=True)"
      ]
    },
    {
      "cell_type": "code",
      "execution_count": null,
      "metadata": {
        "colab": {
          "base_uri": "https://localhost:8080/"
        },
        "id": "YUEEZZAamCVk",
        "outputId": "027ff83c-ae94-46a7-cc15-3e8a3e8ac85f"
      },
      "outputs": [
        {
          "name": "stdout",
          "output_type": "stream",
          "text": [
            "Optimization terminated successfully.\n",
            "         Current function value: 0.448931\n",
            "         Iterations 8\n",
            "                          Probit Regression Results                           \n",
            "==============================================================================\n",
            "Dep. Variable:            hijo_formal   No. Observations:                22249\n",
            "Model:                         Probit   Df Residuals:                    22197\n",
            "Method:                           MLE   Df Model:                           51\n",
            "Date:                Wed, 07 Jun 2023   Pseudo R-squ.:                  0.3103\n",
            "Time:                        19:03:44   Log-Likelihood:                -9988.3\n",
            "converged:                       True   LL-Null:                       -14483.\n",
            "Covariance Type:            nonrobust   LLR p-value:                     0.000\n",
            "===================================================================================\n",
            "                      coef    std err          z      P>|z|      [0.025      0.975]\n",
            "-----------------------------------------------------------------------------------\n",
            "const              -2.7410      0.286     -9.594      0.000      -3.301      -2.181\n",
            "hijo_mujer          0.1097      0.021      5.227      0.000       0.069       0.151\n",
            "jefe_mujer          0.0414      0.027      1.519      0.129      -0.012       0.095\n",
            "hijo_joven         -0.2919      0.026    -11.249      0.000      -0.343      -0.241\n",
            "edad_jefe           0.0077      0.001      6.198      0.000       0.005       0.010\n",
            "hijo_raza           0.0143      0.042      0.342      0.733      -0.068       0.096\n",
            "jefe_formal         0.4593      0.030     15.498      0.000       0.401       0.517\n",
            "lgbt               -0.1999      0.099     -2.015      0.044      -0.394      -0.005\n",
            "discapacidad       -0.2352      0.094     -2.495      0.013      -0.420      -0.050\n",
            "campesino          -0.2819      0.040     -7.084      0.000      -0.360      -0.204\n",
            "hijo_primaria       0.5154      0.257      2.002      0.045       0.011       1.020\n",
            "hijo_secundaria     0.7037      0.255      2.758      0.006       0.204       1.204\n",
            "hijo_media          1.4671      0.253      5.807      0.000       0.972       1.962\n",
            "hijo_tecnica        2.1392      0.254      8.438      0.000       1.642       2.636\n",
            "hijo_pregrado       2.2840      0.253      9.017      0.000       1.788       2.780\n",
            "hijo_posgrado       2.9000      0.263     11.035      0.000       2.385       3.415\n",
            "jefe_primaria       0.3163      0.055      5.718      0.000       0.208       0.425\n",
            "jefe_secundaria     0.3687      0.060      6.110      0.000       0.250       0.487\n",
            "jefe_media          0.4476      0.058      7.694      0.000       0.334       0.562\n",
            "jefe_tecnica        0.3535      0.067      5.293      0.000       0.223       0.484\n",
            "jefe_pregrado       0.5024      0.068      7.410      0.000       0.370       0.635\n",
            "jefe_posgrado       0.4454      0.087      5.142      0.000       0.276       0.615\n",
            "urbana              0.2240      0.048      4.713      0.000       0.131       0.317\n",
            "miembros           -0.0204      0.011     -1.882      0.060      -0.042       0.001\n",
            "Ling_padres        -0.0194      0.002    -10.270      0.000      -0.023      -0.016\n",
            "internet            1.4955      0.059     25.240      0.000       1.379       1.612\n",
            "ayuda               0.2993      0.022     13.470      0.000       0.256       0.343\n",
            "hogar_nuclear       0.1982      0.030      6.630      0.000       0.140       0.257\n",
            "antioquia          -0.0099      0.058     -0.170      0.865      -0.124       0.104\n",
            "atlantico          -0.3330      0.060     -5.555      0.000      -0.451      -0.216\n",
            "bogota              0.1127      0.070      1.612      0.107      -0.024       0.250\n",
            "bolivar            -0.5860      0.059     -9.970      0.000      -0.701      -0.471\n",
            "boyaca             -0.1589      0.064     -2.485      0.013      -0.284      -0.034\n",
            "caldas              0.0678      0.062      1.089      0.276      -0.054       0.190\n",
            "caqueta            -0.5318      0.084     -6.298      0.000      -0.697      -0.366\n",
            "cauca              -0.5484      0.066     -8.369      0.000      -0.677      -0.420\n",
            "cesar              -0.6356      0.067     -9.553      0.000      -0.766      -0.505\n",
            "cordoba            -0.5182      0.074     -6.995      0.000      -0.663      -0.373\n",
            "cundinamarca       -0.0539      0.087     -0.622      0.534      -0.224       0.116\n",
            "choco              -0.4480      0.078     -5.755      0.000      -0.601      -0.295\n",
            "huila              -0.2666      0.066     -4.035      0.000      -0.396      -0.137\n",
            "guajira            -0.7049      0.076     -9.285      0.000      -0.854      -0.556\n",
            "magdalena          -0.5896      0.065     -9.128      0.000      -0.716      -0.463\n",
            "meta               -0.3609      0.072     -5.010      0.000      -0.502      -0.220\n",
            "narino             -0.6650      0.066    -10.070      0.000      -0.794      -0.536\n",
            "norte              -0.5990      0.067     -9.000      0.000      -0.729      -0.469\n",
            "quindio             0.0505      0.065      0.773      0.439      -0.078       0.179\n",
            "risaralda          -0.0168      0.060     -0.279      0.780      -0.135       0.101\n",
            "santander          -0.2431      0.061     -3.992      0.000      -0.362      -0.124\n",
            "sucre              -0.8191      0.064    -12.735      0.000      -0.945      -0.693\n",
            "tolima             -0.1038      0.068     -1.517      0.129      -0.238       0.030\n",
            "valle              -0.2482      0.066     -3.758      0.000      -0.378      -0.119\n",
            "===================================================================================\n"
          ]
        }
      ],
      "source": [
        "probit = sm.Probit(endog = y_train, exog = X_train)\n",
        "modelo_probit = probit.fit()\n",
        "print(modelo_probit.summary())"
      ]
    },
    {
      "cell_type": "code",
      "execution_count": null,
      "metadata": {
        "colab": {
          "base_uri": "https://localhost:8080/"
        },
        "id": "N1HxjjNkmjp-",
        "outputId": "86cdc6a5-f93b-4eea-e3af-0104dea541b5"
      },
      "outputs": [
        {
          "name": "stdout",
          "output_type": "stream",
          "text": [
            "\n",
            "El accuracy de test es: 77.76379651267303%\n"
          ]
        }
      ],
      "source": [
        "# Prediccion\n",
        "# ==============================================================================\n",
        "predicciones_probit = modelo_probit.predict(exog = X_test)\n",
        "clasificacion_probit = np.where(predicciones_probit < 0.5, 0, 1)\n",
        "accuracy_probit = accuracy_score(\n",
        "            y_true    = y_test,\n",
        "            y_pred    = clasificacion_probit,\n",
        "            normalize = True\n",
        "           )\n",
        "print(\"\")\n",
        "print(f\"El accuracy de test es: {100*accuracy_probit}%\")"
      ]
    },
    {
      "cell_type": "code",
      "execution_count": null,
      "metadata": {
        "colab": {
          "base_uri": "https://localhost:8080/"
        },
        "id": "pd7dg8lP3kWf",
        "outputId": "0e23c8c3-bded-46ab-9a47-65015ebf8cec"
      },
      "outputs": [
        {
          "data": {
            "text/plain": [
              "array([[3114,  506],\n",
              "       [ 731, 1212]])"
            ]
          },
          "execution_count": 275,
          "metadata": {},
          "output_type": "execute_result"
        }
      ],
      "source": [
        "# Matriz de confusión\n",
        "cm = confusion_matrix(y_test, clasificacion_probit)\n",
        "cm"
      ]
    },
    {
      "attachments": {},
      "cell_type": "markdown",
      "metadata": {
        "id": "xhy-6Ydk6f5V"
      },
      "source": [
        "### 04.3. Modelo logístico "
      ]
    },
    {
      "cell_type": "code",
      "execution_count": null,
      "metadata": {
        "id": "zyVTiwJyj1F6"
      },
      "outputs": [],
      "source": [
        "from sklearn.model_selection import train_test_split\n",
        "import statsmodels.api as sm"
      ]
    },
    {
      "cell_type": "code",
      "execution_count": null,
      "metadata": {
        "colab": {
          "base_uri": "https://localhost:8080/"
        },
        "id": "UTCDG5LGCScQ",
        "outputId": "72223855-3170-4245-f09d-601ef61ae44f"
      },
      "outputs": [
        {
          "name": "stdout",
          "output_type": "stream",
          "text": [
            "Optimization terminated successfully.\n",
            "         Current function value: 0.449161\n",
            "         Iterations 9\n",
            "                           Logit Regression Results                           \n",
            "==============================================================================\n",
            "Dep. Variable:            hijo_formal   No. Observations:                22249\n",
            "Model:                          Logit   Df Residuals:                    22197\n",
            "Method:                           MLE   Df Model:                           51\n",
            "Date:                Wed, 07 Jun 2023   Pseudo R-squ.:                  0.3100\n",
            "Time:                        19:03:45   Log-Likelihood:                -9993.4\n",
            "converged:                       True   LL-Null:                       -14483.\n",
            "Covariance Type:            nonrobust   LLR p-value:                     0.000\n",
            "===================================================================================\n",
            "                      coef    std err          z      P>|z|      [0.025      0.975]\n",
            "-----------------------------------------------------------------------------------\n",
            "const              -5.1217      0.630     -8.132      0.000      -6.356      -3.887\n",
            "hijo_mujer          0.1962      0.036      5.472      0.000       0.126       0.266\n",
            "jefe_mujer          0.0724      0.047      1.540      0.124      -0.020       0.164\n",
            "hijo_joven         -0.5025      0.044    -11.316      0.000      -0.590      -0.415\n",
            "edad_jefe           0.0132      0.002      6.191      0.000       0.009       0.017\n",
            "hijo_raza           0.0146      0.073      0.201      0.841      -0.128       0.157\n",
            "jefe_formal         0.7792      0.051     15.355      0.000       0.680       0.879\n",
            "lgbt               -0.3629      0.172     -2.114      0.035      -0.699      -0.026\n",
            "discapacidad       -0.4006      0.164     -2.438      0.015      -0.723      -0.079\n",
            "campesino          -0.4968      0.070     -7.063      0.000      -0.635      -0.359\n",
            "hijo_primaria       1.1782      0.596      1.977      0.048       0.010       2.346\n",
            "hijo_secundaria     1.5060      0.592      2.546      0.011       0.347       2.665\n",
            "hijo_media          2.9086      0.587      4.955      0.000       1.758       4.059\n",
            "hijo_tecnica        4.0321      0.588      6.857      0.000       2.880       5.185\n",
            "hijo_pregrado       4.2678      0.588      7.261      0.000       3.116       5.420\n",
            "hijo_posgrado       5.3708      0.602      8.919      0.000       4.191       6.551\n",
            "jefe_primaria       0.5927      0.102      5.818      0.000       0.393       0.792\n",
            "jefe_secundaria     0.6851      0.110      6.235      0.000       0.470       0.900\n",
            "jefe_media          0.8171      0.106      7.701      0.000       0.609       1.025\n",
            "jefe_tecnica        0.6613      0.120      5.532      0.000       0.427       0.896\n",
            "jefe_pregrado       0.8970      0.121      7.407      0.000       0.660       1.134\n",
            "jefe_posgrado       0.8246      0.153      5.399      0.000       0.525       1.124\n",
            "urbana              0.3985      0.086      4.659      0.000       0.231       0.566\n",
            "miembros           -0.0392      0.019     -2.073      0.038      -0.076      -0.002\n",
            "Ling_padres        -0.0333      0.003    -10.232      0.000      -0.040      -0.027\n",
            "internet            2.6730      0.116     23.001      0.000       2.445       2.901\n",
            "ayuda               0.5001      0.038     13.045      0.000       0.425       0.575\n",
            "hogar_nuclear       0.3456      0.052      6.674      0.000       0.244       0.447\n",
            "antioquia          -0.0066      0.099     -0.067      0.947      -0.201       0.188\n",
            "atlantico          -0.5673      0.102     -5.576      0.000      -0.767      -0.368\n",
            "bogota              0.1977      0.119      1.662      0.097      -0.035       0.431\n",
            "bolivar            -0.9970      0.100     -9.951      0.000      -1.193      -0.801\n",
            "boyaca             -0.2576      0.110     -2.352      0.019      -0.472      -0.043\n",
            "caldas              0.1141      0.107      1.063      0.288      -0.096       0.324\n",
            "caqueta            -0.8935      0.145     -6.152      0.000      -1.178      -0.609\n",
            "cauca              -0.9088      0.112     -8.118      0.000      -1.128      -0.689\n",
            "cesar              -1.0761      0.114     -9.471      0.000      -1.299      -0.853\n",
            "cordoba            -0.8766      0.127     -6.923      0.000      -1.125      -0.628\n",
            "cundinamarca       -0.0783      0.150     -0.523      0.601      -0.372       0.215\n",
            "choco              -0.7590      0.134     -5.675      0.000      -1.021      -0.497\n",
            "huila              -0.4286      0.113     -3.807      0.000      -0.649      -0.208\n",
            "guajira            -1.1655      0.129     -9.056      0.000      -1.418      -0.913\n",
            "magdalena          -1.0099      0.111     -9.097      0.000      -1.227      -0.792\n",
            "meta               -0.6282      0.124     -5.047      0.000      -0.872      -0.384\n",
            "narino             -1.1390      0.114    -10.030      0.000      -1.362      -0.916\n",
            "norte              -1.0362      0.115     -8.993      0.000      -1.262      -0.810\n",
            "quindio             0.0846      0.112      0.758      0.449      -0.134       0.303\n",
            "risaralda          -0.0194      0.103     -0.189      0.850      -0.221       0.182\n",
            "santander          -0.4240      0.104     -4.069      0.000      -0.628      -0.220\n",
            "sucre              -1.3731      0.111    -12.363      0.000      -1.591      -1.155\n",
            "tolima             -0.1662      0.116     -1.431      0.152      -0.394       0.061\n",
            "valle              -0.4104      0.113     -3.621      0.000      -0.633      -0.188\n",
            "===================================================================================\n"
          ]
        }
      ],
      "source": [
        "logit = sm.Logit(endog = y_train, exog = X_train)\n",
        "modelo_logit = logit.fit()\n",
        "print(modelo_logit.summary())"
      ]
    },
    {
      "cell_type": "code",
      "execution_count": null,
      "metadata": {
        "colab": {
          "base_uri": "https://localhost:8080/"
        },
        "id": "GF3JkYtIXy2s",
        "outputId": "3b7e33b5-1c41-48c6-e930-e7c9e9c0b609"
      },
      "outputs": [
        {
          "name": "stdout",
          "output_type": "stream",
          "text": [
            "\n",
            "El accuracy de test es: 77.76379651267303%\n"
          ]
        }
      ],
      "source": [
        "# Prediccion\n",
        "# ==============================================================================\n",
        "predicciones_logit = modelo_logit.predict(exog = X_test)\n",
        "clasificacion_logit = np.where(predicciones_logit < 0.5, 0, 1)\n",
        "accuracy_logit = accuracy_score(\n",
        "            y_true    = y_test,\n",
        "            y_pred    = clasificacion_logit,\n",
        "            normalize = True\n",
        "           )\n",
        "print(\"\")\n",
        "print(f\"El accuracy de test es: {100*accuracy_logit}%\")"
      ]
    },
    {
      "cell_type": "code",
      "execution_count": null,
      "metadata": {
        "colab": {
          "base_uri": "https://localhost:8080/"
        },
        "id": "TKoq5YdK3vC_",
        "outputId": "cce03de4-0ec9-4d89-8107-29d3068e2ff2"
      },
      "outputs": [
        {
          "data": {
            "text/plain": [
              "array([[3112,  508],\n",
              "       [ 729, 1214]])"
            ]
          },
          "execution_count": 279,
          "metadata": {},
          "output_type": "execute_result"
        }
      ],
      "source": [
        "# Matriz de confusión\n",
        "cm = confusion_matrix(y_test, clasificacion_logit)\n",
        "cm"
      ]
    },
    {
      "attachments": {},
      "cell_type": "markdown",
      "metadata": {
        "id": "uHygOeSdlNkm"
      },
      "source": [
        "## 05. Modelo seleccionado"
      ]
    },
    {
      "attachments": {},
      "cell_type": "markdown",
      "metadata": {
        "id": "usvYIlValTmT"
      },
      "source": [
        "### 05.1 Modelo logit"
      ]
    },
    {
      "cell_type": "code",
      "execution_count": null,
      "metadata": {
        "id": "865LwYCPY4nR"
      },
      "outputs": [],
      "source": [
        "var_x = ['hijo_mujer', 'hijo_joven', 'edad_jefe', 'jefe_formal', 'lgbt', 'discapacidad', 'campesino',         \n",
        "         'hijo_primaria', 'hijo_secundaria', 'hijo_media', 'hijo_tecnica', 'hijo_pregrado', 'hijo_posgrado',\n",
        "         'jefe_primaria', 'jefe_secundaria', 'jefe_media', 'jefe_tecnica', 'jefe_pregrado', 'jefe_posgrado', \n",
        "         'urbana', 'miembros', 'Ling_padres', 'internet', 'ayuda', 'hogar_nuclear', 'antioquia', 'atlantico', \n",
        "         'bogota', 'bolivar', 'boyaca', 'caldas', 'caqueta', 'cauca', 'cesar', 'cordoba', 'cundinamarca', 'choco', 'huila',\n",
        "         'guajira', 'magdalena', 'meta', 'narino', 'norte', 'quindio', 'risaralda', 'santander', 'sucre', 'tolima', 'valle']"
      ]
    },
    {
      "cell_type": "code",
      "execution_count": null,
      "metadata": {
        "id": "kwhA-flsY4nS"
      },
      "outputs": [],
      "source": [
        "var_y = ['hijo_formal']"
      ]
    },
    {
      "cell_type": "code",
      "execution_count": null,
      "metadata": {
        "id": "2b2b_ff6Y4nS"
      },
      "outputs": [],
      "source": [
        "X = muestra[var_x]"
      ]
    },
    {
      "cell_type": "code",
      "execution_count": null,
      "metadata": {
        "id": "Rc1vhNRSY4nS"
      },
      "outputs": [],
      "source": [
        "Y = muestra[var_y]"
      ]
    },
    {
      "cell_type": "code",
      "execution_count": null,
      "metadata": {
        "id": "JnQsj_vFY4nT"
      },
      "outputs": [],
      "source": [
        "# Dividir los datos en conjuntos de entrenamiento y prueba\n",
        "X_train, X_test, y_train, y_test = train_test_split(X, Y, test_size = 0.2, random_state = 42)"
      ]
    },
    {
      "cell_type": "code",
      "execution_count": null,
      "metadata": {
        "id": "p6PERHGjlf4I"
      },
      "outputs": [],
      "source": [
        "# Librerias\n",
        "# ==============================================================================\n",
        "from sklearn.linear_model import LogisticRegression"
      ]
    },
    {
      "cell_type": "code",
      "execution_count": null,
      "metadata": {
        "colab": {
          "base_uri": "https://localhost:8080/"
        },
        "id": "WH9u2kcOjtne",
        "outputId": "9ba74bbb-8c18-49fb-bd0d-43ed8f483860"
      },
      "outputs": [
        {
          "name": "stderr",
          "output_type": "stream",
          "text": [
            "/usr/local/lib/python3.10/dist-packages/sklearn/utils/validation.py:1143: DataConversionWarning: A column-vector y was passed when a 1d array was expected. Please change the shape of y to (n_samples, ), for example using ravel().\n",
            "  y = column_or_1d(y, warn=True)\n",
            "/usr/local/lib/python3.10/dist-packages/sklearn/linear_model/_logistic.py:458: ConvergenceWarning: lbfgs failed to converge (status=1):\n",
            "STOP: TOTAL NO. of ITERATIONS REACHED LIMIT.\n",
            "\n",
            "Increase the number of iterations (max_iter) or scale the data as shown in:\n",
            "    https://scikit-learn.org/stable/modules/preprocessing.html\n",
            "Please also refer to the documentation for alternative solver options:\n",
            "    https://scikit-learn.org/stable/modules/linear_model.html#logistic-regression\n",
            "  n_iter_i = _check_optimize_result(\n"
          ]
        },
        {
          "data": {
            "text/html": [
              "<style>#sk-container-id-1 {color: black;background-color: white;}#sk-container-id-1 pre{padding: 0;}#sk-container-id-1 div.sk-toggleable {background-color: white;}#sk-container-id-1 label.sk-toggleable__label {cursor: pointer;display: block;width: 100%;margin-bottom: 0;padding: 0.3em;box-sizing: border-box;text-align: center;}#sk-container-id-1 label.sk-toggleable__label-arrow:before {content: \"▸\";float: left;margin-right: 0.25em;color: #696969;}#sk-container-id-1 label.sk-toggleable__label-arrow:hover:before {color: black;}#sk-container-id-1 div.sk-estimator:hover label.sk-toggleable__label-arrow:before {color: black;}#sk-container-id-1 div.sk-toggleable__content {max-height: 0;max-width: 0;overflow: hidden;text-align: left;background-color: #f0f8ff;}#sk-container-id-1 div.sk-toggleable__content pre {margin: 0.2em;color: black;border-radius: 0.25em;background-color: #f0f8ff;}#sk-container-id-1 input.sk-toggleable__control:checked~div.sk-toggleable__content {max-height: 200px;max-width: 100%;overflow: auto;}#sk-container-id-1 input.sk-toggleable__control:checked~label.sk-toggleable__label-arrow:before {content: \"▾\";}#sk-container-id-1 div.sk-estimator input.sk-toggleable__control:checked~label.sk-toggleable__label {background-color: #d4ebff;}#sk-container-id-1 div.sk-label input.sk-toggleable__control:checked~label.sk-toggleable__label {background-color: #d4ebff;}#sk-container-id-1 input.sk-hidden--visually {border: 0;clip: rect(1px 1px 1px 1px);clip: rect(1px, 1px, 1px, 1px);height: 1px;margin: -1px;overflow: hidden;padding: 0;position: absolute;width: 1px;}#sk-container-id-1 div.sk-estimator {font-family: monospace;background-color: #f0f8ff;border: 1px dotted black;border-radius: 0.25em;box-sizing: border-box;margin-bottom: 0.5em;}#sk-container-id-1 div.sk-estimator:hover {background-color: #d4ebff;}#sk-container-id-1 div.sk-parallel-item::after {content: \"\";width: 100%;border-bottom: 1px solid gray;flex-grow: 1;}#sk-container-id-1 div.sk-label:hover label.sk-toggleable__label {background-color: #d4ebff;}#sk-container-id-1 div.sk-serial::before {content: \"\";position: absolute;border-left: 1px solid gray;box-sizing: border-box;top: 0;bottom: 0;left: 50%;z-index: 0;}#sk-container-id-1 div.sk-serial {display: flex;flex-direction: column;align-items: center;background-color: white;padding-right: 0.2em;padding-left: 0.2em;position: relative;}#sk-container-id-1 div.sk-item {position: relative;z-index: 1;}#sk-container-id-1 div.sk-parallel {display: flex;align-items: stretch;justify-content: center;background-color: white;position: relative;}#sk-container-id-1 div.sk-item::before, #sk-container-id-1 div.sk-parallel-item::before {content: \"\";position: absolute;border-left: 1px solid gray;box-sizing: border-box;top: 0;bottom: 0;left: 50%;z-index: -1;}#sk-container-id-1 div.sk-parallel-item {display: flex;flex-direction: column;z-index: 1;position: relative;background-color: white;}#sk-container-id-1 div.sk-parallel-item:first-child::after {align-self: flex-end;width: 50%;}#sk-container-id-1 div.sk-parallel-item:last-child::after {align-self: flex-start;width: 50%;}#sk-container-id-1 div.sk-parallel-item:only-child::after {width: 0;}#sk-container-id-1 div.sk-dashed-wrapped {border: 1px dashed gray;margin: 0 0.4em 0.5em 0.4em;box-sizing: border-box;padding-bottom: 0.4em;background-color: white;}#sk-container-id-1 div.sk-label label {font-family: monospace;font-weight: bold;display: inline-block;line-height: 1.2em;}#sk-container-id-1 div.sk-label-container {text-align: center;}#sk-container-id-1 div.sk-container {/* jupyter's `normalize.less` sets `[hidden] { display: none; }` but bootstrap.min.css set `[hidden] { display: none !important; }` so we also need the `!important` here to be able to override the default hidden behavior on the sphinx rendered scikit-learn.org. See: https://github.com/scikit-learn/scikit-learn/issues/21755 */display: inline-block !important;position: relative;}#sk-container-id-1 div.sk-text-repr-fallback {display: none;}</style><div id=\"sk-container-id-1\" class=\"sk-top-container\"><div class=\"sk-text-repr-fallback\"><pre>LogisticRegression()</pre><b>In a Jupyter environment, please rerun this cell to show the HTML representation or trust the notebook. <br />On GitHub, the HTML representation is unable to render, please try loading this page with nbviewer.org.</b></div><div class=\"sk-container\" hidden><div class=\"sk-item\"><div class=\"sk-estimator sk-toggleable\"><input class=\"sk-toggleable__control sk-hidden--visually\" id=\"sk-estimator-id-1\" type=\"checkbox\" checked><label for=\"sk-estimator-id-1\" class=\"sk-toggleable__label sk-toggleable__label-arrow\">LogisticRegression</label><div class=\"sk-toggleable__content\"><pre>LogisticRegression()</pre></div></div></div></div></div>"
            ],
            "text/plain": [
              "LogisticRegression()"
            ]
          },
          "execution_count": 286,
          "metadata": {},
          "output_type": "execute_result"
        }
      ],
      "source": [
        "# Con Scikit learn\n",
        "# ==============================================================================\n",
        "modelo = LogisticRegression()\n",
        "modelo.fit(X_train, y_train)"
      ]
    },
    {
      "cell_type": "code",
      "execution_count": null,
      "metadata": {
        "id": "S2eTvGQShbqY"
      },
      "outputs": [],
      "source": [
        "y_all = y_test.copy()"
      ]
    },
    {
      "attachments": {},
      "cell_type": "markdown",
      "metadata": {
        "id": "ycPVFk5EEfLL"
      },
      "source": [
        "### 05.2 Prediccion"
      ]
    },
    {
      "cell_type": "code",
      "execution_count": null,
      "metadata": {
        "id": "A7rb5SeFbOG3"
      },
      "outputs": [],
      "source": [
        "y_pred = modelo.predict(X_test)"
      ]
    },
    {
      "cell_type": "code",
      "execution_count": null,
      "metadata": {
        "id": "ZbXqH9Kce8rK"
      },
      "outputs": [],
      "source": [
        "y_all['formal_pred'] = modelo.predict(X_test)"
      ]
    },
    {
      "attachments": {},
      "cell_type": "markdown",
      "metadata": {
        "id": "1eU7FtlOEjFF"
      },
      "source": [
        "### 05.3 Precision"
      ]
    },
    {
      "cell_type": "code",
      "execution_count": null,
      "metadata": {
        "colab": {
          "base_uri": "https://localhost:8080/"
        },
        "id": "yewALSPOb_8M",
        "outputId": "e3a091ab-af92-45f4-cb40-61a14c56b65f"
      },
      "outputs": [
        {
          "name": "stdout",
          "output_type": "stream",
          "text": [
            "Precisión del modelo: 77.89%\n"
          ]
        }
      ],
      "source": [
        "accuracy = accuracy_score(y_test, y_pred)\n",
        "print('Precisión del modelo: {:.2f}%'.format(accuracy * 100))"
      ]
    },
    {
      "attachments": {},
      "cell_type": "markdown",
      "metadata": {
        "id": "uCB0Y6wiEbxS"
      },
      "source": [
        "### 05.4 Matriz de confusión"
      ]
    },
    {
      "cell_type": "code",
      "execution_count": null,
      "metadata": {
        "colab": {
          "base_uri": "https://localhost:8080/"
        },
        "id": "1Q6C2u6SkbxK",
        "outputId": "50a1d282-1538-4ca2-b013-2f2425da5068"
      },
      "outputs": [
        {
          "name": "stdout",
          "output_type": "stream",
          "text": [
            "[[3128  492]\n",
            " [ 738 1205]]\n"
          ]
        }
      ],
      "source": [
        "cm = confusion_matrix(y_test, y_pred)\n",
        "print(cm)"
      ]
    },
    {
      "cell_type": "code",
      "execution_count": null,
      "metadata": {
        "colab": {
          "base_uri": "https://localhost:8080/"
        },
        "id": "oGfxdjv-hrg6",
        "outputId": "245a0548-3f86-4b40-e559-75d68539a4cd"
      },
      "outputs": [
        {
          "data": {
            "text/plain": [
              "hijo_formal  formal_pred\n",
              "0            0              3128\n",
              "             1               492\n",
              "1            0               738\n",
              "             1              1205\n",
              "Name: formal_pred, dtype: int64"
            ]
          },
          "execution_count": 292,
          "metadata": {},
          "output_type": "execute_result"
        }
      ],
      "source": [
        "y_all.groupby(['hijo_formal','formal_pred'])['formal_pred'].count()"
      ]
    },
    {
      "attachments": {},
      "cell_type": "markdown",
      "metadata": {
        "id": "FDAZrUjeEW17"
      },
      "source": [
        "### 05.5 Visualización del modelo - Gráfica"
      ]
    },
    {
      "cell_type": "code",
      "execution_count": null,
      "metadata": {
        "colab": {
          "base_uri": "https://localhost:8080/"
        },
        "id": "0tKsiI92cV6W",
        "outputId": "ee0faf93-3fe4-499f-e0c3-308ef19abbd2"
      },
      "outputs": [
        {
          "data": {
            "image/png": "[encoded data removed]",
            "text/plain": [
              "<Figure size 640x480 with 2 Axes>"
            ]
          },
          "metadata": {},
          "output_type": "display_data"
        }
      ],
      "source": [
        "# Títulos\n",
        "class_labels = ['Informal', 'Formal']\n",
        "\n",
        "# Mapa de calor\n",
        "fig, ax = plt.subplots()\n",
        "sns.heatmap(cm, annot=True, fmt='d', cmap='Blues', ax=ax)\n",
        "\n",
        "# Etiquetas \n",
        "ax.set_xlabel('Valor predicho')\n",
        "ax.set_ylabel('Valor verdadero')\n",
        "\n",
        "# Título del gráfico\n",
        "ax.set_title('Matriz de Confusión')\n",
        "\n",
        "ax.xaxis.set_ticklabels(class_labels)\n",
        "ax.yaxis.set_ticklabels(class_labels)\n",
        "\n",
        "plt.show()"
      ]
    },
    {
      "attachments": {},
      "cell_type": "markdown",
      "metadata": {
        "id": "P4M-iUjmESFn"
      },
      "source": [
        "### 05.6 Recall"
      ]
    },
    {
      "cell_type": "code",
      "execution_count": null,
      "metadata": {
        "colab": {
          "base_uri": "https://localhost:8080/"
        },
        "id": "RJGe_X7YqPKP",
        "outputId": "29e3ef8b-3a02-49d5-bdd8-939751c75292"
      },
      "outputs": [
        {
          "name": "stdout",
          "output_type": "stream",
          "text": [
            "Recall del modelo: 62.02%\n"
          ]
        }
      ],
      "source": [
        "recall = recall_score(y_test, y_pred)\n",
        "print('Recall del modelo: {:.2f}%'.format(recall * 100))"
      ]
    },
    {
      "attachments": {},
      "cell_type": "markdown",
      "metadata": {
        "id": "zltisatJFlAA"
      },
      "source": [
        "### 05.7 Almacenar en zona Gold los resultados del modelo seleccionado"
      ]
    },
    {
      "cell_type": "code",
      "execution_count": null,
      "metadata": {
        "id": "Y3cwo3CFi1lh"
      },
      "outputs": [],
      "source": [
        "# almacenar resultados del modelo\n",
        "y_all['accuracy'] = accuracy\n",
        "y_all['recall'] = recall"
      ]
    },
    {
      "cell_type": "code",
      "execution_count": null,
      "metadata": {
        "colab": {
          "base_uri": "https://localhost:8080/"
        },
        "id": "A_pvfAbSrQKt",
        "outputId": "46ab16d7-7685-4658-b53b-30cf941aeebe"
      },
      "outputs": [
        {
          "name": "stderr",
          "output_type": "stream",
          "text": [
            "/content/spark-3.3.2-bin-hadoop3/python/pyspark/sql/pandas/conversion.py:604: FutureWarning: iteritems is deprecated and will be removed in a future version. Use .items instead.\n",
            "  [(c, t) for (_, c), t in zip(pdf_slice.iteritems(), arrow_types)]\n"
          ]
        }
      ],
      "source": [
        "# Llevar pandas a DataFrame para almacenar datos en S3\n",
        "df_spResultado =spark.createDataFrame(y_all)"
      ]
    },
    {
      "cell_type": "code",
      "execution_count": null,
      "metadata": {
        "id": "GXFqHNfkrTk3"
      },
      "outputs": [],
      "source": [
        "# Almacenar resultados en zona Gold en S3\n",
        "df_spResultado.write.mode(\"overwrite\").csv(\"s3a://integrador-grupo2/Gold/ConsolidadoFinal/Yall.csv\")"
      ]
    },
    {
      "attachments": {},
      "cell_type": "markdown",
      "metadata": {
        "id": "SVImIHKhqhT6"
      },
      "source": [
        "### 05.8 Pruebas"
      ]
    },
    {
      "attachments": {},
      "cell_type": "markdown",
      "metadata": {
        "id": "1YGb679urKLx"
      },
      "source": [
        "#### 05.9 Regularización"
      ]
    },
    {
      "cell_type": "code",
      "execution_count": null,
      "metadata": {
        "colab": {
          "base_uri": "https://localhost:8080/"
        },
        "id": "STr_k9g3bnCn",
        "outputId": "11d9cc5b-a9f8-4b86-fff0-bf4f8f1529a3"
      },
      "outputs": [
        {
          "name": "stderr",
          "output_type": "stream",
          "text": [
            "/usr/local/lib/python3.10/dist-packages/sklearn/utils/validation.py:1143: DataConversionWarning: A column-vector y was passed when a 1d array was expected. Please change the shape of y to (n_samples, ), for example using ravel().\n",
            "  y = column_or_1d(y, warn=True)\n",
            "/usr/local/lib/python3.10/dist-packages/sklearn/utils/validation.py:1143: DataConversionWarning: A column-vector y was passed when a 1d array was expected. Please change the shape of y to (n_samples, ), for example using ravel().\n",
            "  y = column_or_1d(y, warn=True)\n"
          ]
        },
        {
          "name": "stdout",
          "output_type": "stream",
          "text": [
            "Precisión del modelo con regularización L1: 77.9435556354485\n",
            "Precisión del modelo con regularización L2: 77.88962789861586\n",
            "Recall del modelo con regularización L1: 62.738033968090576\n",
            "Recall del modelo con regularización L2: 62.0174987133299\n"
          ]
        },
        {
          "name": "stderr",
          "output_type": "stream",
          "text": [
            "/usr/local/lib/python3.10/dist-packages/sklearn/linear_model/_logistic.py:458: ConvergenceWarning: lbfgs failed to converge (status=1):\n",
            "STOP: TOTAL NO. of ITERATIONS REACHED LIMIT.\n",
            "\n",
            "Increase the number of iterations (max_iter) or scale the data as shown in:\n",
            "    https://scikit-learn.org/stable/modules/preprocessing.html\n",
            "Please also refer to the documentation for alternative solver options:\n",
            "    https://scikit-learn.org/stable/modules/linear_model.html#logistic-regression\n",
            "  n_iter_i = _check_optimize_result(\n"
          ]
        }
      ],
      "source": [
        "# Acompañando los resultados presentados anteriormente se realiza una prueba de regularización\n",
        "# con el objetivo de eliminar el overfiting y robustecer los resultados.\n",
        "from sklearn.linear_model import LogisticRegression\n",
        "from sklearn.metrics import accuracy_score, recall_score\n",
        "\n",
        "# Crear una instancia del clasificador de regresión logística con regularización L1\n",
        "model_L1 = LogisticRegression(penalty='l1', solver='liblinear')\n",
        "\n",
        "# Ajustar el modelo a los datos de entrenamiento\n",
        "model_L1.fit(X_train, y_train)\n",
        "\n",
        "# Crear una instancia del clasificador de regresión logística con regularización L2\n",
        "model_L2 = LogisticRegression(penalty='l2')\n",
        "\n",
        "# Ajustar el modelo a los datos de entrenamiento\n",
        "model_L2.fit(X_train, y_train)\n",
        "\n",
        "# Realizar predicciones en los datos de prueba\n",
        "y_pred_L1 = model_L1.predict(X_test)\n",
        "y_pred_L2 = model_L2.predict(X_test)\n",
        "\n",
        "# Calcular la precisión de cada modelo\n",
        "accuracy_L1 = accuracy_score(y_test, y_pred_L1)\n",
        "accuracy_L2 = accuracy_score(y_test, y_pred_L2)\n",
        "\n",
        "print(f\"Precisión del modelo con regularización L1: {accuracy_L1*100}\")\n",
        "print(f\"Precisión del modelo con regularización L2: {accuracy_L2*100}\")\n",
        "\n",
        "# Calcular el recall de cada modelo \n",
        "recall_L1 = recall_score(y_test, y_pred_L1)\n",
        "recall_L2 = recall_score(y_test, y_pred_L2)\n",
        "\n",
        "print(f\"Recall del modelo con regularización L1: {recall_L1*100}\")\n",
        "print(f\"Recall del modelo con regularización L2: {recall_L2*100}\")"
      ]
    },
    {
      "attachments": {},
      "cell_type": "markdown",
      "metadata": {},
      "source": [
        "El resultado nos indica que para los resultados son robustos dada la cercania con el resultado en la precisión del modelo."
      ]
    },
    {
      "attachments": {},
      "cell_type": "markdown",
      "metadata": {
        "id": "__fMUsub0Fls"
      },
      "source": [
        "## 06. Generar datos para visualización"
      ]
    },
    {
      "cell_type": "code",
      "execution_count": null,
      "metadata": {
        "colab": {
          "base_uri": "https://localhost:8080/"
        },
        "id": "GFsnELM00aDv",
        "outputId": "320e935c-fe4b-4e9b-96e6-40fad19bd585"
      },
      "outputs": [
        {
          "name": "stdout",
          "output_type": "stream",
          "text": [
            "['directorio_gen', 'secuencia_p_gen', 'orden_gen', 'mes_gen', 'p3271_gen', 'p6040_gen', 'p6050_gen', 'p6080_gen', 'p6090_gen', 'p7020_ocu', 'p6100_gen', 'p3042_gen', 'clase_gen', 'dpto_gen', 'fex_c18_gen', 'p9440_ocu', 'p6920_ocu', 'oci_ocu', 'inglabo_ocu', 'p6915_ocu', 'p6426_ocu', 'p7170s1_ocu', 'p515_ocu', 'p3363_ocu', 'lgbt_numerica_gen', 'discapacidad_gen', 'dificultad_gen', 'campesina_gen', 'aux_hijo', 'hijo', 'aux_oci', 'hijo_oci', 'aux_primer', 'primer', 'aux_jefe_hom', 'aux_jefe_muj', 'jefe_hombre', 'jefe_mujer', 'hijo_hombre', 'hijo_mujer', 'aux_edad_jefe', 'edad_jefe', 'edad_hijo', 'hijo_joven', 'aux_jefe_ninguno', 'aux_jefe_primaria', 'aux_jefe_secundaria', 'aux_jefe_media', 'aux_jefe_tecnica', 'aux_jefe_pregrado', 'aux_jefe_posgrado', 'jefe_ninguno', 'jefe_primaria', 'jefe_secundaria', 'jefe_media', 'jefe_tecnica', 'jefe_pregrado', 'jefe_posgrado', 'hijo_ninguno', 'hijo_primaria', 'hijo_secundaria', 'hijo_media', 'hijo_tecnica', 'hijo_pregrado', 'hijo_posgrado', 'aux_jefe_raza', 'jefe_raza', 'hijo_raza', 'salud', 'pension', 'formal', 'aux_jefe_formal', 'aux_jefe_informal', 'jefe_formal', 'jefe_informal', 'hijo_formal', 'aux_urbana', 'aux_rural', 'urbana', 'rural', 'prueba', 'prueba2', 'miembros', 'aux', 'ing_padres', 'Ling_padres', 'jefe', 'jefe_existe', 'pareja', 'pareja_existe', 'hogar_nuclear', 'hogar_padre', 'hogar_madre', 'internet', 'ayuda', 'lgbt', 'discapacidad', 'dificultad', 'campesino', 'antioquia', 'atlantico', 'bogota', 'bolivar', 'boyaca', 'caldas', 'caqueta', 'cauca', 'cesar', 'cordoba', 'cundinamarca', 'choco', 'huila', 'guajira', 'magdalena', 'meta', 'narino', 'norte', 'quindio', 'risaralda', 'santander', 'sucre', 'tolima', 'valle', 'otros', 'hijo_mayor', 'aux_dup', 'dup', 'hijo_tiempo', 'dup2']\n"
          ]
        }
      ],
      "source": [
        "# Preparación de datos para ser presentados en tablero PowerBI\n",
        "columnas = muestra.columns.tolist()\n",
        "print(columnas)"
      ]
    },
    {
      "cell_type": "code",
      "execution_count": null,
      "metadata": {
        "id": "mcA0zMsI0mjg"
      },
      "outputs": [],
      "source": [
        "var_pbi = ['directorio_gen', 'mes_gen', 'inglabo_ocu', 'primer', 'edad_jefe', 'edad_hijo', 'hijo_joven', 'jefe_raza', 'hijo_raza', 'miembros', 'ing_padres',\n",
        "           'internet', 'ayuda', 'lgbt', 'discapacidad', 'campesino',]"
      ]
    },
    {
      "cell_type": "code",
      "execution_count": null,
      "metadata": {
        "id": "LAGakIp5shLp"
      },
      "outputs": [],
      "source": [
        "# Para visualizar en Power BI\n",
        "pbi= muestra[var_pbi]"
      ]
    },
    {
      "cell_type": "code",
      "execution_count": null,
      "metadata": {
        "colab": {
          "base_uri": "https://localhost:8080/"
        },
        "id": "1f5RT-nMOFA5",
        "outputId": "c948d7bf-80e6-452e-f196-f63a24796033"
      },
      "outputs": [
        {
          "name": "stderr",
          "output_type": "stream",
          "text": [
            "<ipython-input-302-0854c14d7228>:1: SettingWithCopyWarning: \n",
            "A value is trying to be set on a copy of a slice from a DataFrame.\n",
            "Try using .loc[row_indexer,col_indexer] = value instead\n",
            "\n",
            "See the caveats in the documentation: https://pandas.pydata.org/pandas-docs/stable/user_guide/indexing.html#returning-a-view-versus-a-copy\n",
            "  pbi['mes_gen'] = pbi['mes_gen'].astype(int)\n",
            "<ipython-input-302-0854c14d7228>:2: SettingWithCopyWarning: \n",
            "A value is trying to be set on a copy of a slice from a DataFrame.\n",
            "Try using .loc[row_indexer,col_indexer] = value instead\n",
            "\n",
            "See the caveats in the documentation: https://pandas.pydata.org/pandas-docs/stable/user_guide/indexing.html#returning-a-view-versus-a-copy\n",
            "  pbi['edad_hijo'] = pbi['edad_hijo'].astype(int)\n"
          ]
        }
      ],
      "source": [
        "pbi['mes_gen'] = pbi['mes_gen'].astype(int)\n",
        "pbi['edad_hijo'] = pbi['edad_hijo'].astype(int)"
      ]
    },
    {
      "cell_type": "code",
      "execution_count": null,
      "metadata": {
        "colab": {
          "base_uri": "https://localhost:8080/"
        },
        "id": "EDHuP89w0-Qa",
        "outputId": "3ba8b2aa-944c-4f1b-8c83-fa861c3d4850"
      },
      "outputs": [
        {
          "name": "stderr",
          "output_type": "stream",
          "text": [
            "<ipython-input-303-ef93106d357d>:2: SettingWithCopyWarning: \n",
            "A value is trying to be set on a copy of a slice from a DataFrame.\n",
            "Try using .loc[row_indexer,col_indexer] = value instead\n",
            "\n",
            "See the caveats in the documentation: https://pandas.pydata.org/pandas-docs/stable/user_guide/indexing.html#returning-a-view-versus-a-copy\n",
            "  pbi['hijo_sexo_a'] = np.where(muestra['hijo_mujer'] == 1, \"Femenino\", \"Masculino\")\n",
            "<ipython-input-303-ef93106d357d>:3: SettingWithCopyWarning: \n",
            "A value is trying to be set on a copy of a slice from a DataFrame.\n",
            "Try using .loc[row_indexer,col_indexer] = value instead\n",
            "\n",
            "See the caveats in the documentation: https://pandas.pydata.org/pandas-docs/stable/user_guide/indexing.html#returning-a-view-versus-a-copy\n",
            "  pbi['jefe_sexo_a'] = np.where(muestra['jefe_mujer'] == 1, \"Femenino\", \"Masculino\")\n"
          ]
        }
      ],
      "source": [
        "# Sexo\n",
        "pbi['hijo_sexo_a'] = np.where(muestra['hijo_mujer'] == 1, \"Femenino\", \"Masculino\")\n",
        "pbi['jefe_sexo_a'] = np.where(muestra['jefe_mujer'] == 1, \"Femenino\", \"Masculino\")"
      ]
    },
    {
      "cell_type": "code",
      "execution_count": null,
      "metadata": {
        "colab": {
          "base_uri": "https://localhost:8080/"
        },
        "id": "C3aoRTuALHCC",
        "outputId": "5a33dd4c-e153-45ee-bdf8-d2141d8152bf"
      },
      "outputs": [
        {
          "name": "stderr",
          "output_type": "stream",
          "text": [
            "<ipython-input-304-9bd6bb1079c7>:2: SettingWithCopyWarning: \n",
            "A value is trying to be set on a copy of a slice from a DataFrame.\n",
            "Try using .loc[row_indexer,col_indexer] = value instead\n",
            "\n",
            "See the caveats in the documentation: https://pandas.pydata.org/pandas-docs/stable/user_guide/indexing.html#returning-a-view-versus-a-copy\n",
            "  pbi['hijo_edu_a'] = np.where(muestra['hijo_ninguno']    == 1, \"Ninguno\", \"Primaria\")\n",
            "<ipython-input-304-9bd6bb1079c7>:3: SettingWithCopyWarning: \n",
            "A value is trying to be set on a copy of a slice from a DataFrame.\n",
            "Try using .loc[row_indexer,col_indexer] = value instead\n",
            "\n",
            "See the caveats in the documentation: https://pandas.pydata.org/pandas-docs/stable/user_guide/indexing.html#returning-a-view-versus-a-copy\n",
            "  pbi['hijo_edu_a'] = np.where(muestra['hijo_secundaria'] == 1, \"Secundaria\", pbi['hijo_edu_a'])\n",
            "<ipython-input-304-9bd6bb1079c7>:4: SettingWithCopyWarning: \n",
            "A value is trying to be set on a copy of a slice from a DataFrame.\n",
            "Try using .loc[row_indexer,col_indexer] = value instead\n",
            "\n",
            "See the caveats in the documentation: https://pandas.pydata.org/pandas-docs/stable/user_guide/indexing.html#returning-a-view-versus-a-copy\n",
            "  pbi['hijo_edu_a'] = np.where(muestra['hijo_media']      == 1, \"Media\", pbi['hijo_edu_a'])\n",
            "<ipython-input-304-9bd6bb1079c7>:5: SettingWithCopyWarning: \n",
            "A value is trying to be set on a copy of a slice from a DataFrame.\n",
            "Try using .loc[row_indexer,col_indexer] = value instead\n",
            "\n",
            "See the caveats in the documentation: https://pandas.pydata.org/pandas-docs/stable/user_guide/indexing.html#returning-a-view-versus-a-copy\n",
            "  pbi['hijo_edu_a'] = np.where(muestra['hijo_tecnica']    == 1, \"Técnica\", pbi['hijo_edu_a'])\n",
            "<ipython-input-304-9bd6bb1079c7>:6: SettingWithCopyWarning: \n",
            "A value is trying to be set on a copy of a slice from a DataFrame.\n",
            "Try using .loc[row_indexer,col_indexer] = value instead\n",
            "\n",
            "See the caveats in the documentation: https://pandas.pydata.org/pandas-docs/stable/user_guide/indexing.html#returning-a-view-versus-a-copy\n",
            "  pbi['hijo_edu_a'] = np.where(muestra['hijo_pregrado']   == 1, \"Pregrado\", pbi['hijo_edu_a'])\n",
            "<ipython-input-304-9bd6bb1079c7>:7: SettingWithCopyWarning: \n",
            "A value is trying to be set on a copy of a slice from a DataFrame.\n",
            "Try using .loc[row_indexer,col_indexer] = value instead\n",
            "\n",
            "See the caveats in the documentation: https://pandas.pydata.org/pandas-docs/stable/user_guide/indexing.html#returning-a-view-versus-a-copy\n",
            "  pbi['hijo_edu_a'] = np.where(muestra['hijo_posgrado']   == 1, \"Posgrado\", pbi['hijo_edu_a'])\n"
          ]
        }
      ],
      "source": [
        "# Educación\n",
        "pbi['hijo_edu_a'] = np.where(muestra['hijo_ninguno']    == 1, \"Ninguno\", \"Primaria\")\n",
        "pbi['hijo_edu_a'] = np.where(muestra['hijo_secundaria'] == 1, \"Secundaria\", pbi['hijo_edu_a'])\n",
        "pbi['hijo_edu_a'] = np.where(muestra['hijo_media']      == 1, \"Media\", pbi['hijo_edu_a'])\n",
        "pbi['hijo_edu_a'] = np.where(muestra['hijo_tecnica']    == 1, \"Técnica\", pbi['hijo_edu_a'])\n",
        "pbi['hijo_edu_a'] = np.where(muestra['hijo_pregrado']   == 1, \"Pregrado\", pbi['hijo_edu_a'])\n",
        "pbi['hijo_edu_a'] = np.where(muestra['hijo_posgrado']   == 1, \"Posgrado\", pbi['hijo_edu_a'])"
      ]
    },
    {
      "cell_type": "code",
      "execution_count": null,
      "metadata": {
        "colab": {
          "base_uri": "https://localhost:8080/"
        },
        "id": "pXlJBWTrMSYm",
        "outputId": "0dfd5ddb-c2c8-4f51-bc32-f4a06ee1e2ed"
      },
      "outputs": [
        {
          "name": "stderr",
          "output_type": "stream",
          "text": [
            "<ipython-input-305-599ceff26b6a>:1: SettingWithCopyWarning: \n",
            "A value is trying to be set on a copy of a slice from a DataFrame.\n",
            "Try using .loc[row_indexer,col_indexer] = value instead\n",
            "\n",
            "See the caveats in the documentation: https://pandas.pydata.org/pandas-docs/stable/user_guide/indexing.html#returning-a-view-versus-a-copy\n",
            "  pbi['jefe_edu_a'] = np.where(muestra['jefe_ninguno']    == 1, \"Ninguno\", \"Primaria\")\n",
            "<ipython-input-305-599ceff26b6a>:2: SettingWithCopyWarning: \n",
            "A value is trying to be set on a copy of a slice from a DataFrame.\n",
            "Try using .loc[row_indexer,col_indexer] = value instead\n",
            "\n",
            "See the caveats in the documentation: https://pandas.pydata.org/pandas-docs/stable/user_guide/indexing.html#returning-a-view-versus-a-copy\n",
            "  pbi['jefe_edu_a'] = np.where(muestra['jefe_secundaria'] == 1, \"Secundaria\", pbi['jefe_edu_a'])\n",
            "<ipython-input-305-599ceff26b6a>:3: SettingWithCopyWarning: \n",
            "A value is trying to be set on a copy of a slice from a DataFrame.\n",
            "Try using .loc[row_indexer,col_indexer] = value instead\n",
            "\n",
            "See the caveats in the documentation: https://pandas.pydata.org/pandas-docs/stable/user_guide/indexing.html#returning-a-view-versus-a-copy\n",
            "  pbi['jefe_edu_a'] = np.where(muestra['jefe_media']      == 1, \"Media\", pbi['jefe_edu_a'])\n",
            "<ipython-input-305-599ceff26b6a>:4: SettingWithCopyWarning: \n",
            "A value is trying to be set on a copy of a slice from a DataFrame.\n",
            "Try using .loc[row_indexer,col_indexer] = value instead\n",
            "\n",
            "See the caveats in the documentation: https://pandas.pydata.org/pandas-docs/stable/user_guide/indexing.html#returning-a-view-versus-a-copy\n",
            "  pbi['jefe_edu_a'] = np.where(muestra['jefe_tecnica']    == 1, \"Técnica\", pbi['jefe_edu_a'])\n",
            "<ipython-input-305-599ceff26b6a>:5: SettingWithCopyWarning: \n",
            "A value is trying to be set on a copy of a slice from a DataFrame.\n",
            "Try using .loc[row_indexer,col_indexer] = value instead\n",
            "\n",
            "See the caveats in the documentation: https://pandas.pydata.org/pandas-docs/stable/user_guide/indexing.html#returning-a-view-versus-a-copy\n",
            "  pbi['jefe_edu_a'] = np.where(muestra['jefe_pregrado']   == 1, \"Pregrado\", pbi['jefe_edu_a'])\n",
            "<ipython-input-305-599ceff26b6a>:6: SettingWithCopyWarning: \n",
            "A value is trying to be set on a copy of a slice from a DataFrame.\n",
            "Try using .loc[row_indexer,col_indexer] = value instead\n",
            "\n",
            "See the caveats in the documentation: https://pandas.pydata.org/pandas-docs/stable/user_guide/indexing.html#returning-a-view-versus-a-copy\n",
            "  pbi['jefe_edu_a'] = np.where(muestra['jefe_posgrado']   == 1, \"Posgrado\", pbi['jefe_edu_a'])\n"
          ]
        }
      ],
      "source": [
        "pbi['jefe_edu_a'] = np.where(muestra['jefe_ninguno']    == 1, \"Ninguno\", \"Primaria\")\n",
        "pbi['jefe_edu_a'] = np.where(muestra['jefe_secundaria'] == 1, \"Secundaria\", pbi['jefe_edu_a'])\n",
        "pbi['jefe_edu_a'] = np.where(muestra['jefe_media']      == 1, \"Media\", pbi['jefe_edu_a'])\n",
        "pbi['jefe_edu_a'] = np.where(muestra['jefe_tecnica']    == 1, \"Técnica\", pbi['jefe_edu_a'])\n",
        "pbi['jefe_edu_a'] = np.where(muestra['jefe_pregrado']   == 1, \"Pregrado\", pbi['jefe_edu_a'])\n",
        "pbi['jefe_edu_a'] = np.where(muestra['jefe_posgrado']   == 1, \"Posgrado\", pbi['jefe_edu_a'])"
      ]
    },
    {
      "cell_type": "code",
      "execution_count": null,
      "metadata": {
        "colab": {
          "base_uri": "https://localhost:8080/"
        },
        "id": "8CS1wijLy7BD",
        "outputId": "50f26ec5-29ba-4542-81f1-eb2cbf263ad0"
      },
      "outputs": [
        {
          "name": "stderr",
          "output_type": "stream",
          "text": [
            "<ipython-input-306-380a8ab15fe0>:2: SettingWithCopyWarning: \n",
            "A value is trying to be set on a copy of a slice from a DataFrame.\n",
            "Try using .loc[row_indexer,col_indexer] = value instead\n",
            "\n",
            "See the caveats in the documentation: https://pandas.pydata.org/pandas-docs/stable/user_guide/indexing.html#returning-a-view-versus-a-copy\n",
            "  pbi['hijo_for_a'] = np.where(muestra['hijo_formal'] == 1, \"Formal\", \"Informal\")\n",
            "<ipython-input-306-380a8ab15fe0>:3: SettingWithCopyWarning: \n",
            "A value is trying to be set on a copy of a slice from a DataFrame.\n",
            "Try using .loc[row_indexer,col_indexer] = value instead\n",
            "\n",
            "See the caveats in the documentation: https://pandas.pydata.org/pandas-docs/stable/user_guide/indexing.html#returning-a-view-versus-a-copy\n",
            "  pbi['jefe_for_a'] = np.where(muestra['jefe_formal'] == 1, \"Formal\", \"Informal\")\n"
          ]
        }
      ],
      "source": [
        "# Formalización\n",
        "pbi['hijo_for_a'] = np.where(muestra['hijo_formal'] == 1, \"Formal\", \"Informal\")\n",
        "pbi['jefe_for_a'] = np.where(muestra['jefe_formal'] == 1, \"Formal\", \"Informal\")"
      ]
    },
    {
      "cell_type": "code",
      "execution_count": null,
      "metadata": {
        "colab": {
          "base_uri": "https://localhost:8080/"
        },
        "id": "yVOaPCm_12tu",
        "outputId": "61dc10fb-7f18-407c-ad94-0c6f6fd9104f"
      },
      "outputs": [
        {
          "name": "stderr",
          "output_type": "stream",
          "text": [
            "<ipython-input-307-fa1336598837>:2: SettingWithCopyWarning: \n",
            "A value is trying to be set on a copy of a slice from a DataFrame.\n",
            "Try using .loc[row_indexer,col_indexer] = value instead\n",
            "\n",
            "See the caveats in the documentation: https://pandas.pydata.org/pandas-docs/stable/user_guide/indexing.html#returning-a-view-versus-a-copy\n",
            "  pbi['zona_a'] = np.where(muestra['urbana'] == 1, \"Urbana\", \"Rural\")\n"
          ]
        }
      ],
      "source": [
        "# Zona\n",
        "pbi['zona_a'] = np.where(muestra['urbana'] == 1, \"Urbana\", \"Rural\")"
      ]
    },
    {
      "cell_type": "code",
      "execution_count": null,
      "metadata": {
        "colab": {
          "base_uri": "https://localhost:8080/"
        },
        "id": "r4Lb7qpZ2Pll",
        "outputId": "279b3104-edba-4187-e8c3-c46f278e5dfb"
      },
      "outputs": [
        {
          "name": "stderr",
          "output_type": "stream",
          "text": [
            "<ipython-input-308-1b97b07a1abc>:2: SettingWithCopyWarning: \n",
            "A value is trying to be set on a copy of a slice from a DataFrame.\n",
            "Try using .loc[row_indexer,col_indexer] = value instead\n",
            "\n",
            "See the caveats in the documentation: https://pandas.pydata.org/pandas-docs/stable/user_guide/indexing.html#returning-a-view-versus-a-copy\n",
            "  pbi['hogar_a'] = np.where(muestra['hogar_padre'] == 1, \"Hogar monoparental padre\", \"Hogar monoparental madre\")\n",
            "<ipython-input-308-1b97b07a1abc>:3: SettingWithCopyWarning: \n",
            "A value is trying to be set on a copy of a slice from a DataFrame.\n",
            "Try using .loc[row_indexer,col_indexer] = value instead\n",
            "\n",
            "See the caveats in the documentation: https://pandas.pydata.org/pandas-docs/stable/user_guide/indexing.html#returning-a-view-versus-a-copy\n",
            "  pbi['hogar_a'] = np.where(muestra['hogar_nuclear'] == 1, \"Hogar nuclear\", pbi['hogar_a'])\n"
          ]
        }
      ],
      "source": [
        "# Hogar\n",
        "pbi['hogar_a'] = np.where(muestra['hogar_padre'] == 1, \"Hogar monoparental padre\", \"Hogar monoparental madre\")\n",
        "pbi['hogar_a'] = np.where(muestra['hogar_nuclear'] == 1, \"Hogar nuclear\", pbi['hogar_a'])"
      ]
    },
    {
      "cell_type": "code",
      "execution_count": null,
      "metadata": {
        "id": "13p4pARA_0nn"
      },
      "outputs": [],
      "source": [
        "# Departamento\n",
        "ref_dpto = {5: 'Antioquia', 8: 'Atlántico', 11: 'Bogotá', 13: 'Bolívar', 15: 'Boyacá', 17: 'Caldas', 18: 'Caquetá', 19: 'Cauca', 20: 'Cesar',\n",
        "            23: 'Córdoba', 25: 'Cundinamarca', 27: 'Chocó', 41: 'Huila', 44: 'La guajira', 47: 'Magdalena', 50: 'Meta', 52: 'Nariño', 54: 'Norte de santander',\n",
        "            63: 'Quindio', 66: 'Risaralda', 68: 'Santander', 70: 'Sucre', 73: 'Tolima', 76: 'Valle del cauca'}"
      ]
    },
    {
      "cell_type": "code",
      "execution_count": null,
      "metadata": {
        "colab": {
          "base_uri": "https://localhost:8080/"
        },
        "id": "6RFDTnliBubp",
        "outputId": "225b7c6c-1c36-40d9-e162-8d62798886cf"
      },
      "outputs": [
        {
          "name": "stderr",
          "output_type": "stream",
          "text": [
            "<ipython-input-310-bd7c70e98bd7>:1: SettingWithCopyWarning: \n",
            "A value is trying to be set on a copy of a slice from a DataFrame.\n",
            "Try using .loc[row_indexer,col_indexer] = value instead\n",
            "\n",
            "See the caveats in the documentation: https://pandas.pydata.org/pandas-docs/stable/user_guide/indexing.html#returning-a-view-versus-a-copy\n",
            "  pbi['dpto_a'] = muestra['dpto_gen'].copy()\n"
          ]
        }
      ],
      "source": [
        "pbi['dpto_a'] = muestra['dpto_gen'].copy()"
      ]
    },
    {
      "cell_type": "code",
      "execution_count": null,
      "metadata": {
        "colab": {
          "base_uri": "https://localhost:8080/"
        },
        "id": "e2My2YzLBntp",
        "outputId": "6ea2939c-c6be-42a5-fdc4-c8a46d6e6784"
      },
      "outputs": [
        {
          "name": "stderr",
          "output_type": "stream",
          "text": [
            "<ipython-input-311-70733378a7e3>:1: SettingWithCopyWarning: \n",
            "A value is trying to be set on a copy of a slice from a DataFrame.\n",
            "Try using .loc[row_indexer,col_indexer] = value instead\n",
            "\n",
            "See the caveats in the documentation: https://pandas.pydata.org/pandas-docs/stable/user_guide/indexing.html#returning-a-view-versus-a-copy\n",
            "  pbi['dpto_a'] = pbi['dpto_a'].map(ref_dpto)\n"
          ]
        }
      ],
      "source": [
        "pbi['dpto_a'] = pbi['dpto_a'].map(ref_dpto)"
      ]
    },
    {
      "cell_type": "code",
      "execution_count": null,
      "metadata": {
        "id": "WOHTL74DOlSM"
      },
      "outputs": [],
      "source": [
        "# Debido a que no se logró exponer un usuario desde Athena para consumo directo desde PowerBI, se descarga archivo csv para fuente de tablero PowerBI\n",
        "# Guardar en gold\n",
        "# pbi.to_csv(path_gold + 'pbi.csv', index=False)\n"
      ]
    },
    {
      "cell_type": "code",
      "execution_count": null,
      "metadata": {
        "colab": {
          "base_uri": "https://localhost:8080/"
        },
        "id": "90ZlYwMMq5Qf",
        "outputId": "9670f64f-7d7d-4044-c365-117acf8ff0a0"
      },
      "outputs": [
        {
          "name": "stderr",
          "output_type": "stream",
          "text": [
            "/content/spark-3.3.2-bin-hadoop3/python/pyspark/sql/pandas/conversion.py:604: FutureWarning: iteritems is deprecated and will be removed in a future version. Use .items instead.\n",
            "  [(c, t) for (_, c), t in zip(pdf_slice.iteritems(), arrow_types)]\n"
          ]
        }
      ],
      "source": [
        "df_spResultadoFinal =spark.createDataFrame(pbi)\n",
        "\n",
        "# Almacenar resultados finales para presentar en zona Gold en S3\n",
        "df_spResultadoFinal.write.mode(\"overwrite\").csv(\"s3a://integrador-grupo2/Gold/ConsolidadoFinal/ResultadoFinal.csv\")"
      ]
    },
    {
      "attachments": {},
      "cell_type": "markdown",
      "metadata": {
        "id": "4GAOiaN5S3VL"
      },
      "source": [
        "## 07. Otros Paths (sin uso)"
      ]
    },
    {
      "cell_type": "code",
      "execution_count": null,
      "metadata": {
        "id": "zXyKtruoRAUF"
      },
      "outputs": [],
      "source": [
        "# from google.colab import drive\n",
        "# drive.mount('/content/gdrive', force_remount=True)"
      ]
    },
    {
      "cell_type": "code",
      "execution_count": null,
      "metadata": {
        "id": "QOrgT5VoS5ur"
      },
      "outputs": [],
      "source": [
        "# path_bronze ='/content/gdrive/MyDrive/MCDA/2023-1/Proyecto integrador/02. Datos/01. Bronze/'\n",
        "# path_silver ='/content/gdrive/MyDrive/MCDA/2023-1/Proyecto integrador/02. Datos/02. Silver/'\n",
        "# path_gold   ='/content/gdrive/MyDrive/MCDA/2023-1/Proyecto integrador/02. Datos/03. Gold/'"
      ]
    },
    {
      "attachments": {},
      "cell_type": "markdown",
      "metadata": {
        "id": "uclIGsBPSqeV"
      },
      "source": [
        "#### Conexión Google Drive (sin uso)\n"
      ]
    },
    {
      "attachments": {},
      "cell_type": "markdown",
      "metadata": {
        "id": "OhoAtHMNY9Kf"
      },
      "source": [
        "## 08. Otros Dataset sin S3 (sin uso)"
      ]
    },
    {
      "cell_type": "code",
      "execution_count": null,
      "metadata": {
        "id": "TOHc9n4hR23M"
      },
      "outputs": [],
      "source": [
        "# # Convirtiendo en dataframe cada archivo de cada mes de los respectivos modulos\n",
        "# # ============================================================================== \n",
        "# archivos = ['Características generales, seguridad social en salud y educación.csv', 'Ocupados.csv']\n",
        "# anio = []\n",
        "\n",
        "# # Iterando \n",
        "# for i in range(1,13):\n",
        "#   print(f'mes: {i}')\n",
        "#   dfs = []\n",
        "#   path_mes = f'{path_bronze}{i:02}/'\n",
        "\n",
        "#   # Creando dataframes para cada uno de los archivos\n",
        "#   if i == 1:\n",
        "#     for filename in os.listdir(path_mes):\n",
        "#         if filename.lower() in [a.lower() for a in archivos]: \n",
        "#             df = pd.read_csv(os.path.join(path_mes, filename), sep=',', header=0, encoding='ISO-8859-1')\n",
        "#             dfs.append(df)\n",
        "#             #print(len(dfs))\n",
        "\n",
        "#   else: \n",
        "#     for filename in os.listdir(path_mes):\n",
        "#         if filename.lower() in [a.lower() for a in archivos]: \n",
        "#             df = pd.read_csv(os.path.join(path_mes, filename), sep=';', header=0, encoding='ISO-8859-1')\n",
        "#             dfs.append(df)\n",
        "#             #print(len(dfs))\n",
        "\n",
        "#   # Unificando los archivos para tener información de todo el mes\n",
        "#   merged = dfs[0]\n",
        "#   for i in range(1, len(dfs)):\n",
        "#       merged = pd.merge(merged, dfs[i], on=['DIRECTORIO', 'SECUENCIA_P', 'ORDEN'], how='outer')\n",
        "#   anio.append(merged)\n",
        "#   print(len(anio))"
      ]
    },
    {
      "cell_type": "code",
      "execution_count": null,
      "metadata": {
        "id": "xJJFgxXn2bKG"
      },
      "outputs": [],
      "source": [
        "# # Unificando los meses para tener información de todo el anio\n",
        "# # ==============================================================================\n",
        "# geih_oci_2022 = anio[0]\n",
        "# for i in range(1, len(anio)):\n",
        "#     geih_oci_2022 = geih_oci_2022.append(anio[i])"
      ]
    },
    {
      "cell_type": "code",
      "execution_count": null,
      "metadata": {
        "id": "Bfl5u2G1P7Fu"
      },
      "outputs": [],
      "source": [
        "# # Informacion que tenemos de cada mes\n",
        "# geih_oci_2022['MES'] = np.where(pd.isnull(geih_oci_2022['MES_x']), geih_oci_2022['MES_y'], geih_oci_2022['MES_x'])"
      ]
    },
    {
      "cell_type": "code",
      "execution_count": null,
      "metadata": {
        "id": "BJjlsOpDPM6z"
      },
      "outputs": [],
      "source": [
        "# geih_oci_2022.groupby('MES')[['DIRECTORIO']].count()"
      ]
    },
    {
      "cell_type": "code",
      "execution_count": null,
      "metadata": {
        "id": "tXnfneMFQCq4"
      },
      "outputs": [],
      "source": [
        "# # Unificando algunas variables \n",
        "# geih_oci_2022['CLASE']   = np.where(pd.isnull(geih_oci_2022['CLASE_x']), geih_oci_2022['CLASE_y'], geih_oci_2022['CLASE_x'])\n",
        "# geih_oci_2022['DPTO']    = np.where(pd.isnull(geih_oci_2022['DPTO_x']), geih_oci_2022['DPTO_y'], geih_oci_2022['DPTO_x'])\n",
        "# geih_oci_2022['FEX_C18'] = np.where(pd.isnull(geih_oci_2022['FEX_C18_x']), geih_oci_2022['FEX_C18_y'], geih_oci_2022['FEX_C18_x'])"
      ]
    },
    {
      "attachments": {},
      "cell_type": "markdown",
      "metadata": {
        "id": "261FZ5j8l5_d"
      },
      "source": [
        "### Almacenar en gdrive"
      ]
    },
    {
      "cell_type": "code",
      "execution_count": null,
      "metadata": {
        "id": "aMgM9-L7VvAm"
      },
      "outputs": [],
      "source": [
        "# Guardar en gdrive\n",
        "#geih_oci_2022.to_csv(path_bronze + 'geih_oci_2022.csv', index=False)"
      ]
    }
  ],
  "metadata": {
    "colab": {
      "collapsed_sections": [
        "zfTiUzlhqsJj",
        "ivjSPVs7Y2RL",
        "KM4GMnuKY4SF",
        "x4FHW9iO3CRF",
        "d67P1hQTNsNa",
        "dOG6KxKNH0ya",
        "U5JBsiY-mj11",
        "HVjy3W7BM11y",
        "E-x0COSPg71y",
        "g1h1NK0ShnI9",
        "Gul8ye56tNmP",
        "31rtSmNPL4wA",
        "0v8DXsCgNRSe",
        "ukIRZl15hVHm",
        "oxwoyHhScQc2",
        "SGlKuMBz9872",
        "nWdQ-3zW-tuE",
        "WzfFNPOkBu2B",
        "8dR7TM1ECsug",
        "tGr44pJtQW1E",
        "Ca_hO7C1R4wV",
        "MDxzxJRQ3QXO",
        "fdH3hPIt3T5k",
        "C7hjsonp3WN-",
        "n8Bfnx4t3eOm",
        "ZAAHS9Cr3ktp",
        "tQbSDxom3s-m",
        "2-GcvLpUiiE-",
        "fW3_vzUIfqeQ",
        "n2CcR77bnptX",
        "_6PWXxC16rAD",
        "aYaK9e9Tf6oM",
        "rRPe1e7j6udl",
        "uHygOeSdlNkm",
        "usvYIlValTmT",
        "ycPVFk5EEfLL",
        "1eU7FtlOEjFF",
        "uCB0Y6wiEbxS",
        "FDAZrUjeEW17",
        "P4M-iUjmESFn",
        "__fMUsub0Fls",
        "4GAOiaN5S3VL",
        "OhoAtHMNY9Kf"
      ],
      "provenance": []
    },
    "kernelspec": {
      "display_name": "Python 3",
      "name": "python3"
    },
    "language_info": {
      "name": "python",
      "version": "3.11.0"
    }
  },
  "nbformat": 4,
  "nbformat_minor": 0
}
